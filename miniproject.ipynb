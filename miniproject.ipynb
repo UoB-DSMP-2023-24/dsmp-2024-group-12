{
 "cells": [
  {
   "cell_type": "code",
   "execution_count": 1,
   "id": "3a6bd2b8",
   "metadata": {},
   "outputs": [],
   "source": [
    "import pandas as pd\n",
    "import os"
   ]
  },
  {
   "cell_type": "markdown",
   "id": "a7610fb3",
   "metadata": {},
   "source": [
    "complex.id: 成对，有31583为0\n"
   ]
  },
  {
   "cell_type": "code",
   "execution_count": 3,
   "id": "ce92115c",
   "metadata": {
    "scrolled": true
   },
   "outputs": [
    {
     "data": {
      "text/html": [
       "<div>\n",
       "<style scoped>\n",
       "    .dataframe tbody tr th:only-of-type {\n",
       "        vertical-align: middle;\n",
       "    }\n",
       "\n",
       "    .dataframe tbody tr th {\n",
       "        vertical-align: top;\n",
       "    }\n",
       "\n",
       "    .dataframe thead th {\n",
       "        text-align: right;\n",
       "    }\n",
       "</style>\n",
       "<table border=\"1\" class=\"dataframe\">\n",
       "  <thead>\n",
       "    <tr style=\"text-align: right;\">\n",
       "      <th></th>\n",
       "      <th>complex.id</th>\n",
       "      <th>gene</th>\n",
       "      <th>cdr3</th>\n",
       "      <th>v.segm</th>\n",
       "      <th>j.segm</th>\n",
       "      <th>species</th>\n",
       "      <th>mhc.a</th>\n",
       "      <th>mhc.b</th>\n",
       "      <th>mhc.class</th>\n",
       "      <th>antigen.epitope</th>\n",
       "      <th>...</th>\n",
       "      <th>antigen.species</th>\n",
       "      <th>reference.id</th>\n",
       "      <th>method</th>\n",
       "      <th>meta</th>\n",
       "      <th>cdr3fix</th>\n",
       "      <th>vdjdb.score</th>\n",
       "      <th>web.method</th>\n",
       "      <th>web.method.seq</th>\n",
       "      <th>web.cdr3fix.nc</th>\n",
       "      <th>web.cdr3fix.unmp</th>\n",
       "    </tr>\n",
       "  </thead>\n",
       "  <tbody>\n",
       "    <tr>\n",
       "      <th>0</th>\n",
       "      <td>1</td>\n",
       "      <td>TRA</td>\n",
       "      <td>CIVRAPGRADMRF</td>\n",
       "      <td>TRAV26-1*01</td>\n",
       "      <td>TRAJ43*01</td>\n",
       "      <td>HomoSapiens</td>\n",
       "      <td>HLA-B*08</td>\n",
       "      <td>B2M</td>\n",
       "      <td>MHCI</td>\n",
       "      <td>FLKEKGGL</td>\n",
       "      <td>...</td>\n",
       "      <td>HIV-1</td>\n",
       "      <td>PMID:15596521</td>\n",
       "      <td>{\"frequency\": \"\", \"identification\": \"tetramer-...</td>\n",
       "      <td>{\"cell.subset\": \"CD8+\", \"clone.id\": \"\", \"donor...</td>\n",
       "      <td>{\"cdr3\": \"CIVRAPGRADMRF\", \"cdr3_old\": \"CIVRAPG...</td>\n",
       "      <td>2</td>\n",
       "      <td>sort</td>\n",
       "      <td>sanger</td>\n",
       "      <td>no</td>\n",
       "      <td>no</td>\n",
       "    </tr>\n",
       "    <tr>\n",
       "      <th>1</th>\n",
       "      <td>1</td>\n",
       "      <td>TRB</td>\n",
       "      <td>CASSYLPGQGDHYSNQPQHF</td>\n",
       "      <td>TRBV13*01</td>\n",
       "      <td>TRBJ1-5*01</td>\n",
       "      <td>HomoSapiens</td>\n",
       "      <td>HLA-B*08</td>\n",
       "      <td>B2M</td>\n",
       "      <td>MHCI</td>\n",
       "      <td>FLKEKGGL</td>\n",
       "      <td>...</td>\n",
       "      <td>HIV-1</td>\n",
       "      <td>PMID:15596521</td>\n",
       "      <td>{\"frequency\": \"\", \"identification\": \"tetramer-...</td>\n",
       "      <td>{\"cell.subset\": \"CD8+\", \"clone.id\": \"\", \"donor...</td>\n",
       "      <td>{\"cdr3\": \"CASSYLPGQGDHYSNQPQHF\", \"cdr3_old\": \"...</td>\n",
       "      <td>2</td>\n",
       "      <td>sort</td>\n",
       "      <td>sanger</td>\n",
       "      <td>no</td>\n",
       "      <td>no</td>\n",
       "    </tr>\n",
       "    <tr>\n",
       "      <th>2</th>\n",
       "      <td>0</td>\n",
       "      <td>TRB</td>\n",
       "      <td>CASSFEAGQGFFSNQPQHF</td>\n",
       "      <td>TRBV13*01</td>\n",
       "      <td>TRBJ1-5*01</td>\n",
       "      <td>HomoSapiens</td>\n",
       "      <td>HLA-B*08</td>\n",
       "      <td>B2M</td>\n",
       "      <td>MHCI</td>\n",
       "      <td>FLKEKGGL</td>\n",
       "      <td>...</td>\n",
       "      <td>HIV-1</td>\n",
       "      <td>PMID:15596521</td>\n",
       "      <td>{\"frequency\": \"\", \"identification\": \"tetramer-...</td>\n",
       "      <td>{\"cell.subset\": \"CD8+\", \"clone.id\": \"\", \"donor...</td>\n",
       "      <td>{\"cdr3\": \"CASSFEAGQGFFSNQPQHF\", \"cdr3_old\": \"C...</td>\n",
       "      <td>2</td>\n",
       "      <td>sort</td>\n",
       "      <td>sanger</td>\n",
       "      <td>no</td>\n",
       "      <td>no</td>\n",
       "    </tr>\n",
       "    <tr>\n",
       "      <th>3</th>\n",
       "      <td>2</td>\n",
       "      <td>TRA</td>\n",
       "      <td>CAVPSGAGSYQLTF</td>\n",
       "      <td>TRAV20*01</td>\n",
       "      <td>TRAJ28*01</td>\n",
       "      <td>HomoSapiens</td>\n",
       "      <td>HLA-B*08</td>\n",
       "      <td>B2M</td>\n",
       "      <td>MHCI</td>\n",
       "      <td>FLKEKGGL</td>\n",
       "      <td>...</td>\n",
       "      <td>HIV-1</td>\n",
       "      <td>PMID:15596521</td>\n",
       "      <td>{\"frequency\": \"\", \"identification\": \"tetramer-...</td>\n",
       "      <td>{\"cell.subset\": \"CD8+\", \"clone.id\": \"\", \"donor...</td>\n",
       "      <td>{\"cdr3\": \"CAVPSGAGSYQLTF\", \"cdr3_old\": \"CAVPSG...</td>\n",
       "      <td>2</td>\n",
       "      <td>sort</td>\n",
       "      <td>sanger</td>\n",
       "      <td>no</td>\n",
       "      <td>no</td>\n",
       "    </tr>\n",
       "    <tr>\n",
       "      <th>4</th>\n",
       "      <td>2</td>\n",
       "      <td>TRB</td>\n",
       "      <td>CASSFEPGQGFYSNQPQHF</td>\n",
       "      <td>TRBV13*01</td>\n",
       "      <td>TRBJ1-5*01</td>\n",
       "      <td>HomoSapiens</td>\n",
       "      <td>HLA-B*08</td>\n",
       "      <td>B2M</td>\n",
       "      <td>MHCI</td>\n",
       "      <td>FLKEKGGL</td>\n",
       "      <td>...</td>\n",
       "      <td>HIV-1</td>\n",
       "      <td>PMID:15596521</td>\n",
       "      <td>{\"frequency\": \"\", \"identification\": \"tetramer-...</td>\n",
       "      <td>{\"cell.subset\": \"CD8+\", \"clone.id\": \"\", \"donor...</td>\n",
       "      <td>{\"cdr3\": \"CASSFEPGQGFYSNQPQHF\", \"cdr3_old\": \"C...</td>\n",
       "      <td>2</td>\n",
       "      <td>sort</td>\n",
       "      <td>sanger</td>\n",
       "      <td>no</td>\n",
       "      <td>no</td>\n",
       "    </tr>\n",
       "    <tr>\n",
       "      <th>...</th>\n",
       "      <td>...</td>\n",
       "      <td>...</td>\n",
       "      <td>...</td>\n",
       "      <td>...</td>\n",
       "      <td>...</td>\n",
       "      <td>...</td>\n",
       "      <td>...</td>\n",
       "      <td>...</td>\n",
       "      <td>...</td>\n",
       "      <td>...</td>\n",
       "      <td>...</td>\n",
       "      <td>...</td>\n",
       "      <td>...</td>\n",
       "      <td>...</td>\n",
       "      <td>...</td>\n",
       "      <td>...</td>\n",
       "      <td>...</td>\n",
       "      <td>...</td>\n",
       "      <td>...</td>\n",
       "      <td>...</td>\n",
       "      <td>...</td>\n",
       "    </tr>\n",
       "    <tr>\n",
       "      <th>92766</th>\n",
       "      <td>30592</td>\n",
       "      <td>TRB</td>\n",
       "      <td>CASSPGQGGDNEQFF</td>\n",
       "      <td>TRBV7-3*01</td>\n",
       "      <td>TRBJ2-1*01</td>\n",
       "      <td>HomoSapiens</td>\n",
       "      <td>HLA-DQA1*05:01</td>\n",
       "      <td>HLA-DQB1*02:01</td>\n",
       "      <td>MHCII</td>\n",
       "      <td>PQQPFPQPEQPFP</td>\n",
       "      <td>...</td>\n",
       "      <td>Wheat</td>\n",
       "      <td>PMID:33927715</td>\n",
       "      <td>{\"frequency\": \"\", \"identification\": \"tetramer-...</td>\n",
       "      <td>{\"cell.subset\": \"CD4+\", \"clone.id\": \"\", \"donor...</td>\n",
       "      <td>{\"cdr3\": \"CASSPGQGGDNEQFF\", \"cdr3_old\": \"CASSP...</td>\n",
       "      <td>0</td>\n",
       "      <td>sort</td>\n",
       "      <td>singlecell</td>\n",
       "      <td>no</td>\n",
       "      <td>no</td>\n",
       "    </tr>\n",
       "    <tr>\n",
       "      <th>92767</th>\n",
       "      <td>30593</td>\n",
       "      <td>TRA</td>\n",
       "      <td>CAPQGATNKLIF</td>\n",
       "      <td>TRAV12-2*01</td>\n",
       "      <td>TRAJ32*01</td>\n",
       "      <td>HomoSapiens</td>\n",
       "      <td>HLA-DQA1*05:01</td>\n",
       "      <td>HLA-DQB1*02:01</td>\n",
       "      <td>MHCII</td>\n",
       "      <td>PQQPFPQPEQPFP</td>\n",
       "      <td>...</td>\n",
       "      <td>Wheat</td>\n",
       "      <td>PMID:33927715</td>\n",
       "      <td>{\"frequency\": \"\", \"identification\": \"tetramer-...</td>\n",
       "      <td>{\"cell.subset\": \"CD4+\", \"clone.id\": \"\", \"donor...</td>\n",
       "      <td>{\"cdr3\": \"CAPQGATNKLIF\", \"cdr3_old\": \"CAPQGATN...</td>\n",
       "      <td>2</td>\n",
       "      <td>sort</td>\n",
       "      <td>singlecell</td>\n",
       "      <td>no</td>\n",
       "      <td>no</td>\n",
       "    </tr>\n",
       "    <tr>\n",
       "      <th>92768</th>\n",
       "      <td>30593</td>\n",
       "      <td>TRB</td>\n",
       "      <td>CASSLGAGGQETQYF</td>\n",
       "      <td>TRBV5-1*01</td>\n",
       "      <td>TRBJ2-5*01</td>\n",
       "      <td>HomoSapiens</td>\n",
       "      <td>HLA-DQA1*05:01</td>\n",
       "      <td>HLA-DQB1*02:01</td>\n",
       "      <td>MHCII</td>\n",
       "      <td>PQQPFPQPEQPFP</td>\n",
       "      <td>...</td>\n",
       "      <td>Wheat</td>\n",
       "      <td>PMID:33927715</td>\n",
       "      <td>{\"frequency\": \"\", \"identification\": \"tetramer-...</td>\n",
       "      <td>{\"cell.subset\": \"CD4+\", \"clone.id\": \"\", \"donor...</td>\n",
       "      <td>{\"cdr3\": \"CASSLGAGGQETQYF\", \"cdr3_old\": \"CASSL...</td>\n",
       "      <td>2</td>\n",
       "      <td>sort</td>\n",
       "      <td>singlecell</td>\n",
       "      <td>no</td>\n",
       "      <td>no</td>\n",
       "    </tr>\n",
       "    <tr>\n",
       "      <th>92769</th>\n",
       "      <td>30594</td>\n",
       "      <td>TRA</td>\n",
       "      <td>CLVGGSGGYNKLIF</td>\n",
       "      <td>TRAV4*01</td>\n",
       "      <td>TRAJ4*01</td>\n",
       "      <td>HomoSapiens</td>\n",
       "      <td>HLA-DQA1*05:01</td>\n",
       "      <td>HLA-DQB1*02:01</td>\n",
       "      <td>MHCII</td>\n",
       "      <td>PQQPFPQPEQPFP</td>\n",
       "      <td>...</td>\n",
       "      <td>Wheat</td>\n",
       "      <td>PMID:33927715</td>\n",
       "      <td>{\"frequency\": \"\", \"identification\": \"tetramer-...</td>\n",
       "      <td>{\"cell.subset\": \"CD4+\", \"clone.id\": \"\", \"donor...</td>\n",
       "      <td>{\"cdr3\": \"CLVGGSGGYNKLIF\", \"cdr3_old\": \"CLVGGS...</td>\n",
       "      <td>0</td>\n",
       "      <td>sort</td>\n",
       "      <td>singlecell</td>\n",
       "      <td>no</td>\n",
       "      <td>no</td>\n",
       "    </tr>\n",
       "    <tr>\n",
       "      <th>92770</th>\n",
       "      <td>30594</td>\n",
       "      <td>TRB</td>\n",
       "      <td>CASSSTAQETQYF</td>\n",
       "      <td>TRBV11-2*01</td>\n",
       "      <td>TRBJ2-5*01</td>\n",
       "      <td>HomoSapiens</td>\n",
       "      <td>HLA-DQA1*05:01</td>\n",
       "      <td>HLA-DQB1*02:01</td>\n",
       "      <td>MHCII</td>\n",
       "      <td>PQQPFPQPEQPFP</td>\n",
       "      <td>...</td>\n",
       "      <td>Wheat</td>\n",
       "      <td>PMID:33927715</td>\n",
       "      <td>{\"frequency\": \"\", \"identification\": \"tetramer-...</td>\n",
       "      <td>{\"cell.subset\": \"CD4+\", \"clone.id\": \"\", \"donor...</td>\n",
       "      <td>{\"cdr3\": \"CASSSTAQETQYF\", \"cdr3_old\": \"CASSSTA...</td>\n",
       "      <td>0</td>\n",
       "      <td>sort</td>\n",
       "      <td>singlecell</td>\n",
       "      <td>no</td>\n",
       "      <td>no</td>\n",
       "    </tr>\n",
       "  </tbody>\n",
       "</table>\n",
       "<p>92771 rows × 21 columns</p>\n",
       "</div>"
      ],
      "text/plain": [
       "       complex.id gene                  cdr3       v.segm      j.segm  \\\n",
       "0               1  TRA         CIVRAPGRADMRF  TRAV26-1*01   TRAJ43*01   \n",
       "1               1  TRB  CASSYLPGQGDHYSNQPQHF    TRBV13*01  TRBJ1-5*01   \n",
       "2               0  TRB   CASSFEAGQGFFSNQPQHF    TRBV13*01  TRBJ1-5*01   \n",
       "3               2  TRA        CAVPSGAGSYQLTF    TRAV20*01   TRAJ28*01   \n",
       "4               2  TRB   CASSFEPGQGFYSNQPQHF    TRBV13*01  TRBJ1-5*01   \n",
       "...           ...  ...                   ...          ...         ...   \n",
       "92766       30592  TRB       CASSPGQGGDNEQFF   TRBV7-3*01  TRBJ2-1*01   \n",
       "92767       30593  TRA          CAPQGATNKLIF  TRAV12-2*01   TRAJ32*01   \n",
       "92768       30593  TRB       CASSLGAGGQETQYF   TRBV5-1*01  TRBJ2-5*01   \n",
       "92769       30594  TRA        CLVGGSGGYNKLIF     TRAV4*01    TRAJ4*01   \n",
       "92770       30594  TRB         CASSSTAQETQYF  TRBV11-2*01  TRBJ2-5*01   \n",
       "\n",
       "           species           mhc.a           mhc.b mhc.class antigen.epitope  \\\n",
       "0      HomoSapiens        HLA-B*08             B2M      MHCI        FLKEKGGL   \n",
       "1      HomoSapiens        HLA-B*08             B2M      MHCI        FLKEKGGL   \n",
       "2      HomoSapiens        HLA-B*08             B2M      MHCI        FLKEKGGL   \n",
       "3      HomoSapiens        HLA-B*08             B2M      MHCI        FLKEKGGL   \n",
       "4      HomoSapiens        HLA-B*08             B2M      MHCI        FLKEKGGL   \n",
       "...            ...             ...             ...       ...             ...   \n",
       "92766  HomoSapiens  HLA-DQA1*05:01  HLA-DQB1*02:01     MHCII   PQQPFPQPEQPFP   \n",
       "92767  HomoSapiens  HLA-DQA1*05:01  HLA-DQB1*02:01     MHCII   PQQPFPQPEQPFP   \n",
       "92768  HomoSapiens  HLA-DQA1*05:01  HLA-DQB1*02:01     MHCII   PQQPFPQPEQPFP   \n",
       "92769  HomoSapiens  HLA-DQA1*05:01  HLA-DQB1*02:01     MHCII   PQQPFPQPEQPFP   \n",
       "92770  HomoSapiens  HLA-DQA1*05:01  HLA-DQB1*02:01     MHCII   PQQPFPQPEQPFP   \n",
       "\n",
       "       ... antigen.species   reference.id  \\\n",
       "0      ...           HIV-1  PMID:15596521   \n",
       "1      ...           HIV-1  PMID:15596521   \n",
       "2      ...           HIV-1  PMID:15596521   \n",
       "3      ...           HIV-1  PMID:15596521   \n",
       "4      ...           HIV-1  PMID:15596521   \n",
       "...    ...             ...            ...   \n",
       "92766  ...           Wheat  PMID:33927715   \n",
       "92767  ...           Wheat  PMID:33927715   \n",
       "92768  ...           Wheat  PMID:33927715   \n",
       "92769  ...           Wheat  PMID:33927715   \n",
       "92770  ...           Wheat  PMID:33927715   \n",
       "\n",
       "                                                  method  \\\n",
       "0      {\"frequency\": \"\", \"identification\": \"tetramer-...   \n",
       "1      {\"frequency\": \"\", \"identification\": \"tetramer-...   \n",
       "2      {\"frequency\": \"\", \"identification\": \"tetramer-...   \n",
       "3      {\"frequency\": \"\", \"identification\": \"tetramer-...   \n",
       "4      {\"frequency\": \"\", \"identification\": \"tetramer-...   \n",
       "...                                                  ...   \n",
       "92766  {\"frequency\": \"\", \"identification\": \"tetramer-...   \n",
       "92767  {\"frequency\": \"\", \"identification\": \"tetramer-...   \n",
       "92768  {\"frequency\": \"\", \"identification\": \"tetramer-...   \n",
       "92769  {\"frequency\": \"\", \"identification\": \"tetramer-...   \n",
       "92770  {\"frequency\": \"\", \"identification\": \"tetramer-...   \n",
       "\n",
       "                                                    meta  \\\n",
       "0      {\"cell.subset\": \"CD8+\", \"clone.id\": \"\", \"donor...   \n",
       "1      {\"cell.subset\": \"CD8+\", \"clone.id\": \"\", \"donor...   \n",
       "2      {\"cell.subset\": \"CD8+\", \"clone.id\": \"\", \"donor...   \n",
       "3      {\"cell.subset\": \"CD8+\", \"clone.id\": \"\", \"donor...   \n",
       "4      {\"cell.subset\": \"CD8+\", \"clone.id\": \"\", \"donor...   \n",
       "...                                                  ...   \n",
       "92766  {\"cell.subset\": \"CD4+\", \"clone.id\": \"\", \"donor...   \n",
       "92767  {\"cell.subset\": \"CD4+\", \"clone.id\": \"\", \"donor...   \n",
       "92768  {\"cell.subset\": \"CD4+\", \"clone.id\": \"\", \"donor...   \n",
       "92769  {\"cell.subset\": \"CD4+\", \"clone.id\": \"\", \"donor...   \n",
       "92770  {\"cell.subset\": \"CD4+\", \"clone.id\": \"\", \"donor...   \n",
       "\n",
       "                                                 cdr3fix vdjdb.score  \\\n",
       "0      {\"cdr3\": \"CIVRAPGRADMRF\", \"cdr3_old\": \"CIVRAPG...           2   \n",
       "1      {\"cdr3\": \"CASSYLPGQGDHYSNQPQHF\", \"cdr3_old\": \"...           2   \n",
       "2      {\"cdr3\": \"CASSFEAGQGFFSNQPQHF\", \"cdr3_old\": \"C...           2   \n",
       "3      {\"cdr3\": \"CAVPSGAGSYQLTF\", \"cdr3_old\": \"CAVPSG...           2   \n",
       "4      {\"cdr3\": \"CASSFEPGQGFYSNQPQHF\", \"cdr3_old\": \"C...           2   \n",
       "...                                                  ...         ...   \n",
       "92766  {\"cdr3\": \"CASSPGQGGDNEQFF\", \"cdr3_old\": \"CASSP...           0   \n",
       "92767  {\"cdr3\": \"CAPQGATNKLIF\", \"cdr3_old\": \"CAPQGATN...           2   \n",
       "92768  {\"cdr3\": \"CASSLGAGGQETQYF\", \"cdr3_old\": \"CASSL...           2   \n",
       "92769  {\"cdr3\": \"CLVGGSGGYNKLIF\", \"cdr3_old\": \"CLVGGS...           0   \n",
       "92770  {\"cdr3\": \"CASSSTAQETQYF\", \"cdr3_old\": \"CASSSTA...           0   \n",
       "\n",
       "       web.method web.method.seq web.cdr3fix.nc web.cdr3fix.unmp  \n",
       "0            sort         sanger             no               no  \n",
       "1            sort         sanger             no               no  \n",
       "2            sort         sanger             no               no  \n",
       "3            sort         sanger             no               no  \n",
       "4            sort         sanger             no               no  \n",
       "...           ...            ...            ...              ...  \n",
       "92766        sort     singlecell             no               no  \n",
       "92767        sort     singlecell             no               no  \n",
       "92768        sort     singlecell             no               no  \n",
       "92769        sort     singlecell             no               no  \n",
       "92770        sort     singlecell             no               no  \n",
       "\n",
       "[92771 rows x 21 columns]"
      ]
     },
     "execution_count": 3,
     "metadata": {},
     "output_type": "execute_result"
    }
   ],
   "source": [
    "data=pd.read_csv('D:\\\\jupyter notebook\\\\vdjdb.txt', sep='\\t')\n",
    "data"
   ]
  },
  {
   "cell_type": "code",
   "execution_count": 4,
   "id": "e9fb0e9e",
   "metadata": {},
   "outputs": [],
   "source": [
    "data=data[['complex.id', 'gene', 'cdr3', 'v.segm', 'j.segm', 'mhc.a', 'mhc.b', 'mhc.class', 'antigen.epitope', 'vdjdb.score']]"
   ]
  },
  {
   "cell_type": "markdown",
   "id": "2b696ae8",
   "metadata": {},
   "source": [
    "## embedding"
   ]
  },
  {
   "cell_type": "code",
   "execution_count": null,
   "id": "0c524ce5",
   "metadata": {},
   "outputs": [],
   "source": []
  },
  {
   "cell_type": "code",
   "execution_count": null,
   "id": "c1d10784",
   "metadata": {},
   "outputs": [],
   "source": []
  },
  {
   "cell_type": "code",
   "execution_count": null,
   "id": "22ecc17a",
   "metadata": {},
   "outputs": [],
   "source": []
  },
  {
   "cell_type": "code",
   "execution_count": null,
   "id": "6dd86f5a",
   "metadata": {},
   "outputs": [],
   "source": []
  },
  {
   "cell_type": "code",
   "execution_count": 3,
   "id": "f519abc1",
   "metadata": {},
   "outputs": [],
   "source": [
    "data.head().to_csv('vdjsample.csv')"
   ]
  },
  {
   "cell_type": "code",
   "execution_count": 4,
   "id": "90d5a5e8",
   "metadata": {},
   "outputs": [],
   "source": [
    "nopair=data[data['complex.id']==0]"
   ]
  },
  {
   "cell_type": "code",
   "execution_count": 5,
   "id": "5cc33170",
   "metadata": {},
   "outputs": [
    {
     "data": {
      "text/plain": [
       "HomoSapiens      28641\n",
       "MacacaMulatta     2119\n",
       "MusMusculus        823\n",
       "Name: species, dtype: int64"
      ]
     },
     "execution_count": 5,
     "metadata": {},
     "output_type": "execute_result"
    }
   ],
   "source": [
    "nopair['species'].value_counts()"
   ]
  },
  {
   "cell_type": "code",
   "execution_count": null,
   "id": "b6418430",
   "metadata": {},
   "outputs": [],
   "source": []
  },
  {
   "cell_type": "code",
   "execution_count": 8,
   "id": "e5047f68",
   "metadata": {},
   "outputs": [
    {
     "data": {
      "text/plain": [
       "species        gene\n",
       "HomoSapiens    TRA     35643\n",
       "               TRB     49686\n",
       "MacacaMulatta  TRA        87\n",
       "               TRB      2032\n",
       "MusMusculus    TRA      2319\n",
       "               TRB      3004\n",
       "Name: complex.id, dtype: int64"
      ]
     },
     "execution_count": 8,
     "metadata": {},
     "output_type": "execute_result"
    }
   ],
   "source": [
    "data.groupby(by=['species','gene'])['complex.id'].count()"
   ]
  },
  {
   "cell_type": "code",
   "execution_count": 3,
   "id": "2428108f",
   "metadata": {},
   "outputs": [
    {
     "name": "stdout",
     "output_type": "stream",
     "text": [
      "<class 'pandas.core.frame.DataFrame'>\n",
      "RangeIndex: 92771 entries, 0 to 92770\n",
      "Data columns (total 21 columns):\n",
      " #   Column            Non-Null Count  Dtype \n",
      "---  ------            --------------  ----- \n",
      " 0   complex.id        92771 non-null  int64 \n",
      " 1   gene              92771 non-null  object\n",
      " 2   cdr3              92771 non-null  object\n",
      " 3   v.segm            92670 non-null  object\n",
      " 4   j.segm            91626 non-null  object\n",
      " 5   species           92771 non-null  object\n",
      " 6   mhc.a             92771 non-null  object\n",
      " 7   mhc.b             92771 non-null  object\n",
      " 8   mhc.class         92771 non-null  object\n",
      " 9   antigen.epitope   92771 non-null  object\n",
      " 10  antigen.gene      92709 non-null  object\n",
      " 11  antigen.species   92771 non-null  object\n",
      " 12  reference.id      91260 non-null  object\n",
      " 13  method            92771 non-null  object\n",
      " 14  meta              92771 non-null  object\n",
      " 15  cdr3fix           92771 non-null  object\n",
      " 16  vdjdb.score       92771 non-null  int64 \n",
      " 17  web.method        92771 non-null  object\n",
      " 18  web.method.seq    92771 non-null  object\n",
      " 19  web.cdr3fix.nc    92771 non-null  object\n",
      " 20  web.cdr3fix.unmp  92771 non-null  object\n",
      "dtypes: int64(2), object(19)\n",
      "memory usage: 14.9+ MB\n"
     ]
    }
   ],
   "source": [
    "data.info()"
   ]
  },
  {
   "cell_type": "code",
   "execution_count": 4,
   "id": "4672f24b",
   "metadata": {},
   "outputs": [
    {
     "data": {
      "text/html": [
       "<div>\n",
       "<style scoped>\n",
       "    .dataframe tbody tr th:only-of-type {\n",
       "        vertical-align: middle;\n",
       "    }\n",
       "\n",
       "    .dataframe tbody tr th {\n",
       "        vertical-align: top;\n",
       "    }\n",
       "\n",
       "    .dataframe thead th {\n",
       "        text-align: right;\n",
       "    }\n",
       "</style>\n",
       "<table border=\"1\" class=\"dataframe\">\n",
       "  <thead>\n",
       "    <tr style=\"text-align: right;\">\n",
       "      <th></th>\n",
       "      <th>complex.id</th>\n",
       "      <th>gene</th>\n",
       "      <th>cdr3</th>\n",
       "      <th>v.segm</th>\n",
       "      <th>j.segm</th>\n",
       "      <th>species</th>\n",
       "      <th>mhc.a</th>\n",
       "      <th>mhc.b</th>\n",
       "      <th>mhc.class</th>\n",
       "      <th>antigen.epitope</th>\n",
       "      <th>...</th>\n",
       "      <th>antigen.species</th>\n",
       "      <th>reference.id</th>\n",
       "      <th>method</th>\n",
       "      <th>meta</th>\n",
       "      <th>cdr3fix</th>\n",
       "      <th>vdjdb.score</th>\n",
       "      <th>web.method</th>\n",
       "      <th>web.method.seq</th>\n",
       "      <th>web.cdr3fix.nc</th>\n",
       "      <th>web.cdr3fix.unmp</th>\n",
       "    </tr>\n",
       "  </thead>\n",
       "  <tbody>\n",
       "    <tr>\n",
       "      <th>0</th>\n",
       "      <td>1</td>\n",
       "      <td>TRA</td>\n",
       "      <td>CIVRAPGRADMRF</td>\n",
       "      <td>TRAV26-1*01</td>\n",
       "      <td>TRAJ43*01</td>\n",
       "      <td>HomoSapiens</td>\n",
       "      <td>HLA-B*08</td>\n",
       "      <td>B2M</td>\n",
       "      <td>MHCI</td>\n",
       "      <td>FLKEKGGL</td>\n",
       "      <td>...</td>\n",
       "      <td>HIV-1</td>\n",
       "      <td>PMID:15596521</td>\n",
       "      <td>{\"frequency\": \"\", \"identification\": \"tetramer-...</td>\n",
       "      <td>{\"cell.subset\": \"CD8+\", \"clone.id\": \"\", \"donor...</td>\n",
       "      <td>{\"cdr3\": \"CIVRAPGRADMRF\", \"cdr3_old\": \"CIVRAPG...</td>\n",
       "      <td>2</td>\n",
       "      <td>sort</td>\n",
       "      <td>sanger</td>\n",
       "      <td>no</td>\n",
       "      <td>no</td>\n",
       "    </tr>\n",
       "    <tr>\n",
       "      <th>1</th>\n",
       "      <td>1</td>\n",
       "      <td>TRB</td>\n",
       "      <td>CASSYLPGQGDHYSNQPQHF</td>\n",
       "      <td>TRBV13*01</td>\n",
       "      <td>TRBJ1-5*01</td>\n",
       "      <td>HomoSapiens</td>\n",
       "      <td>HLA-B*08</td>\n",
       "      <td>B2M</td>\n",
       "      <td>MHCI</td>\n",
       "      <td>FLKEKGGL</td>\n",
       "      <td>...</td>\n",
       "      <td>HIV-1</td>\n",
       "      <td>PMID:15596521</td>\n",
       "      <td>{\"frequency\": \"\", \"identification\": \"tetramer-...</td>\n",
       "      <td>{\"cell.subset\": \"CD8+\", \"clone.id\": \"\", \"donor...</td>\n",
       "      <td>{\"cdr3\": \"CASSYLPGQGDHYSNQPQHF\", \"cdr3_old\": \"...</td>\n",
       "      <td>2</td>\n",
       "      <td>sort</td>\n",
       "      <td>sanger</td>\n",
       "      <td>no</td>\n",
       "      <td>no</td>\n",
       "    </tr>\n",
       "    <tr>\n",
       "      <th>2</th>\n",
       "      <td>0</td>\n",
       "      <td>TRB</td>\n",
       "      <td>CASSFEAGQGFFSNQPQHF</td>\n",
       "      <td>TRBV13*01</td>\n",
       "      <td>TRBJ1-5*01</td>\n",
       "      <td>HomoSapiens</td>\n",
       "      <td>HLA-B*08</td>\n",
       "      <td>B2M</td>\n",
       "      <td>MHCI</td>\n",
       "      <td>FLKEKGGL</td>\n",
       "      <td>...</td>\n",
       "      <td>HIV-1</td>\n",
       "      <td>PMID:15596521</td>\n",
       "      <td>{\"frequency\": \"\", \"identification\": \"tetramer-...</td>\n",
       "      <td>{\"cell.subset\": \"CD8+\", \"clone.id\": \"\", \"donor...</td>\n",
       "      <td>{\"cdr3\": \"CASSFEAGQGFFSNQPQHF\", \"cdr3_old\": \"C...</td>\n",
       "      <td>2</td>\n",
       "      <td>sort</td>\n",
       "      <td>sanger</td>\n",
       "      <td>no</td>\n",
       "      <td>no</td>\n",
       "    </tr>\n",
       "    <tr>\n",
       "      <th>3</th>\n",
       "      <td>2</td>\n",
       "      <td>TRA</td>\n",
       "      <td>CAVPSGAGSYQLTF</td>\n",
       "      <td>TRAV20*01</td>\n",
       "      <td>TRAJ28*01</td>\n",
       "      <td>HomoSapiens</td>\n",
       "      <td>HLA-B*08</td>\n",
       "      <td>B2M</td>\n",
       "      <td>MHCI</td>\n",
       "      <td>FLKEKGGL</td>\n",
       "      <td>...</td>\n",
       "      <td>HIV-1</td>\n",
       "      <td>PMID:15596521</td>\n",
       "      <td>{\"frequency\": \"\", \"identification\": \"tetramer-...</td>\n",
       "      <td>{\"cell.subset\": \"CD8+\", \"clone.id\": \"\", \"donor...</td>\n",
       "      <td>{\"cdr3\": \"CAVPSGAGSYQLTF\", \"cdr3_old\": \"CAVPSG...</td>\n",
       "      <td>2</td>\n",
       "      <td>sort</td>\n",
       "      <td>sanger</td>\n",
       "      <td>no</td>\n",
       "      <td>no</td>\n",
       "    </tr>\n",
       "    <tr>\n",
       "      <th>4</th>\n",
       "      <td>2</td>\n",
       "      <td>TRB</td>\n",
       "      <td>CASSFEPGQGFYSNQPQHF</td>\n",
       "      <td>TRBV13*01</td>\n",
       "      <td>TRBJ1-5*01</td>\n",
       "      <td>HomoSapiens</td>\n",
       "      <td>HLA-B*08</td>\n",
       "      <td>B2M</td>\n",
       "      <td>MHCI</td>\n",
       "      <td>FLKEKGGL</td>\n",
       "      <td>...</td>\n",
       "      <td>HIV-1</td>\n",
       "      <td>PMID:15596521</td>\n",
       "      <td>{\"frequency\": \"\", \"identification\": \"tetramer-...</td>\n",
       "      <td>{\"cell.subset\": \"CD8+\", \"clone.id\": \"\", \"donor...</td>\n",
       "      <td>{\"cdr3\": \"CASSFEPGQGFYSNQPQHF\", \"cdr3_old\": \"C...</td>\n",
       "      <td>2</td>\n",
       "      <td>sort</td>\n",
       "      <td>sanger</td>\n",
       "      <td>no</td>\n",
       "      <td>no</td>\n",
       "    </tr>\n",
       "  </tbody>\n",
       "</table>\n",
       "<p>5 rows × 21 columns</p>\n",
       "</div>"
      ],
      "text/plain": [
       "   complex.id gene                  cdr3       v.segm      j.segm  \\\n",
       "0           1  TRA         CIVRAPGRADMRF  TRAV26-1*01   TRAJ43*01   \n",
       "1           1  TRB  CASSYLPGQGDHYSNQPQHF    TRBV13*01  TRBJ1-5*01   \n",
       "2           0  TRB   CASSFEAGQGFFSNQPQHF    TRBV13*01  TRBJ1-5*01   \n",
       "3           2  TRA        CAVPSGAGSYQLTF    TRAV20*01   TRAJ28*01   \n",
       "4           2  TRB   CASSFEPGQGFYSNQPQHF    TRBV13*01  TRBJ1-5*01   \n",
       "\n",
       "       species     mhc.a mhc.b mhc.class antigen.epitope  ... antigen.species  \\\n",
       "0  HomoSapiens  HLA-B*08   B2M      MHCI        FLKEKGGL  ...           HIV-1   \n",
       "1  HomoSapiens  HLA-B*08   B2M      MHCI        FLKEKGGL  ...           HIV-1   \n",
       "2  HomoSapiens  HLA-B*08   B2M      MHCI        FLKEKGGL  ...           HIV-1   \n",
       "3  HomoSapiens  HLA-B*08   B2M      MHCI        FLKEKGGL  ...           HIV-1   \n",
       "4  HomoSapiens  HLA-B*08   B2M      MHCI        FLKEKGGL  ...           HIV-1   \n",
       "\n",
       "    reference.id                                             method  \\\n",
       "0  PMID:15596521  {\"frequency\": \"\", \"identification\": \"tetramer-...   \n",
       "1  PMID:15596521  {\"frequency\": \"\", \"identification\": \"tetramer-...   \n",
       "2  PMID:15596521  {\"frequency\": \"\", \"identification\": \"tetramer-...   \n",
       "3  PMID:15596521  {\"frequency\": \"\", \"identification\": \"tetramer-...   \n",
       "4  PMID:15596521  {\"frequency\": \"\", \"identification\": \"tetramer-...   \n",
       "\n",
       "                                                meta  \\\n",
       "0  {\"cell.subset\": \"CD8+\", \"clone.id\": \"\", \"donor...   \n",
       "1  {\"cell.subset\": \"CD8+\", \"clone.id\": \"\", \"donor...   \n",
       "2  {\"cell.subset\": \"CD8+\", \"clone.id\": \"\", \"donor...   \n",
       "3  {\"cell.subset\": \"CD8+\", \"clone.id\": \"\", \"donor...   \n",
       "4  {\"cell.subset\": \"CD8+\", \"clone.id\": \"\", \"donor...   \n",
       "\n",
       "                                             cdr3fix vdjdb.score  web.method  \\\n",
       "0  {\"cdr3\": \"CIVRAPGRADMRF\", \"cdr3_old\": \"CIVRAPG...           2        sort   \n",
       "1  {\"cdr3\": \"CASSYLPGQGDHYSNQPQHF\", \"cdr3_old\": \"...           2        sort   \n",
       "2  {\"cdr3\": \"CASSFEAGQGFFSNQPQHF\", \"cdr3_old\": \"C...           2        sort   \n",
       "3  {\"cdr3\": \"CAVPSGAGSYQLTF\", \"cdr3_old\": \"CAVPSG...           2        sort   \n",
       "4  {\"cdr3\": \"CASSFEPGQGFYSNQPQHF\", \"cdr3_old\": \"C...           2        sort   \n",
       "\n",
       "  web.method.seq web.cdr3fix.nc web.cdr3fix.unmp  \n",
       "0         sanger             no               no  \n",
       "1         sanger             no               no  \n",
       "2         sanger             no               no  \n",
       "3         sanger             no               no  \n",
       "4         sanger             no               no  \n",
       "\n",
       "[5 rows x 21 columns]"
      ]
     },
     "execution_count": 4,
     "metadata": {},
     "output_type": "execute_result"
    }
   ],
   "source": [
    "data.head()"
   ]
  },
  {
   "cell_type": "code",
   "execution_count": 5,
   "id": "96afb8cb",
   "metadata": {},
   "outputs": [
    {
     "data": {
      "text/plain": [
       "0        31583\n",
       "9518         2\n",
       "3435         2\n",
       "1386         2\n",
       "7529         2\n",
       "         ...  \n",
       "12947        2\n",
       "14994        2\n",
       "8849         2\n",
       "10896        2\n",
       "2047         2\n",
       "Name: complex.id, Length: 30595, dtype: int64"
      ]
     },
     "execution_count": 5,
     "metadata": {},
     "output_type": "execute_result"
    }
   ],
   "source": [
    "data['complex.id'].value_counts()"
   ]
  },
  {
   "cell_type": "code",
   "execution_count": 6,
   "id": "9c7bcbd5",
   "metadata": {},
   "outputs": [
    {
     "data": {
      "text/plain": [
       "CASSIRSSYEQYF         361\n",
       "CAASETSYDKVIF         157\n",
       "CASSWGGGSHYGYTF       154\n",
       "CAIGPGNMLTF           153\n",
       "CAGGGSQGNLIF          144\n",
       "                     ... \n",
       "CASSPAGFSGGATDTQYF      1\n",
       "CASAITGGSSAEQYF         1\n",
       "CSARGVEGYEQYF           1\n",
       "CASAGFSVNEQFF           1\n",
       "CASSAPDSYEQYF           1\n",
       "Name: cdr3, Length: 68994, dtype: int64"
      ]
     },
     "execution_count": 6,
     "metadata": {},
     "output_type": "execute_result"
    }
   ],
   "source": [
    "data['cdr3'].value_counts()"
   ]
  },
  {
   "cell_type": "code",
   "execution_count": 3,
   "id": "1bb27be9",
   "metadata": {},
   "outputs": [
    {
     "data": {
      "text/plain": [
       "HLA-A*03:01       29264\n",
       "HLA-A*02:01       16511\n",
       "HLA-A*02          15053\n",
       "HLA-A*11:01        5433\n",
       "HLA-B*08:01        2961\n",
       "                  ...  \n",
       "HLA-C*08:02:12        2\n",
       "HLA-B*14:02           1\n",
       "HLA-A*32:01           1\n",
       "HLA-B*52:01           1\n",
       "HLA-C*04:01           1\n",
       "Name: mhc.a, Length: 119, dtype: int64"
      ]
     },
     "execution_count": 3,
     "metadata": {},
     "output_type": "execute_result"
    }
   ],
   "source": [
    "data['mhc.a'].value_counts()"
   ]
  },
  {
   "cell_type": "code",
   "execution_count": 4,
   "id": "a7a80aca",
   "metadata": {
    "scrolled": true
   },
   "outputs": [
    {
     "data": {
      "text/plain": [
       "B2M                     88368\n",
       "HLA-DRB1*01              1215\n",
       "HLA-DPB*04:01             937\n",
       "HLA-DRB5*01:01            348\n",
       "HLA-DQB1*02:01            328\n",
       "HLA-DRB1*15               311\n",
       "HLA-DRB1*04:01            288\n",
       "HLA-DRB1*11:01            218\n",
       "HLA-DRA*01:01             119\n",
       "HLA-DRB1*07:01            113\n",
       "HLA-DRB1*15:01            112\n",
       "HLA-DRB1*01:01            101\n",
       "H-2Aa                      38\n",
       "HLA-DPB1*04:01             38\n",
       "HLA-DRB1*15:02             29\n",
       "HLA-DQB1*06:01             18\n",
       "HLA-DQB1*03:02:12          18\n",
       "HLA-DPB1*13:01             16\n",
       "H-2Eb1                     14\n",
       "HLA-DRB1*01:01:01          14\n",
       "HLA-DQB1*03:02             12\n",
       "HLA-DQB1*06:02             12\n",
       "HLA-DQB1*02:01:08          12\n",
       "HLA-DRB1*04:01:01          10\n",
       "HLA-DRB1*03:01             10\n",
       "HLA-DRB1*15:03              8\n",
       "HLA-DRB3*03:01              8\n",
       "HLA-DQB1*05:01:01:03        6\n",
       "HLA-DQB1*03:01              6\n",
       "HLA-DQB1*02                 6\n",
       "HLA-DQB1*02:02:01:01        4\n",
       "HLA-DRB1*15:01:01:04        4\n",
       "HLA-DRB3*02:02              4\n",
       "HLA-DRB1*11:01:02           4\n",
       "HLA-DRB5*01:01:01           2\n",
       "HLA-DQB1*05:01              2\n",
       "HLA-DRB5*01                 2\n",
       "HLA-DRB1*15:02:02           2\n",
       "HLA-DRB1*13:01              2\n",
       "HLA-DPB1*02:01:02           2\n",
       "HLA-DRB3*03:01:01           2\n",
       "HLA-DRB1*09:01              2\n",
       "HLA-DPB1*03:01              2\n",
       "HLA-DPB1*02:01              2\n",
       "HLA-DQB1*05:02              2\n",
       "Name: mhc.b, dtype: int64"
      ]
     },
     "execution_count": 4,
     "metadata": {},
     "output_type": "execute_result"
    }
   ],
   "source": [
    "data['mhc.b'].value_counts()"
   ]
  },
  {
   "cell_type": "code",
   "execution_count": 5,
   "id": "d5d5718d",
   "metadata": {},
   "outputs": [
    {
     "data": {
      "text/plain": [
       "MHCI     88368\n",
       "MHCII     4403\n",
       "Name: mhc.class, dtype: int64"
      ]
     },
     "execution_count": 5,
     "metadata": {},
     "output_type": "execute_result"
    }
   ],
   "source": [
    "data['mhc.class'].value_counts()"
   ]
  },
  {
   "cell_type": "code",
   "execution_count": 6,
   "id": "a7b28dea",
   "metadata": {},
   "outputs": [
    {
     "data": {
      "text/plain": [
       "IE1       28150\n",
       "M         10099\n",
       "pp65       9331\n",
       "EBNA4      5032\n",
       "Spike      4507\n",
       "          ...  \n",
       "PHLPP1        1\n",
       "RNF213        1\n",
       "CDKN2A        1\n",
       "RNF10         1\n",
       "SNX24         1\n",
       "Name: antigen.gene, Length: 268, dtype: int64"
      ]
     },
     "execution_count": 6,
     "metadata": {},
     "output_type": "execute_result"
    }
   ],
   "source": [
    "data['antigen.gene'].value_counts()"
   ]
  },
  {
   "cell_type": "code",
   "execution_count": 15,
   "id": "f0b6035f",
   "metadata": {
    "scrolled": true
   },
   "outputs": [
    {
     "data": {
      "text/plain": [
       "CMV                          38345\n",
       "InfluenzaA                   15182\n",
       "EBV                          11440\n",
       "SARS-CoV-2                   10133\n",
       "HomoSapiens                   5095\n",
       "HIV-1                         3554\n",
       "HCV                           2359\n",
       "SIV                           2119\n",
       "MCMV                          1463\n",
       "YFV                            789\n",
       "Wheat                          301\n",
       "PlasmodiumBerghei              245\n",
       "HTLV-1                         234\n",
       "DENV1                          182\n",
       "DENV3/4                        179\n",
       "HIV                            162\n",
       "HSV-2                          154\n",
       "LCMV                           151\n",
       "RSV                            125\n",
       "synthetic                       92\n",
       "VSV                             66\n",
       "M.tuberculosis                  64\n",
       "DENV2                           60\n",
       "HCoV-HKU1                       57\n",
       "TriticumAestivum                53\n",
       "MusMusculus                     50\n",
       "HPV                             28\n",
       "GallusGallus                    16\n",
       "AdV                             15\n",
       "MCPyV                           12\n",
       "Homo sapiens                    10\n",
       "StreptomycesKanamyceticus        6\n",
       "HIV1                             4\n",
       "HPV-16                           4\n",
       "ManducaSexta                     4\n",
       "Synthetic                        4\n",
       "E.Coli                           4\n",
       "SaccharomycesCerevisiae          2\n",
       "HHV                              2\n",
       "PseudomonasAeruginosa            2\n",
       "PseudomonasFluorescens           2\n",
       "SelaginellaMoellendorffii        2\n",
       "Name: antigen.species, dtype: int64"
      ]
     },
     "execution_count": 15,
     "metadata": {},
     "output_type": "execute_result"
    }
   ],
   "source": [
    "data['antigen.species'].value_counts()"
   ]
  },
  {
   "cell_type": "code",
   "execution_count": 7,
   "id": "776b1096",
   "metadata": {
    "scrolled": true
   },
   "outputs": [
    {
     "data": {
      "text/plain": [
       "https://www.10xgenomics.com/resources/application-notes/a-new-way-of-exploring-immunity-linking-highly-multiplexed-antigen-recognition-to-immune-repertoire-and-phenotype/#    40716\n",
       "PMID:28423320                                                                                                                                                                  10189\n",
       "PMID:28636592                                                                                                                                                                   5066\n",
       "PMID:34793243                                                                                                                                                                   4341\n",
       "https://github.com/antigenomics/vdjdb-db/issues/193                                                                                                                             2486\n",
       "                                                                                                                                                                               ...  \n",
       "PMID:34685626                                                                                                                                                                      2\n",
       "PMID:12530975                                                                                                                                                                      2\n",
       "PMID:14563323                                                                                                                                                                      2\n",
       "PMID:24550723                                                                                                                                                                      2\n",
       "PMID:28508865                                                                                                                                                                      2\n",
       "Name: reference.id, Length: 312, dtype: int64"
      ]
     },
     "execution_count": 7,
     "metadata": {},
     "output_type": "execute_result"
    }
   ],
   "source": [
    "data['reference.id'].value_counts()"
   ]
  },
  {
   "cell_type": "code",
   "execution_count": 8,
   "id": "932f0e96",
   "metadata": {},
   "outputs": [
    {
     "data": {
      "text/plain": [
       "0    80357\n",
       "1     8329\n",
       "2     2336\n",
       "3     1749\n",
       "Name: vdjdb.score, dtype: int64"
      ]
     },
     "execution_count": 8,
     "metadata": {},
     "output_type": "execute_result"
    }
   ],
   "source": [
    "data['vdjdb.score'].value_counts()"
   ]
  },
  {
   "cell_type": "code",
   "execution_count": 9,
   "id": "383a4001",
   "metadata": {},
   "outputs": [
    {
     "data": {
      "text/plain": [
       "singlecell    61602\n",
       "amplicon      19864\n",
       "sanger        10466\n",
       "other           839\n",
       "Name: web.method.seq, dtype: int64"
      ]
     },
     "execution_count": 9,
     "metadata": {},
     "output_type": "execute_result"
    }
   ],
   "source": [
    "data['web.method.seq'].value_counts()"
   ]
  },
  {
   "cell_type": "code",
   "execution_count": 10,
   "id": "d791eaf8",
   "metadata": {},
   "outputs": [
    {
     "data": {
      "text/plain": [
       "no     92337\n",
       "yes      434\n",
       "Name: web.cdr3fix.nc, dtype: int64"
      ]
     },
     "execution_count": 10,
     "metadata": {},
     "output_type": "execute_result"
    }
   ],
   "source": [
    "data['web.cdr3fix.nc'].value_counts()"
   ]
  },
  {
   "cell_type": "code",
   "execution_count": 14,
   "id": "f2631433",
   "metadata": {},
   "outputs": [],
   "source": [
    "data[data['web.cdr3fix.nc']=='yes'].head().to_csv('nc.csv')"
   ]
  },
  {
   "cell_type": "code",
   "execution_count": 16,
   "id": "f7880a20",
   "metadata": {},
   "outputs": [
    {
     "data": {
      "text/plain": [
       "38"
      ]
     },
     "execution_count": 16,
     "metadata": {},
     "output_type": "execute_result"
    }
   ],
   "source": [
    "data['cdr3'].apply(len).max()"
   ]
  },
  {
   "cell_type": "code",
   "execution_count": 17,
   "id": "44737b34",
   "metadata": {},
   "outputs": [
    {
     "data": {
      "text/plain": [
       "4"
      ]
     },
     "execution_count": 17,
     "metadata": {},
     "output_type": "execute_result"
    }
   ],
   "source": [
    "data['cdr3'].apply(len).min()"
   ]
  }
 ],
 "metadata": {
  "kernelspec": {
   "display_name": "python39",
   "language": "python",
   "name": "python39"
  },
  "language_info": {
   "codemirror_mode": {
    "name": "ipython",
    "version": 3
   },
   "file_extension": ".py",
   "mimetype": "text/x-python",
   "name": "python",
   "nbconvert_exporter": "python",
   "pygments_lexer": "ipython3",
   "version": "3.9.7"
  }
 },
 "nbformat": 4,
 "nbformat_minor": 5
}
