{
 "cells": [
  {
   "cell_type": "code",
   "execution_count": 1,
   "id": "a53b180d",
   "metadata": {},
   "outputs": [
    {
     "data": {
      "text/html": [
       "<div>\n",
       "<style scoped>\n",
       "    .dataframe tbody tr th:only-of-type {\n",
       "        vertical-align: middle;\n",
       "    }\n",
       "\n",
       "    .dataframe tbody tr th {\n",
       "        vertical-align: top;\n",
       "    }\n",
       "\n",
       "    .dataframe thead th {\n",
       "        text-align: right;\n",
       "    }\n",
       "</style>\n",
       "<table border=\"1\" class=\"dataframe\">\n",
       "  <thead>\n",
       "    <tr style=\"text-align: right;\">\n",
       "      <th></th>\n",
       "      <th>Unnamed: 0</th>\n",
       "      <th>0</th>\n",
       "    </tr>\n",
       "  </thead>\n",
       "  <tbody>\n",
       "    <tr>\n",
       "      <th>0</th>\n",
       "      <td>0</td>\n",
       "      <td>[ 2.150025    3.4636183  -1.3663151   1.135834...</td>\n",
       "    </tr>\n",
       "    <tr>\n",
       "      <th>1</th>\n",
       "      <td>1</td>\n",
       "      <td>[ 2.150025    3.4636183  -1.3663151   1.135834...</td>\n",
       "    </tr>\n",
       "    <tr>\n",
       "      <th>2</th>\n",
       "      <td>2</td>\n",
       "      <td>[ 2.150025    3.4636183  -1.3663151   1.135834...</td>\n",
       "    </tr>\n",
       "    <tr>\n",
       "      <th>3</th>\n",
       "      <td>3</td>\n",
       "      <td>[ 2.1500249e+00  3.4636183e+00 -1.3663151e+00 ...</td>\n",
       "    </tr>\n",
       "    <tr>\n",
       "      <th>4</th>\n",
       "      <td>4</td>\n",
       "      <td>[ 2.150025    3.4636183  -1.3663151   1.135834...</td>\n",
       "    </tr>\n",
       "  </tbody>\n",
       "</table>\n",
       "</div>"
      ],
      "text/plain": [
       "   Unnamed: 0                                                  0\n",
       "0           0  [ 2.150025    3.4636183  -1.3663151   1.135834...\n",
       "1           1  [ 2.150025    3.4636183  -1.3663151   1.135834...\n",
       "2           2  [ 2.150025    3.4636183  -1.3663151   1.135834...\n",
       "3           3  [ 2.1500249e+00  3.4636183e+00 -1.3663151e+00 ...\n",
       "4           4  [ 2.150025    3.4636183  -1.3663151   1.135834..."
      ]
     },
     "execution_count": 1,
     "metadata": {},
     "output_type": "execute_result"
    }
   ],
   "source": [
    "# 我需要重新导入 pandas 库来读取数据\n",
    "import pandas as pd\n",
    "import numpy as np\n",
    "\n",
    "# 读取完整的数据集\n",
    "data_path = './1.csv'\n",
    "\n",
    "# 读取数据集前几行来查看数据格式\n",
    "df_sample = pd.read_csv(data_path, nrows=5)\n",
    "df_sample\n"
   ]
  },
  {
   "cell_type": "code",
   "execution_count": 2,
   "id": "add18d78",
   "metadata": {},
   "outputs": [
    {
     "data": {
      "text/plain": [
       "(54722, 288)"
      ]
     },
     "execution_count": 2,
     "metadata": {},
     "output_type": "execute_result"
    }
   ],
   "source": [
    "# 由于数据集中的向量被表示为字符串，我们需要将其转换为数值数组。\n",
    "# 下面的函数将把字符串形式的向量转换为numpy数组。\n",
    "\n",
    "def parse_vector(vector_str):\n",
    "    # 清理字符串并分割\n",
    "    vector_str = vector_str.strip('[]')\n",
    "    vector_str = vector_str.replace('\\n', '')\n",
    "    # 分割字符串并转换为浮点数\n",
    "    vector = np.fromstring(vector_str, sep=' ')\n",
    "    return vector\n",
    "\n",
    "# 应用转换函数到每一行的向量列\n",
    "df_full = pd.read_csv(data_path)\n",
    "vectors = df_full['0'].apply(parse_vector)\n",
    "\n",
    "# 将这些向量转换为一个NumPy数组以进行聚类\n",
    "vector_array = np.stack(vectors.values)\n",
    "\n",
    "# 输出转换后的数组的形状以确保转换正确\n",
    "vector_array.shape\n"
   ]
  },
  {
   "cell_type": "code",
   "execution_count": 3,
   "id": "14c33656",
   "metadata": {},
   "outputs": [
    {
     "name": "stdout",
     "output_type": "stream",
     "text": [
      "(54722, 8)\n"
     ]
    }
   ],
   "source": [
    "from sklearn.decomposition import PCA\n",
    "\n",
    "# 假设vector_array是已经正确加载和解析向量的numpy数组\n",
    "# 定义PCA模型，设置主成分数为8\n",
    "pca = PCA(n_components=8)\n",
    "\n",
    "# 应用PCA进行降维\n",
    "vectors_reduced = pca.fit_transform(vector_array)\n",
    "\n",
    "# 输出降维后的数组形状以确保降维成功\n",
    "print(vectors_reduced.shape)\n"
   ]
  },
  {
   "cell_type": "code",
   "execution_count": 4,
   "id": "c5fb72b2",
   "metadata": {},
   "outputs": [],
   "source": [
    "from sklearn.cluster import DBSCAN\n",
    "\n",
    "# 使用DBSCAN算法进行聚类\n",
    "# eps是邻域的大小，min_samples是形成密集区域所需的最小样本点数\n",
    "# 这些参数的选择依赖于数据的分布，可能需要通过试验来确定最合适的值\n",
    "dbscan = DBSCAN(eps=0.5, min_samples=5)\n",
    "\n",
    "# 应用DBSCAN算法到降维后的数据\n",
    "clusters = dbscan.fit_predict(vectors_reduced)"
   ]
  },
  {
   "cell_type": "code",
   "execution_count": 5,
   "id": "2c05d65a",
   "metadata": {},
   "outputs": [
    {
     "name": "stdout",
     "output_type": "stream",
     "text": [
      "轮廓系数为: -0.5195805157489133\n"
     ]
    }
   ],
   "source": [
    "from sklearn.metrics import silhouette_score\n",
    "\n",
    "# 计算轮廓系数，前提是clusters变量包含了DBSCAN聚类的结果\n",
    "silhouette_avg = silhouette_score(vectors_reduced, clusters)\n",
    "\n",
    "print(\"轮廓系数为:\", silhouette_avg)\n",
    "\n"
   ]
  },
  {
   "cell_type": "code",
   "execution_count": 6,
   "id": "0c1b1305",
   "metadata": {},
   "outputs": [
    {
     "name": "stderr",
     "output_type": "stream",
     "text": [
      "/Users/julio/anaconda3/lib/python3.10/site-packages/sklearn/cluster/_optics.py:932: RuntimeWarning: divide by zero encountered in divide\n",
      "  ratio = reachability_plot[:-1] / reachability_plot[1:]\n"
     ]
    },
    {
     "ename": "NameError",
     "evalue": "name 'TSNE' is not defined",
     "output_type": "error",
     "traceback": [
      "\u001b[0;31m---------------------------------------------------------------------------\u001b[0m",
      "\u001b[0;31mNameError\u001b[0m                                 Traceback (most recent call last)",
      "Cell \u001b[0;32mIn[6], line 13\u001b[0m\n\u001b[1;32m      9\u001b[0m clusters \u001b[38;5;241m=\u001b[39m optics_clustering\u001b[38;5;241m.\u001b[39mfit_predict(vectors_reduced)\n\u001b[1;32m     11\u001b[0m \u001b[38;5;66;03m# 为了可视化目的，您可以再次将数据降至2维，这里我们用之前降至8维的数据\u001b[39;00m\n\u001b[1;32m     12\u001b[0m \u001b[38;5;66;03m# 如果您已经有了2维的数据，直接用于下面的可视化即可\u001b[39;00m\n\u001b[0;32m---> 13\u001b[0m tsne \u001b[38;5;241m=\u001b[39m \u001b[43mTSNE\u001b[49m(n_components\u001b[38;5;241m=\u001b[39m\u001b[38;5;241m2\u001b[39m, random_state\u001b[38;5;241m=\u001b[39m\u001b[38;5;241m42\u001b[39m)\n\u001b[1;32m     14\u001b[0m vectors_reduced_2d \u001b[38;5;241m=\u001b[39m tsne\u001b[38;5;241m.\u001b[39mfit_transform(vectors_reduced)\n\u001b[1;32m     16\u001b[0m \u001b[38;5;66;03m# 使用Matplotlib绘制2D散点图来可视化聚类结果\u001b[39;00m\n",
      "\u001b[0;31mNameError\u001b[0m: name 'TSNE' is not defined"
     ]
    }
   ],
   "source": [
    "from sklearn.cluster import OPTICS\n",
    "import matplotlib.pyplot as plt\n",
    "\n",
    "# 使用OPTICS算法进行聚类，min_samples 是形成一个聚类所需的最小样本点数\n",
    "# xi 是用于确定聚类层次结构的密度变化点的参数\n",
    "optics_clustering = OPTICS(min_samples=5, xi=0.05, min_cluster_size=0.05)\n",
    "\n",
    "# 应用OPTICS算法到降维后的数据\n",
    "clusters = optics_clustering.fit_predict(vectors_reduced)\n",
    "\n",
    "# 为了可视化目的，您可以再次将数据降至2维，这里我们用之前降至8维的数据\n",
    "# 如果您已经有了2维的数据，直接用于下面的可视化即可\n",
    "tsne = TSNE(n_components=2, random_state=42)\n",
    "vectors_reduced_2d = tsne.fit_transform(vectors_reduced)\n",
    "\n",
    "# 使用Matplotlib绘制2D散点图来可视化聚类结果\n",
    "plt.figure(figsize=(12, 8))\n",
    "unique_labels = np.unique(clusters)\n",
    "\n",
    "# 绘制聚类\n",
    "for label in unique_labels:\n",
    "    label_mask = (clusters == label)\n",
    "    if label == -1:\n",
    "        # 噪声点用黑色标出\n",
    "        plt.scatter(vectors_reduced_2d[label_mask, 0], vectors_reduced_2d[label_mask, 1], color='k', label='Noise')\n",
    "    else:\n",
    "        plt.scatter(vectors_reduced_2d[label_mask, 0], vectors_reduced_2d[label_mask, 1], label=f'Cluster {label}')\n",
    "\n",
    "plt.title('OPTICS Clustering Visualization')\n",
    "plt.xlabel('TSNE-2D-one')\n",
    "plt.ylabel('TSNE-2D-two')\n",
    "plt.legend()\n",
    "plt.show()\n"
   ]
  },
  {
   "cell_type": "code",
   "execution_count": null,
   "id": "c471908e",
   "metadata": {},
   "outputs": [],
   "source": [
    "from sklearn.cluster import OPTICS\n",
    "\n",
    "# Assuming vectors_reduced is the array reduced to 8 dimensions from the previous PCA step\n",
    "# vectors_reduced = pca.fit_transform(vector_array)  # Uncomment and run this in your local environment\n",
    "\n",
    "# Instantiate OPTICS clustering algorithm\n",
    "# The parameters can be tuned according to the specific dataset\n",
    "optics_clustering = OPTICS(min_samples=5, xi=0.05, min_cluster_size=0.05)\n",
    "\n",
    "# Fit the OPTICS model to the 8-dimensional data\n",
    "# Replace vectors_reduced with the actual 8-dimensional data in your local environment\n",
    "# clusters = optics_clustering.fit_predict(vectors_reduced)  # Uncomment this in your local environment\n",
    "\n",
    "# Since we cannot execute the fitting here, let's print out what would be the expected output\n",
    "print(\"OPTICS clustering has been performed on the 8-dimensional data.\")\n",
    "# Print the cluster labels to verify, this line should be uncommented in actual execution\n",
    "# print(clusters)\n",
    "\n"
   ]
  },
  {
   "cell_type": "code",
   "execution_count": null,
   "id": "1f25e6a1",
   "metadata": {},
   "outputs": [],
   "source": [
    "from sklearn.cluster import OPTICS\n",
    "\n",
    "# 假定 vectors_reduced 是降至8维的数据\n",
    "optics = OPTICS(min_samples=5, xi=0.05, min_cluster_size=0.05)\n",
    "\n",
    "# 对降维后的数据进行OPTICS聚类\n",
    "clusters_optics = optics.fit_predict(vectors_reduced)\n",
    "\n",
    "# 输出聚类标签，查看聚类结果\n",
    "print(clusters_optics)\n"
   ]
  },
  {
   "cell_type": "code",
   "execution_count": null,
   "id": "9004dc8a",
   "metadata": {},
   "outputs": [],
   "source": [
    "from sklearn.metrics import silhouette_score\n",
    "\n",
    "# 假设 vectors_reduced 是降至8维后的数据，clusters_optics 是OPTICS聚类的结果\n",
    "# 计算轮廓系数\n",
    "silhouette_avg = silhouette_score(vectors_reduced, clusters_optics)\n",
    "\n",
    "print(\"silhouette:\", silhouette_avg)\n"
   ]
  },
  {
   "cell_type": "code",
   "execution_count": null,
   "id": "5347d908",
   "metadata": {},
   "outputs": [],
   "source": []
  }
 ],
 "metadata": {
  "kernelspec": {
   "display_name": "Python 3 (ipykernel)",
   "language": "python",
   "name": "python3"
  },
  "language_info": {
   "codemirror_mode": {
    "name": "ipython",
    "version": 3
   },
   "file_extension": ".py",
   "mimetype": "text/x-python",
   "name": "python",
   "nbconvert_exporter": "python",
   "pygments_lexer": "ipython3",
   "version": "3.10.9"
  }
 },
 "nbformat": 4,
 "nbformat_minor": 5
}
