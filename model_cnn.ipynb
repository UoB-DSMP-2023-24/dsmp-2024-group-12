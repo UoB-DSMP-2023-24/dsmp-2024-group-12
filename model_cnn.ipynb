{
 "cells": [
  {
   "cell_type": "code",
   "execution_count": 1,
   "id": "904c5726",
   "metadata": {},
   "outputs": [],
   "source": [
    "'''load packages'''\n",
    "import pandas as pd\n",
    "import numpy as np\n",
    "import os\n",
    "from gensim.models import word2vec\n",
    "import torch.nn as nn\n",
    "import torch\n",
    "from sklearn.preprocessing import LabelEncoder\n",
    "import matplotlib.pyplot as plt\n",
    "from collections import Counter\n",
    "from sklearn.metrics import silhouette_score\n",
    "import seaborn as sns\n",
    "from sklearn.model_selection import train_test_split\n",
    "from torch import nn, optim\n",
    "from sklearn.metrics import accuracy_score, average_precision_score,precision_score,f1_score\n",
    "from torchsummary import summary"
   ]
  },
  {
   "cell_type": "code",
   "execution_count": 41,
   "id": "b9f4a620",
   "metadata": {},
   "outputs": [],
   "source": [
    "context_size = 36  # 句子长度（字词个数）\n",
    "num_embeddings = 7102  # 词典的大小(vocab_size)\n",
    "LARGE_SENTENCE_SIZE = 36  # 句子最大长度\n",
    "BATCH_SIZE = 64          # 语料批次大小\n",
    "LEARNING_RATE = 0.0001   # 学习率大小\n",
    "EMBEDDING_SIZE = 50      # 词向量维度\n",
    "KERNEL_LIST = [4,5]   # 卷积核长度\n",
    "FILTER_NUM = 100          # 每种卷积核输出通道数\n",
    "DROPOUT = 0.5             # dropout概率\n",
    "EPOCH = 50                # 训练轮次"
   ]
  },
  {
   "cell_type": "code",
   "execution_count": 3,
   "id": "84d05aef",
   "metadata": {},
   "outputs": [],
   "source": [
    "# data=pd.read_csv(\"D:\\\\jupyter notebook\\\\trb.csv\")\n",
    "data=pd.read_csv(\"D:\\\\jupyter notebook\\\\prediction.csv\")"
   ]
  },
  {
   "cell_type": "code",
   "execution_count": 4,
   "id": "af4ebddb",
   "metadata": {},
   "outputs": [
    {
     "data": {
      "text/html": [
       "<div>\n",
       "<style scoped>\n",
       "    .dataframe tbody tr th:only-of-type {\n",
       "        vertical-align: middle;\n",
       "    }\n",
       "\n",
       "    .dataframe tbody tr th {\n",
       "        vertical-align: top;\n",
       "    }\n",
       "\n",
       "    .dataframe thead th {\n",
       "        text-align: right;\n",
       "    }\n",
       "</style>\n",
       "<table border=\"1\" class=\"dataframe\">\n",
       "  <thead>\n",
       "    <tr style=\"text-align: right;\">\n",
       "      <th></th>\n",
       "      <th>cdr3</th>\n",
       "      <th>crd3_encode</th>\n",
       "      <th>j.segm</th>\n",
       "      <th>v.seg</th>\n",
       "      <th>mhc.a</th>\n",
       "      <th>mhc.b</th>\n",
       "      <th>v.seg_0</th>\n",
       "      <th>v.seg_1</th>\n",
       "      <th>v.seg_2</th>\n",
       "      <th>v.seg_3</th>\n",
       "      <th>...</th>\n",
       "      <th>mhc.a_1</th>\n",
       "      <th>mhc.a_2</th>\n",
       "      <th>mhc.a_3</th>\n",
       "      <th>mhc.a_4</th>\n",
       "      <th>mhc.a_5</th>\n",
       "      <th>mhc.a_6</th>\n",
       "      <th>mhc.b_label</th>\n",
       "      <th>mhc.class</th>\n",
       "      <th>antigen.epitope</th>\n",
       "      <th>vdjdb.score</th>\n",
       "    </tr>\n",
       "  </thead>\n",
       "  <tbody>\n",
       "    <tr>\n",
       "      <th>0</th>\n",
       "      <td>CAAAERNTGELFF</td>\n",
       "      <td>[-0.16498591005802155, -0.1462753862142563, 0....</td>\n",
       "      <td>TRBJ2-2*01</td>\n",
       "      <td>TRBV28*01</td>\n",
       "      <td>HLA-A*02</td>\n",
       "      <td>B2M</td>\n",
       "      <td>0</td>\n",
       "      <td>1</td>\n",
       "      <td>1</td>\n",
       "      <td>0</td>\n",
       "      <td>...</td>\n",
       "      <td>0</td>\n",
       "      <td>0</td>\n",
       "      <td>0</td>\n",
       "      <td>1</td>\n",
       "      <td>0</td>\n",
       "      <td>0</td>\n",
       "      <td>0</td>\n",
       "      <td>0</td>\n",
       "      <td>YLQPRTFLL</td>\n",
       "      <td>0</td>\n",
       "    </tr>\n",
       "    <tr>\n",
       "      <th>1</th>\n",
       "      <td>CAAEDPEWGAEAFF</td>\n",
       "      <td>[-0.24984240531921387, 0.38962453603744507, -0...</td>\n",
       "      <td>TRBJ1-1*01</td>\n",
       "      <td>TRBV30*01</td>\n",
       "      <td>HLA-A*03:01</td>\n",
       "      <td>B2M</td>\n",
       "      <td>0</td>\n",
       "      <td>1</td>\n",
       "      <td>1</td>\n",
       "      <td>0</td>\n",
       "      <td>...</td>\n",
       "      <td>0</td>\n",
       "      <td>0</td>\n",
       "      <td>1</td>\n",
       "      <td>1</td>\n",
       "      <td>1</td>\n",
       "      <td>1</td>\n",
       "      <td>0</td>\n",
       "      <td>0</td>\n",
       "      <td>KLGGALQAK</td>\n",
       "      <td>0</td>\n",
       "    </tr>\n",
       "    <tr>\n",
       "      <th>2</th>\n",
       "      <td>CAAGAGLSYEQYF</td>\n",
       "      <td>[-0.7613160014152527, 0.263674259185791, -0.52...</td>\n",
       "      <td>TRBJ2-7*01</td>\n",
       "      <td>TRBV27*01</td>\n",
       "      <td>HLA-A*02</td>\n",
       "      <td>B2M</td>\n",
       "      <td>0</td>\n",
       "      <td>1</td>\n",
       "      <td>0</td>\n",
       "      <td>1</td>\n",
       "      <td>...</td>\n",
       "      <td>0</td>\n",
       "      <td>0</td>\n",
       "      <td>0</td>\n",
       "      <td>1</td>\n",
       "      <td>0</td>\n",
       "      <td>0</td>\n",
       "      <td>0</td>\n",
       "      <td>0</td>\n",
       "      <td>NLVPMVATV</td>\n",
       "      <td>0</td>\n",
       "    </tr>\n",
       "    <tr>\n",
       "      <th>3</th>\n",
       "      <td>CAAGDANTGELFF</td>\n",
       "      <td>[-0.7613160014152527, 0.263674259185791, -0.52...</td>\n",
       "      <td>TRBJ2-2*01</td>\n",
       "      <td>TRBV5-1*01</td>\n",
       "      <td>HLA-A*02:01</td>\n",
       "      <td>B2M</td>\n",
       "      <td>0</td>\n",
       "      <td>1</td>\n",
       "      <td>1</td>\n",
       "      <td>1</td>\n",
       "      <td>...</td>\n",
       "      <td>0</td>\n",
       "      <td>0</td>\n",
       "      <td>0</td>\n",
       "      <td>1</td>\n",
       "      <td>0</td>\n",
       "      <td>1</td>\n",
       "      <td>0</td>\n",
       "      <td>0</td>\n",
       "      <td>YLQPRTFLL</td>\n",
       "      <td>0</td>\n",
       "    </tr>\n",
       "    <tr>\n",
       "      <th>4</th>\n",
       "      <td>CAAGEMFGLGETQYF</td>\n",
       "      <td>[-0.7613160014152527, 0.263674259185791, -0.52...</td>\n",
       "      <td>TRBJ2-5*01</td>\n",
       "      <td>TRBV4-2*01</td>\n",
       "      <td>HLA-A*03:01</td>\n",
       "      <td>B2M</td>\n",
       "      <td>0</td>\n",
       "      <td>1</td>\n",
       "      <td>1</td>\n",
       "      <td>1</td>\n",
       "      <td>...</td>\n",
       "      <td>0</td>\n",
       "      <td>0</td>\n",
       "      <td>1</td>\n",
       "      <td>1</td>\n",
       "      <td>1</td>\n",
       "      <td>1</td>\n",
       "      <td>0</td>\n",
       "      <td>0</td>\n",
       "      <td>KLGGALQAK</td>\n",
       "      <td>0</td>\n",
       "    </tr>\n",
       "    <tr>\n",
       "      <th>...</th>\n",
       "      <td>...</td>\n",
       "      <td>...</td>\n",
       "      <td>...</td>\n",
       "      <td>...</td>\n",
       "      <td>...</td>\n",
       "      <td>...</td>\n",
       "      <td>...</td>\n",
       "      <td>...</td>\n",
       "      <td>...</td>\n",
       "      <td>...</td>\n",
       "      <td>...</td>\n",
       "      <td>...</td>\n",
       "      <td>...</td>\n",
       "      <td>...</td>\n",
       "      <td>...</td>\n",
       "      <td>...</td>\n",
       "      <td>...</td>\n",
       "      <td>...</td>\n",
       "      <td>...</td>\n",
       "      <td>...</td>\n",
       "      <td>...</td>\n",
       "    </tr>\n",
       "    <tr>\n",
       "      <th>29760</th>\n",
       "      <td>CVTGQGDINEQFF</td>\n",
       "      <td>[0.07739217579364777, 0.0676565170288086, 0.14...</td>\n",
       "      <td>TRBJ2-1*01</td>\n",
       "      <td>TRBV11-1*01</td>\n",
       "      <td>HLA-A*03:01</td>\n",
       "      <td>B2M</td>\n",
       "      <td>0</td>\n",
       "      <td>0</td>\n",
       "      <td>0</td>\n",
       "      <td>1</td>\n",
       "      <td>...</td>\n",
       "      <td>0</td>\n",
       "      <td>0</td>\n",
       "      <td>1</td>\n",
       "      <td>1</td>\n",
       "      <td>1</td>\n",
       "      <td>1</td>\n",
       "      <td>0</td>\n",
       "      <td>0</td>\n",
       "      <td>KLGGALQAK</td>\n",
       "      <td>0</td>\n",
       "    </tr>\n",
       "    <tr>\n",
       "      <th>29761</th>\n",
       "      <td>CVTSAPLRQGLFNYGYTF</td>\n",
       "      <td>[0.17337776720523834, 0.1124500036239624, 0.03...</td>\n",
       "      <td>TRBJ1-2*01</td>\n",
       "      <td>TRBV24-1*01</td>\n",
       "      <td>HLA-A*02</td>\n",
       "      <td>B2M</td>\n",
       "      <td>0</td>\n",
       "      <td>1</td>\n",
       "      <td>0</td>\n",
       "      <td>1</td>\n",
       "      <td>...</td>\n",
       "      <td>0</td>\n",
       "      <td>0</td>\n",
       "      <td>0</td>\n",
       "      <td>1</td>\n",
       "      <td>0</td>\n",
       "      <td>0</td>\n",
       "      <td>0</td>\n",
       "      <td>0</td>\n",
       "      <td>GILGFVFTL</td>\n",
       "      <td>0</td>\n",
       "    </tr>\n",
       "    <tr>\n",
       "      <th>29762</th>\n",
       "      <td>CWGNTEAFF</td>\n",
       "      <td>[-0.13605011999607086, 0.22847767174243927, 0....</td>\n",
       "      <td>TRBJ1-1*01</td>\n",
       "      <td>TRBV12-4*01</td>\n",
       "      <td>HLA-A*03:01</td>\n",
       "      <td>B2M</td>\n",
       "      <td>0</td>\n",
       "      <td>0</td>\n",
       "      <td>1</td>\n",
       "      <td>0</td>\n",
       "      <td>...</td>\n",
       "      <td>0</td>\n",
       "      <td>0</td>\n",
       "      <td>1</td>\n",
       "      <td>1</td>\n",
       "      <td>1</td>\n",
       "      <td>1</td>\n",
       "      <td>0</td>\n",
       "      <td>0</td>\n",
       "      <td>KLGGALQAK</td>\n",
       "      <td>0</td>\n",
       "    </tr>\n",
       "    <tr>\n",
       "      <th>29763</th>\n",
       "      <td>IPDTGELFF</td>\n",
       "      <td>[0.6372780799865723, 0.36321160197257996, 0.24...</td>\n",
       "      <td>TRBJ2-2*01</td>\n",
       "      <td>TRBV3-1*01</td>\n",
       "      <td>HLA-DPA*01:03</td>\n",
       "      <td>HLA-DPB*04:01</td>\n",
       "      <td>0</td>\n",
       "      <td>1</td>\n",
       "      <td>1</td>\n",
       "      <td>0</td>\n",
       "      <td>...</td>\n",
       "      <td>0</td>\n",
       "      <td>1</td>\n",
       "      <td>0</td>\n",
       "      <td>0</td>\n",
       "      <td>1</td>\n",
       "      <td>0</td>\n",
       "      <td>1</td>\n",
       "      <td>1</td>\n",
       "      <td>TFEYVSQPFLMDLE</td>\n",
       "      <td>0</td>\n",
       "    </tr>\n",
       "    <tr>\n",
       "      <th>29764</th>\n",
       "      <td>SPAVHRVANNEQLF</td>\n",
       "      <td>[0.564970850944519, 0.5742573142051697, -0.137...</td>\n",
       "      <td>TRBJ2-1*01</td>\n",
       "      <td>TRBV2*01</td>\n",
       "      <td>HLA-B*07:02</td>\n",
       "      <td>B2M</td>\n",
       "      <td>0</td>\n",
       "      <td>1</td>\n",
       "      <td>0</td>\n",
       "      <td>0</td>\n",
       "      <td>...</td>\n",
       "      <td>0</td>\n",
       "      <td>1</td>\n",
       "      <td>1</td>\n",
       "      <td>1</td>\n",
       "      <td>1</td>\n",
       "      <td>0</td>\n",
       "      <td>0</td>\n",
       "      <td>0</td>\n",
       "      <td>SPRWYFYYL</td>\n",
       "      <td>0</td>\n",
       "    </tr>\n",
       "  </tbody>\n",
       "</table>\n",
       "<p>29765 rows × 27 columns</p>\n",
       "</div>"
      ],
      "text/plain": [
       "                     cdr3                                        crd3_encode  \\\n",
       "0           CAAAERNTGELFF  [-0.16498591005802155, -0.1462753862142563, 0....   \n",
       "1          CAAEDPEWGAEAFF  [-0.24984240531921387, 0.38962453603744507, -0...   \n",
       "2           CAAGAGLSYEQYF  [-0.7613160014152527, 0.263674259185791, -0.52...   \n",
       "3           CAAGDANTGELFF  [-0.7613160014152527, 0.263674259185791, -0.52...   \n",
       "4         CAAGEMFGLGETQYF  [-0.7613160014152527, 0.263674259185791, -0.52...   \n",
       "...                   ...                                                ...   \n",
       "29760       CVTGQGDINEQFF  [0.07739217579364777, 0.0676565170288086, 0.14...   \n",
       "29761  CVTSAPLRQGLFNYGYTF  [0.17337776720523834, 0.1124500036239624, 0.03...   \n",
       "29762           CWGNTEAFF  [-0.13605011999607086, 0.22847767174243927, 0....   \n",
       "29763           IPDTGELFF  [0.6372780799865723, 0.36321160197257996, 0.24...   \n",
       "29764      SPAVHRVANNEQLF  [0.564970850944519, 0.5742573142051697, -0.137...   \n",
       "\n",
       "           j.segm        v.seg          mhc.a          mhc.b  v.seg_0  \\\n",
       "0      TRBJ2-2*01    TRBV28*01       HLA-A*02            B2M        0   \n",
       "1      TRBJ1-1*01    TRBV30*01    HLA-A*03:01            B2M        0   \n",
       "2      TRBJ2-7*01    TRBV27*01       HLA-A*02            B2M        0   \n",
       "3      TRBJ2-2*01   TRBV5-1*01    HLA-A*02:01            B2M        0   \n",
       "4      TRBJ2-5*01   TRBV4-2*01    HLA-A*03:01            B2M        0   \n",
       "...           ...          ...            ...            ...      ...   \n",
       "29760  TRBJ2-1*01  TRBV11-1*01    HLA-A*03:01            B2M        0   \n",
       "29761  TRBJ1-2*01  TRBV24-1*01       HLA-A*02            B2M        0   \n",
       "29762  TRBJ1-1*01  TRBV12-4*01    HLA-A*03:01            B2M        0   \n",
       "29763  TRBJ2-2*01   TRBV3-1*01  HLA-DPA*01:03  HLA-DPB*04:01        0   \n",
       "29764  TRBJ2-1*01     TRBV2*01    HLA-B*07:02            B2M        0   \n",
       "\n",
       "       v.seg_1  v.seg_2  v.seg_3  ...  mhc.a_1  mhc.a_2  mhc.a_3  mhc.a_4  \\\n",
       "0            1        1        0  ...        0        0        0        1   \n",
       "1            1        1        0  ...        0        0        1        1   \n",
       "2            1        0        1  ...        0        0        0        1   \n",
       "3            1        1        1  ...        0        0        0        1   \n",
       "4            1        1        1  ...        0        0        1        1   \n",
       "...        ...      ...      ...  ...      ...      ...      ...      ...   \n",
       "29760        0        0        1  ...        0        0        1        1   \n",
       "29761        1        0        1  ...        0        0        0        1   \n",
       "29762        0        1        0  ...        0        0        1        1   \n",
       "29763        1        1        0  ...        0        1        0        0   \n",
       "29764        1        0        0  ...        0        1        1        1   \n",
       "\n",
       "       mhc.a_5  mhc.a_6  mhc.b_label  mhc.class  antigen.epitope  vdjdb.score  \n",
       "0            0        0            0          0        YLQPRTFLL            0  \n",
       "1            1        1            0          0        KLGGALQAK            0  \n",
       "2            0        0            0          0        NLVPMVATV            0  \n",
       "3            0        1            0          0        YLQPRTFLL            0  \n",
       "4            1        1            0          0        KLGGALQAK            0  \n",
       "...        ...      ...          ...        ...              ...          ...  \n",
       "29760        1        1            0          0        KLGGALQAK            0  \n",
       "29761        0        0            0          0        GILGFVFTL            0  \n",
       "29762        1        1            0          0        KLGGALQAK            0  \n",
       "29763        1        0            1          1   TFEYVSQPFLMDLE            0  \n",
       "29764        1        0            0          0        SPRWYFYYL            0  \n",
       "\n",
       "[29765 rows x 27 columns]"
      ]
     },
     "execution_count": 4,
     "metadata": {},
     "output_type": "execute_result"
    }
   ],
   "source": [
    "data"
   ]
  },
  {
   "cell_type": "code",
   "execution_count": 5,
   "id": "7ffee024",
   "metadata": {},
   "outputs": [],
   "source": [
    "# data=pd.read_csv('cleaned_data.csv')"
   ]
  },
  {
   "cell_type": "code",
   "execution_count": 6,
   "id": "95448cce",
   "metadata": {},
   "outputs": [
    {
     "name": "stdout",
     "output_type": "stream",
     "text": [
      "<class 'pandas.core.frame.DataFrame'>\n",
      "RangeIndex: 29765 entries, 0 to 29764\n",
      "Data columns (total 27 columns):\n",
      " #   Column           Non-Null Count  Dtype \n",
      "---  ------           --------------  ----- \n",
      " 0   cdr3             29765 non-null  object\n",
      " 1   crd3_encode      29765 non-null  object\n",
      " 2   j.segm           29765 non-null  object\n",
      " 3   v.seg            29765 non-null  object\n",
      " 4   mhc.a            29765 non-null  object\n",
      " 5   mhc.b            29765 non-null  object\n",
      " 6   v.seg_0          29765 non-null  int64 \n",
      " 7   v.seg_1          29765 non-null  int64 \n",
      " 8   v.seg_2          29765 non-null  int64 \n",
      " 9   v.seg_3          29765 non-null  int64 \n",
      " 10  v.seg_4          29765 non-null  int64 \n",
      " 11  v.seg_5          29765 non-null  int64 \n",
      " 12  j.segm_0         29765 non-null  int64 \n",
      " 13  j.segm_1         29765 non-null  int64 \n",
      " 14  j.segm_2         29765 non-null  int64 \n",
      " 15  j.segm_3         29765 non-null  int64 \n",
      " 16  mhc.a_0          29765 non-null  int64 \n",
      " 17  mhc.a_1          29765 non-null  int64 \n",
      " 18  mhc.a_2          29765 non-null  int64 \n",
      " 19  mhc.a_3          29765 non-null  int64 \n",
      " 20  mhc.a_4          29765 non-null  int64 \n",
      " 21  mhc.a_5          29765 non-null  int64 \n",
      " 22  mhc.a_6          29765 non-null  int64 \n",
      " 23  mhc.b_label      29765 non-null  int64 \n",
      " 24  mhc.class        29765 non-null  int64 \n",
      " 25  antigen.epitope  29765 non-null  object\n",
      " 26  vdjdb.score      29765 non-null  int64 \n",
      "dtypes: int64(20), object(7)\n",
      "memory usage: 6.1+ MB\n"
     ]
    }
   ],
   "source": [
    "data.info()"
   ]
  },
  {
   "cell_type": "code",
   "execution_count": 7,
   "id": "5b18401e",
   "metadata": {},
   "outputs": [
    {
     "data": {
      "text/plain": [
       "KLGGALQAK               12740\n",
       "NLVPMVATV                4776\n",
       "GILGFVFTL                3739\n",
       "AVFDRKSDAK               1652\n",
       "ELAGIGILTV               1444\n",
       "GLCTLVAML                1086\n",
       "YLQPRTFLL                 977\n",
       "RAKFKQLL                  875\n",
       "IVTDFSVIK                 553\n",
       "SPRWYFYYL                 543\n",
       "KRWIILGLNK                484\n",
       "TFEYVSQPFLMDLE            453\n",
       "FRDYVDRFYKTLRAEQASQE      443\n",
       "Name: antigen.epitope, dtype: int64"
      ]
     },
     "execution_count": 7,
     "metadata": {},
     "output_type": "execute_result"
    }
   ],
   "source": [
    "data['antigen.epitope'].value_counts()"
   ]
  },
  {
   "cell_type": "code",
   "execution_count": 7,
   "id": "a71d25dc",
   "metadata": {},
   "outputs": [],
   "source": [
    "# data = data[data['antigen.epitope'].map(data['antigen.epitope'].value_counts(normalize=True)) > 0.1] #drop the clusters with little data"
   ]
  },
  {
   "cell_type": "code",
   "execution_count": 24,
   "id": "42b033e7",
   "metadata": {},
   "outputs": [
    {
     "data": {
      "text/plain": [
       "Counter({1: 29360, 2: 198, 3: 3})"
      ]
     },
     "execution_count": 24,
     "metadata": {},
     "output_type": "execute_result"
    }
   ],
   "source": [
    "from collections import Counter\n",
    "Counter(list(data.groupby(by=['cdr3','j.segm','mhc.a','mhc.b','mhc.class','v.seg'])['antigen.epitope'].count()))"
   ]
  },
  {
   "cell_type": "code",
   "execution_count": 7,
   "id": "54d6f372",
   "metadata": {},
   "outputs": [],
   "source": [
    "def generate_kmers(sequence, k):\n",
    "    \"\"\"Generate k-mers for a given sequence.\"\"\"\n",
    "    return [sequence[i:i+k] for i in range(len(sequence)-k+1)]\n",
    "k=3 # change the k for kmers\n",
    "all_kmers = [kmer for seq in data['cdr3'] for kmer in generate_kmers(seq, k)]\n",
    "\n",
    "# Count the frequency of each 4-mer\n",
    "kmer_counts = Counter(all_kmers)"
   ]
  },
  {
   "cell_type": "code",
   "execution_count": 8,
   "id": "a3be0384",
   "metadata": {},
   "outputs": [],
   "source": [
    "sentence=[]\n",
    "for seq in data['cdr3']:\n",
    "    temp=generate_kmers(seq,k)\n",
    "    sentence.append(temp)\n",
    "f=open('kmer_3.txt','w')\n",
    "f.writelines('\\n'.join([' '.join(l) for l in sentence]))\n",
    "'''add to data'''\n",
    "data=data.reset_index()\n",
    "data['kmers']=pd.Series(sentence)"
   ]
  },
  {
   "cell_type": "code",
   "execution_count": 9,
   "id": "1dcc7695",
   "metadata": {},
   "outputs": [
    {
     "data": {
      "text/plain": [
       "29765"
      ]
     },
     "execution_count": 9,
     "metadata": {},
     "output_type": "execute_result"
    }
   ],
   "source": [
    "len(sentence)"
   ]
  },
  {
   "cell_type": "code",
   "execution_count": 10,
   "id": "d1b0303f",
   "metadata": {},
   "outputs": [
    {
     "data": {
      "text/plain": [
       "11"
      ]
     },
     "execution_count": 10,
     "metadata": {},
     "output_type": "execute_result"
    }
   ],
   "source": [
    "len(np.array(data['kmers'])[0])"
   ]
  },
  {
   "cell_type": "code",
   "execution_count": 11,
   "id": "db2a1d56",
   "metadata": {},
   "outputs": [],
   "source": [
    "from gensim.models import Word2Vec\n",
    "kmer_model=Word2Vec.load('.\\model\\kmer_word2vec_50.model')"
   ]
  },
  {
   "cell_type": "code",
   "execution_count": 9,
   "id": "b045b299",
   "metadata": {},
   "outputs": [],
   "source": [
    "# def embedding(data,model):\n",
    "#     vec=[]\n",
    "#     vectors = model.wv\n",
    "#     length=data.map(len).max()\n",
    "#     for sentence in list(data):\n",
    "#         sentence=list(sentence)\n",
    "#         sentence_vector=[vectors[i] for i in sentence]\n",
    "# #         print(len(sentence_vector))\n",
    "#         while len(sentence_vector)<length:\n",
    "#             sentence_vector.append(np.zeros_like(vectors[sentence[0]]))\n",
    "# #         print(sentence_vector)\n",
    "#         vec.append(sentence_vector)\n",
    "#     return vec"
   ]
  },
  {
   "cell_type": "code",
   "execution_count": 14,
   "id": "368ccbe4",
   "metadata": {},
   "outputs": [],
   "source": [
    "# trb_embed=embedding(data['kmers'],kmer_model)\n",
    "# data['kmers']=trb_embed"
   ]
  },
  {
   "cell_type": "code",
   "execution_count": 16,
   "id": "11249eba",
   "metadata": {},
   "outputs": [],
   "source": [
    "# #copy data according to score\n",
    "# data=pd.concat([data,data[data['vdjdb.score']==1]])\n",
    "# data=pd.concat([data,data[data['vdjdb.score']==2]])\n",
    "# data=pd.concat([data,data[data['vdjdb.score']==2]])"
   ]
  },
  {
   "cell_type": "markdown",
   "id": "8716d71f",
   "metadata": {},
   "source": [
    "----------------------------finish data processing"
   ]
  },
  {
   "cell_type": "markdown",
   "id": "321f07d0",
   "metadata": {},
   "source": [
    "### only use cdr"
   ]
  },
  {
   "cell_type": "code",
   "execution_count": 12,
   "id": "9df7f0e5",
   "metadata": {},
   "outputs": [],
   "source": [
    "# 将词向量作为embedding层的初始值\n",
    "weights = torch.FloatTensor(kmer_model.wv.vectors)\n",
    "embedding= nn.Embedding.from_pretrained(embeddings=weights, freeze=False)\n",
    "# 构建词典\n",
    "idx2word ={ i:k for i,k in enumerate(kmer_model.wv.key_to_index.keys())}\n",
    "word2idx ={ k:i for i,k in enumerate(kmer_model.wv.key_to_index.keys())}"
   ]
  },
  {
   "cell_type": "code",
   "execution_count": 13,
   "id": "641cb7f0",
   "metadata": {},
   "outputs": [
    {
     "name": "stdout",
     "output_type": "stream",
     "text": [
      "7102\n"
     ]
    }
   ],
   "source": [
    "# 定义新词\n",
    "pad_word,unk_word,other_label ='<pad>', '<unk>', 'Other'\n",
    "\n",
    "new_id=len(word2idx)\n",
    "idx2word[new_id]=pad_word\n",
    "word2idx[pad_word]=new_id\n",
    "print(word2idx[pad_word])"
   ]
  },
  {
   "cell_type": "code",
   "execution_count": 14,
   "id": "f6686475",
   "metadata": {},
   "outputs": [
    {
     "name": "stdout",
     "output_type": "stream",
     "text": [
      "torch.Size([7103, 50])\n"
     ]
    }
   ],
   "source": [
    "# 构建词向量，并添加到权值矩阵中\n",
    "embedding_dim=50  #尝试100，不咋地 换50 更不行\n",
    "new_vec=np.random.uniform(-np.sqrt(3.0 / embedding_dim), np.sqrt(3.0 / embedding_dim), embedding_dim)\n",
    "new_vec=torch.Tensor(new_vec).view(1,-1)\n",
    "weights=torch.cat([weights,new_vec],dim=0)\n",
    "print(weights.size())"
   ]
  },
  {
   "cell_type": "code",
   "execution_count": 15,
   "id": "0e05f053",
   "metadata": {},
   "outputs": [
    {
     "data": {
      "text/html": [
       "<div>\n",
       "<style scoped>\n",
       "    .dataframe tbody tr th:only-of-type {\n",
       "        vertical-align: middle;\n",
       "    }\n",
       "\n",
       "    .dataframe tbody tr th {\n",
       "        vertical-align: top;\n",
       "    }\n",
       "\n",
       "    .dataframe thead th {\n",
       "        text-align: right;\n",
       "    }\n",
       "</style>\n",
       "<table border=\"1\" class=\"dataframe\">\n",
       "  <thead>\n",
       "    <tr style=\"text-align: right;\">\n",
       "      <th></th>\n",
       "      <th>kmers</th>\n",
       "      <th>antigen.epitope</th>\n",
       "    </tr>\n",
       "  </thead>\n",
       "  <tbody>\n",
       "    <tr>\n",
       "      <th>0</th>\n",
       "      <td>[CAA, AAA, AAE, AER, ERN, RNT, NTG, TGE, GEL, ...</td>\n",
       "      <td>YLQPRTFLL</td>\n",
       "    </tr>\n",
       "    <tr>\n",
       "      <th>1</th>\n",
       "      <td>[CAA, AAE, AED, EDP, DPE, PEW, EWG, WGA, GAE, ...</td>\n",
       "      <td>KLGGALQAK</td>\n",
       "    </tr>\n",
       "    <tr>\n",
       "      <th>2</th>\n",
       "      <td>[CAA, AAG, AGA, GAG, AGL, GLS, LSY, SYE, YEQ, ...</td>\n",
       "      <td>NLVPMVATV</td>\n",
       "    </tr>\n",
       "    <tr>\n",
       "      <th>3</th>\n",
       "      <td>[CAA, AAG, AGD, GDA, DAN, ANT, NTG, TGE, GEL, ...</td>\n",
       "      <td>YLQPRTFLL</td>\n",
       "    </tr>\n",
       "    <tr>\n",
       "      <th>4</th>\n",
       "      <td>[CAA, AAG, AGE, GEM, EMF, MFG, FGL, GLG, LGE, ...</td>\n",
       "      <td>KLGGALQAK</td>\n",
       "    </tr>\n",
       "    <tr>\n",
       "      <th>...</th>\n",
       "      <td>...</td>\n",
       "      <td>...</td>\n",
       "    </tr>\n",
       "    <tr>\n",
       "      <th>29760</th>\n",
       "      <td>[CVT, VTG, TGQ, GQG, QGD, GDI, DIN, INE, NEQ, ...</td>\n",
       "      <td>KLGGALQAK</td>\n",
       "    </tr>\n",
       "    <tr>\n",
       "      <th>29761</th>\n",
       "      <td>[CVT, VTS, TSA, SAP, APL, PLR, LRQ, RQG, QGL, ...</td>\n",
       "      <td>GILGFVFTL</td>\n",
       "    </tr>\n",
       "    <tr>\n",
       "      <th>29762</th>\n",
       "      <td>[CWG, WGN, GNT, NTE, TEA, EAF, AFF]</td>\n",
       "      <td>KLGGALQAK</td>\n",
       "    </tr>\n",
       "    <tr>\n",
       "      <th>29763</th>\n",
       "      <td>[IPD, PDT, DTG, TGE, GEL, ELF, LFF]</td>\n",
       "      <td>TFEYVSQPFLMDLE</td>\n",
       "    </tr>\n",
       "    <tr>\n",
       "      <th>29764</th>\n",
       "      <td>[SPA, PAV, AVH, VHR, HRV, RVA, VAN, ANN, NNE, ...</td>\n",
       "      <td>SPRWYFYYL</td>\n",
       "    </tr>\n",
       "  </tbody>\n",
       "</table>\n",
       "<p>29765 rows × 2 columns</p>\n",
       "</div>"
      ],
      "text/plain": [
       "                                                   kmers antigen.epitope\n",
       "0      [CAA, AAA, AAE, AER, ERN, RNT, NTG, TGE, GEL, ...       YLQPRTFLL\n",
       "1      [CAA, AAE, AED, EDP, DPE, PEW, EWG, WGA, GAE, ...       KLGGALQAK\n",
       "2      [CAA, AAG, AGA, GAG, AGL, GLS, LSY, SYE, YEQ, ...       NLVPMVATV\n",
       "3      [CAA, AAG, AGD, GDA, DAN, ANT, NTG, TGE, GEL, ...       YLQPRTFLL\n",
       "4      [CAA, AAG, AGE, GEM, EMF, MFG, FGL, GLG, LGE, ...       KLGGALQAK\n",
       "...                                                  ...             ...\n",
       "29760  [CVT, VTG, TGQ, GQG, QGD, GDI, DIN, INE, NEQ, ...       KLGGALQAK\n",
       "29761  [CVT, VTS, TSA, SAP, APL, PLR, LRQ, RQG, QGL, ...       GILGFVFTL\n",
       "29762                [CWG, WGN, GNT, NTE, TEA, EAF, AFF]       KLGGALQAK\n",
       "29763                [IPD, PDT, DTG, TGE, GEL, ELF, LFF]  TFEYVSQPFLMDLE\n",
       "29764  [SPA, PAV, AVH, VHR, HRV, RVA, VAN, ANN, NNE, ...       SPRWYFYYL\n",
       "\n",
       "[29765 rows x 2 columns]"
      ]
     },
     "execution_count": 15,
     "metadata": {},
     "output_type": "execute_result"
    }
   ],
   "source": [
    "cnninput=data[['kmers','antigen.epitope']]\n",
    "cnninput"
   ]
  },
  {
   "cell_type": "code",
   "execution_count": 16,
   "id": "fa5d858e",
   "metadata": {},
   "outputs": [
    {
     "name": "stderr",
     "output_type": "stream",
     "text": [
      "C:\\Users\\15617\\AppData\\Local\\Temp\\ipykernel_13696\\3370284251.py:1: SettingWithCopyWarning: \n",
      "A value is trying to be set on a copy of a slice from a DataFrame.\n",
      "Try using .loc[row_indexer,col_indexer] = value instead\n",
      "\n",
      "See the caveats in the documentation: https://pandas.pydata.org/pandas-docs/stable/user_guide/indexing.html#returning-a-view-versus-a-copy\n",
      "  cnninput['kmers']=cnninput['kmers'].astype(str)\n"
     ]
    }
   ],
   "source": [
    "cnninput['kmers']=cnninput['kmers'].astype(str)"
   ]
  },
  {
   "cell_type": "code",
   "execution_count": 17,
   "id": "437a9255",
   "metadata": {},
   "outputs": [],
   "source": [
    "cnninput = cnninput.drop_duplicates(subset='kmers', keep='first')"
   ]
  },
  {
   "cell_type": "code",
   "execution_count": 18,
   "id": "bfc0e202",
   "metadata": {},
   "outputs": [
    {
     "name": "stderr",
     "output_type": "stream",
     "text": [
      "C:\\Users\\15617\\AppData\\Local\\Temp\\ipykernel_13696\\2706445547.py:1: SettingWithCopyWarning: \n",
      "A value is trying to be set on a copy of a slice from a DataFrame.\n",
      "Try using .loc[row_indexer,col_indexer] = value instead\n",
      "\n",
      "See the caveats in the documentation: https://pandas.pydata.org/pandas-docs/stable/user_guide/indexing.html#returning-a-view-versus-a-copy\n",
      "  cnninput['kmers']=[eval(i) for i in cnninput['kmers']]\n"
     ]
    }
   ],
   "source": [
    "cnninput['kmers']=[eval(i) for i in cnninput['kmers']]"
   ]
  },
  {
   "cell_type": "code",
   "execution_count": 19,
   "id": "954c1e89",
   "metadata": {},
   "outputs": [],
   "source": [
    "# split dataset\n",
    "train_data, test_data = train_test_split(cnninput, \n",
    "                                          stratify=cnninput['antigen.epitope'], \n",
    "                                          train_size=0.8, \n",
    "                                          test_size=0.2)"
   ]
  },
  {
   "cell_type": "code",
   "execution_count": 20,
   "id": "498f7288",
   "metadata": {},
   "outputs": [
    {
     "data": {
      "text/plain": [
       "(22016, 36, 50)"
      ]
     },
     "execution_count": 20,
     "metadata": {},
     "output_type": "execute_result"
    }
   ],
   "source": [
    "\n",
    "m=context_size\n",
    "train_texts=[]\n",
    "train_inputs=[]\n",
    "for i in train_data['kmers']:\n",
    "    if len(i)>int(m):\n",
    "        i=i[0:int(m)]\n",
    "    else:\n",
    "        i+=['<pad>']*(int(m)-len(i))\n",
    "    t=[]\n",
    "    item=[]\n",
    "    for j in i:\n",
    "        #print(j)\n",
    "        t.append(weights[word2idx[j]].tolist())\n",
    "        item.append(word2idx[j])\n",
    "    #print(t)\n",
    "    train_texts.append(t)\n",
    "    train_inputs.append(item) # index of words\n",
    "\n",
    "test_texts=[]\n",
    "test_inputs=[]\n",
    "for i in test_data['kmers']:\n",
    "    if len(i)>int(m):\n",
    "        i=i[0:int(m)]\n",
    "    else:\n",
    "        i+=['<pad>']*(int(m)-len(i))\n",
    "    t=[]\n",
    "    item=[]\n",
    "    for j in i:\n",
    "        #print(j)\n",
    "        t.append(weights[word2idx[j]].tolist())\n",
    "        item.append(word2idx[j])\n",
    "    #print(t)\n",
    "    test_texts.append(t)\n",
    "    test_inputs.append(item) # index of words\n",
    "np.array(train_texts).shape # embedding result"
   ]
  },
  {
   "cell_type": "code",
   "execution_count": 18,
   "id": "ce9a5170",
   "metadata": {},
   "outputs": [
    {
     "ename": "NameError",
     "evalue": "name 'inputs' is not defined",
     "output_type": "error",
     "traceback": [
      "\u001b[1;31m---------------------------------------------------------------------------\u001b[0m",
      "\u001b[1;31mNameError\u001b[0m                                 Traceback (most recent call last)",
      "Cell \u001b[1;32mIn[18], line 2\u001b[0m\n\u001b[0;32m      1\u001b[0m \u001b[38;5;66;03m# 创建mask层 提前写一下，后面再放\u001b[39;00m\n\u001b[1;32m----> 2\u001b[0m mask1\u001b[38;5;241m=\u001b[39mtorch\u001b[38;5;241m.\u001b[39mIntTensor(\u001b[43minputs\u001b[49m)\u001b[38;5;241m.\u001b[39meq(\u001b[38;5;241m7103\u001b[39m)\n\u001b[0;32m      3\u001b[0m \u001b[38;5;66;03m#print(mask1)\u001b[39;00m\n\u001b[0;32m      4\u001b[0m mask1\u001b[38;5;241m=\u001b[39m mask1\u001b[38;5;241m.\u001b[39mfloat()\u001b[38;5;241m.\u001b[39mmasked_fill_(mask1,\u001b[38;5;28mfloat\u001b[39m(\u001b[38;5;124m'\u001b[39m\u001b[38;5;124m-inf\u001b[39m\u001b[38;5;124m'\u001b[39m)) \u001b[38;5;66;03m# 将mask中1的位置替换为float('-inf')\u001b[39;00m\n",
      "\u001b[1;31mNameError\u001b[0m: name 'inputs' is not defined"
     ]
    }
   ],
   "source": [
    "# 创建mask层 提前写一下，后面再放\n",
    "mask1=torch.IntTensor(inputs).eq(7103)\n",
    "#print(mask1)\n",
    "mask1= mask1.float().masked_fill_(mask1,float('-inf')) # 将mask中1的位置替换为float('-inf')\n",
    "mask1.shape"
   ]
  },
  {
   "cell_type": "code",
   "execution_count": 21,
   "id": "9071fc4d",
   "metadata": {},
   "outputs": [
    {
     "data": {
      "text/plain": [
       "{'TFEYVSQPFLMDLE': 0,\n",
       " 'RAKFKQLL': 1,\n",
       " 'FRDYVDRFYKTLRAEQASQE': 2,\n",
       " 'KLGGALQAK': 3,\n",
       " 'AVFDRKSDAK': 4,\n",
       " 'KRWIILGLNK': 5,\n",
       " 'GILGFVFTL': 6,\n",
       " 'YLQPRTFLL': 7,\n",
       " 'IVTDFSVIK': 8,\n",
       " 'SPRWYFYYL': 9,\n",
       " 'ELAGIGILTV': 10,\n",
       " 'NLVPMVATV': 11,\n",
       " 'GLCTLVAML': 12}"
      ]
     },
     "execution_count": 21,
     "metadata": {},
     "output_type": "execute_result"
    }
   ],
   "source": [
    "'''构建标签的字典'''\n",
    "target=[]\n",
    "anti2id={}\n",
    "anti2id=dict(zip(list(set(cnninput['antigen.epitope'])),range(len(list(set(cnninput['antigen.epitope']))))))\n",
    "id2anti=dict(zip(range(len(list(set(cnninput['antigen.epitope'])))),list(set(cnninput['antigen.epitope']))))\n",
    "train_target=[anti2id[i] for i in train_data['antigen.epitope']]#编码化的原标签\n",
    "test_target=[anti2id[i] for i in test_data['antigen.epitope']]#编码化的原标签\n",
    "num_classes=len(anti2id)\n",
    "anti2id"
   ]
  },
  {
   "cell_type": "code",
   "execution_count": 19,
   "id": "4cf5f492",
   "metadata": {},
   "outputs": [],
   "source": [
    "# input_x = np.concatenate((np.array(inputs), np.array(e1).reshape(-1,1), np.array(e2).reshape(-1,1), np.array(d1), np.array(d2)), 1)\n",
    "# input_x.shape"
   ]
  },
  {
   "cell_type": "code",
   "execution_count": 20,
   "id": "79789da8",
   "metadata": {},
   "outputs": [],
   "source": [
    "# input=np.array(data['crd3_encode'].apply(eval).apply(np.array))"
   ]
  },
  {
   "cell_type": "code",
   "execution_count": 21,
   "id": "742caa37",
   "metadata": {},
   "outputs": [],
   "source": [
    "# stacked_arrays = np.hstack(input)\n",
    "\n",
    "# 对结果进行垂直堆叠，保持原始数组的维度结构\n",
    "# input = np.vstack(input)\n",
    "# input.shape"
   ]
  },
  {
   "cell_type": "code",
   "execution_count": 22,
   "id": "b9e8e6ff",
   "metadata": {},
   "outputs": [],
   "source": [
    "def get_batch(x, y, batch_size=BATCH_SIZE, shuffle=True):\n",
    "    \"\"\"\n",
    "    构建迭代器，获取批次数据\n",
    "    :param x: 需要划分全部特征数据的数据集\n",
    "    :param y: 需要划分全部标签数据的数据集\n",
    "    :param batch_size: 批次大小\n",
    "    :param shuffle: 是否打乱\n",
    "    :return: 以迭代器的方式返回数据\n",
    "    \"\"\"\n",
    "    assert x.shape[0] == y.shape[0], \"error shape!\"\n",
    "    if shuffle:\n",
    "        # 该函数是对[0, x.shape[0])进行随机排序\n",
    "        shuffled_index = np.random.permutation(range(x.shape[0]))\n",
    "        # 使用随机排序后的索引获取新的数据集结果\n",
    "        x = x[shuffled_index]\n",
    "        y = y[shuffled_index]\n",
    "\n",
    "    n_batches = int(x.shape[0] / batch_size)  # 统计共几个完整的batch\n",
    "    for i in range(n_batches - 1):\n",
    "        x_batch = x[i*batch_size: (i + 1)*batch_size]\n",
    "        y_batch = y[i*batch_size: (i + 1)*batch_size]\n",
    "        yield x_batch, y_batch"
   ]
  },
  {
   "cell_type": "code",
   "execution_count": 23,
   "id": "4d84f822",
   "metadata": {},
   "outputs": [],
   "source": [
    "def get_roc_auc(trues, preds):\n",
    "    fpr = dict()\n",
    "    tpr = dict()\n",
    "    roc_auc = dict()\n",
    "    #print(trues, preds)\n",
    "    for i in range(num_classes):\n",
    "        fpr[i], tpr[i], _ = roc_curve(trues[:, i], preds[:, i])\n",
    "        roc_auc[i] = auc(fpr[i], tpr[i])\n",
    "        # Compute micro-average ROC curve and ROC area\n",
    "    fpr[\"micro\"], tpr[\"micro\"], _ = roc_curve(trues.ravel(), preds.ravel())\n",
    "    roc_auc[\"micro\"] = auc(fpr[\"micro\"], tpr[\"micro\"])\n",
    "    # First aggregate all false positive rates\n",
    "    all_fpr = np.unique(np.concatenate([fpr[i] for i in range(num_classes)]))\n",
    "    # Then interpolate all ROC curves at this points\n",
    "    mean_tpr = np.zeros_like(all_fpr)\n",
    "    for i in range(num_classes):\n",
    "        mean_tpr += np.interp(all_fpr, fpr[i], tpr[i])\n",
    "    # Finally average it and compute AUC\n",
    "    mean_tpr /= num_classes\n",
    "    fpr[\"macro\"] = all_fpr\n",
    "    tpr[\"macro\"] = mean_tpr\n",
    "    roc_auc[\"macro\"] = auc(fpr[\"macro\"], tpr[\"macro\"])\n",
    "    # Plot all ROC curves\n",
    "    lw = 2\n",
    "    plt.figure()\n",
    "    plt.plot(fpr[\"micro\"], tpr[\"micro\"],label='micro-average ROC curve (area = {0:0.2f})'.format(roc_auc[\"micro\"]),color='deeppink', linestyle=':', linewidth=4)\n",
    "    plt.plot(fpr[\"macro\"], tpr[\"macro\"],label='macro-average ROC curve (area = {0:0.2f})'.format(roc_auc[\"macro\"]),color='navy', linestyle=':', linewidth=4)\n",
    "    colors = cycle(['aqua', 'darkorange', 'cornflowerblue'])\n",
    "    for i, color in zip(range(num_classes), colors):\n",
    "        plt.plot(fpr[i], tpr[i], color=color, lw=lw, label='ROC curve of class {0} (area = {1:0.2f})'.format(i, roc_auc[i]))\n",
    "    plt.plot([0, 1], [0, 1], 'k--', lw=lw)\n",
    "    plt.xlim([0.0, 1.0])\n",
    "    plt.ylim([0.0, 1.05])\n",
    "    plt.xlabel('False Positive Rate')\n",
    "    plt.ylabel('True Positive Rate')\n",
    "    plt.title('Some extension of Receiver operating characteristic to multi-class')\n",
    "    plt.legend(loc=2, bbox_to_anchor=(1.05,1.0),borderaxespad = 0.)\n",
    "    #plt.legend(loc=\"lower right\")\n",
    "    plt.savefig(\"ROC_13分类.png\")\n",
    "    plt.show()"
   ]
  },
  {
   "cell_type": "code",
   "execution_count": 42,
   "id": "26bb5a0b",
   "metadata": {
    "scrolled": true
   },
   "outputs": [],
   "source": [
    "\n",
    "\n",
    "class TextCNN(nn.Module):\n",
    "    # output_size为输出类别（2个类别，0和1）,三种kernel，size分别是3,4，5，每种kernel有100个\n",
    "    def __init__(self, vocab_size, embedding_dim, output_size, filter_num=100, kernel_list=(3, 4, 5), dropout=0.5, embeddings_pretrained=None):\n",
    "        super(TextCNN, self).__init__()\n",
    "        self.embedding = nn.Embedding(vocab_size, embedding_dim)\n",
    "        if embeddings_pretrained is not None:\n",
    "            self.embedding = self.embedding.from_pretrained(embeddings_pretrained, freeze=False)\n",
    "        # 1表示channel_num，filter_num即输出数据通道数，卷积核大小为(kernel, embedding_dim)\n",
    "        self.convs = nn.ModuleList([\n",
    "            nn.Sequential(nn.Conv2d(1, filter_num, (kernel, embedding_dim)),\n",
    "                          nn.LeakyReLU(),\n",
    "                          nn.MaxPool2d((LARGE_SENTENCE_SIZE - kernel + 1, 1)))\n",
    "            for kernel in kernel_list\n",
    "        ])\n",
    "        self.fc = nn.Linear(filter_num * len(kernel_list), output_size)\n",
    "        self.dropout = nn.Dropout(dropout)\n",
    "\n",
    "    def forward(self, x):\n",
    "#         x = torch.tensor(x, dtype=torch.long)\n",
    "        x = self.embedding(x)  # [128, 50, 200] (batch, seq_len, embedding_dim)\n",
    "#         print(x.shape)\n",
    "        x = x.unsqueeze(1)     # [128, 1, 50, 200] 即(batch, channel_num, seq_len, embedding_dim)\n",
    "#         print(x.shape)\n",
    "        out = [conv(x) for conv in self.convs]\n",
    "        out = torch.cat(out, dim=1)   # [128, 300, 1, 1]，各通道的数据拼接在一起\n",
    "        out = out.view(x.size(0), -1)  # 展平\n",
    "        out = self.dropout(out)        # 构建dropout层\n",
    "        logits = self.fc(out)          # 结果输出[128, 2]\n",
    "        return logits\n",
    "\n",
    "\n",
    "# 数据获取\n",
    "VOB_SIZE=7102\n",
    "# 数据处理\n",
    "X_train, X_test, y_train, y_test = np.array(train_inputs),np.array(test_inputs),np.array(train_target),np.array(test_target)\n",
    "# 模型构建\n",
    "cnn = TextCNN(VOB_SIZE, EMBEDDING_SIZE, 127,embeddings_pretrained=weights)\n",
    "# print(cnn)\n",
    "# 优化器选择\n",
    "optimizer = optim.Adam(cnn.parameters(), lr=LEARNING_RATE)\n",
    "# 损失函数选择\n",
    "criterion = nn.CrossEntropyLoss()\n",
    "\n",
    "\n"
   ]
  },
  {
   "cell_type": "code",
   "execution_count": 43,
   "id": "b47fef1b",
   "metadata": {
    "scrolled": true
   },
   "outputs": [
    {
     "name": "stdout",
     "output_type": "stream",
     "text": [
      "epoch=0,训练准确率=0.11344764797165476 测试准确率=0.13213461571830318\n",
      "epoch=1,训练准确率=0.15317222541571388 测试准确率=0.15115798892405058\n",
      "epoch=2,训练准确率=0.16802658018883573 测试准确率=0.15544009681250237\n",
      "epoch=3,训练准确率=0.1813330795662433 测试准确率=0.162042060475842\n",
      "epoch=4,训练准确率=0.19341604519875882 测试准确率=0.17237508311627414\n",
      "epoch=5,训练准确率=0.2032327486180877 测试准确率=0.18396286598653577\n",
      "epoch=6,训练准确率=0.21463015153582063 测试准确率=0.1882124715370718\n",
      "epoch=7,训练准确率=0.2283739433920889 测试准确率=0.1929761262785741\n",
      "epoch=8,训练准确率=0.2410589728337435 测试准确率=0.2007592486695345\n",
      "epoch=9,训练准确率=0.2515813296857005 测试准确率=0.20814662590852265\n",
      "epoch=10,训练准确率=0.25775100268355616 测试准确率=0.22237600911655214\n",
      "epoch=11,训练准确率=0.26521231434688347 测试准确率=0.22695157906050203\n",
      "epoch=12,训练准确率=0.2748087963746497 测试准确率=0.21566734078174873\n",
      "epoch=13,训练准确率=0.2831118879525333 测试准确率=0.2232628431169796\n",
      "epoch=14,训练准确率=0.2927153655273322 测试准确率=0.22598403609318085\n",
      "epoch=15,训练准确率=0.30021672652054116 测试准确率=0.2262261384017681\n",
      "epoch=16,训练准确率=0.31205697216599343 测试准确率=0.22940927574119158\n",
      "epoch=17,训练准确率=0.31213589372384876 测试准确率=0.23161793872072958\n",
      "epoch=18,训练准确率=0.3226626343082524 测试准确率=0.23322753482997666\n",
      "epoch=19,训练准确率=0.32796125997324016 测试准确率=0.23163168023382202\n",
      "epoch=20,训练准确率=0.33203103896932806 测试准确率=0.23105261891715578\n",
      "epoch=21,训练准确率=0.337077493875401 测试准确率=0.2316690511240275\n",
      "epoch=22,训练准确率=0.34298130709982294 测试准确率=0.2313992932061141\n",
      "epoch=23,训练准确率=0.3496686407234962 测试准确率=0.23198883317454838\n",
      "epoch=24,训练准确率=0.35515737200285763 测试准确率=0.23676153131520972\n",
      "epoch=25,训练准确率=0.3629697320975038 测试准确率=0.23242826444219294\n",
      "epoch=26,训练准确率=0.3662482020820722 测试准确率=0.2362786773523228\n",
      "epoch=27,训练准确率=0.3769018275848491 测试准确率=0.24016892412562132\n",
      "epoch=28,训练准确率=0.37641399282661603 测试准确率=0.23811858562965998\n",
      "epoch=29,训练准确率=0.37916943901518674 测试准确率=0.23434456433767012\n",
      "epoch=30,训练准确率=0.3901006052637849 测试准确率=0.22903523435030934\n",
      "epoch=31,训练准确率=0.3975074863083414 测试准确率=0.23787266503694832\n",
      "epoch=32,训练准确率=0.39477794126082566 测试准确率=0.23479179037547665\n",
      "epoch=33,训练准确率=0.3993527004825797 测试准确率=0.23926011316423546\n",
      "epoch=34,训练准确率=0.40867512694314645 测试准确率=0.2436930552427608\n",
      "epoch=35,训练准确率=0.4078219682308083 测试准确率=0.24769233679422314\n",
      "epoch=36,训练准确率=0.4151823261562602 测试准确率=0.24157824156322194\n",
      "epoch=37,训练准确率=0.4204067020016691 测试准确率=0.24536247445306095\n",
      "epoch=38,训练准确率=0.4178728566129181 测试准确率=0.2389813017784339\n",
      "epoch=39,训练准确率=0.4241205513301166 测试准确率=0.24594335476140136\n",
      "epoch=40,训练准确率=0.43043731726341533 测试准确率=0.23655890370295762\n",
      "epoch=41,训练准确率=0.4354612719888534 测试准确率=0.23982754186370664\n",
      "epoch=42,训练准确率=0.438658953190744 测试准确率=0.24190801900714165\n",
      "epoch=43,训练准确率=0.4449960313756189 测试准确率=0.24085588538160205\n",
      "epoch=44,训练准确率=0.4408780436464498 测试准确率=0.2364892009902833\n",
      "epoch=45,训练准确率=0.445129078771475 测试准确率=0.24119073222110687\n",
      "epoch=46,训练准确率=0.44917262041261025 测试准确率=0.23945775982127862\n",
      "epoch=47,训练准确率=0.4569159197134611 测试准确率=0.23567756369600598\n",
      "epoch=48,训练准确率=0.4616951054290274 测试准确率=0.23551643190055305\n",
      "epoch=49,训练准确率=0.46098492192574025 测试准确率=0.23809354274626526\n"
     ]
    }
   ],
   "source": [
    "def train(model, opt, loss_function):\n",
    "    \"\"\"\n",
    "    训练函数\n",
    "    :param model: 模型\n",
    "    :param opt: 优化器\n",
    "    :param loss_function: 使用的损失函数\n",
    "    :return: 该轮训练模型的损失值\n",
    "    \"\"\"\n",
    "    avg_acc = []\n",
    "    model.train()  # 模型处于训练模式\n",
    "    # 批次训练\n",
    "    for x_batch, y_batch in get_batch(X_train, y_train):\n",
    "        x_batch = torch.LongTensor(x_batch)  # 需要是Long类型\n",
    "        y_batch = torch.tensor(y_batch).long()\n",
    "        y_batch = y_batch.squeeze()  # 数据压缩到1维\n",
    "#         print(x_batch.shape)\n",
    "        pred = model(x_batch)        # 模型预测\n",
    "        # 获取批次预测结果最大值，max返回最大值和最大索引（已经默认索引为0的为负类，1为为正类）\n",
    "        acc = f1_score(torch.max(pred, dim=1)[1], y_batch,average='macro')\n",
    "        avg_acc.append(acc)  # 记录该批次正确率\n",
    "        # 使用损失函数计算损失值，预测值要放在前\n",
    "        loss = loss_function(pred, y_batch)\n",
    "        # 清楚之前的梯度值\n",
    "        opt.zero_grad()\n",
    "        # 反向传播\n",
    "        loss.backward()\n",
    "        # 参数更新\n",
    "        opt.step()\n",
    "    # 所有批次数据的正确率计算\n",
    "    avg_acc = np.array(avg_acc).mean()\n",
    "    return avg_acc,loss\n",
    "\n",
    "\n",
    "def evaluate(model,loss_function):\n",
    "    \"\"\"\n",
    "    模型评估\n",
    "    :param model: 使用的模型\n",
    "    :return: 返回当前训练的模型在测试集上的结果\n",
    "    \"\"\"\n",
    "    avg_acc = []\n",
    "    los=[]\n",
    "    model.eval()  # 打开模型评估状态\n",
    "    with torch.no_grad():\n",
    "        for x_batch, y_batch in get_batch(X_test, y_test):\n",
    "            x_batch = torch.LongTensor(x_batch)\n",
    "            y_batch = torch.tensor(y_batch).long().squeeze()\n",
    "            pred = model(x_batch)\n",
    "            acc = f1_score(torch.max(pred, dim=1)[1], y_batch,average='macro')\n",
    "            avg_acc.append(acc)\n",
    "            los.append(loss_function(pred, y_batch))\n",
    "            \n",
    "            \n",
    "    avg_acc = np.array(avg_acc).mean()\n",
    "    loss=np.array(los).mean()\n",
    "    return avg_acc,loss\n",
    "\n",
    "\n",
    "# 记录模型训练过程中模型在训练集和测试集上模型预测正确率表现\n",
    "cnn_train_acc, cnn_test_acc = [], []\n",
    "cnn_train_loss, cnn_test_loss = [], []\n",
    "# 模型迭代训练\n",
    "for epoch in range(EPOCH):\n",
    "    # 模型训练\n",
    "    train_acc,train_loss = train(cnn, optimizer, criterion)\n",
    "#     print('epoch={},训练准确率={}'.format(epoch, train_acc))\n",
    "    # 模型测试\n",
    "    test_acc,test_loss = evaluate(cnn,criterion)\n",
    "    print('epoch={},训练准确率={}'.format(epoch, train_acc),\"测试准确率={}\".format(test_acc))\n",
    "    cnn_train_acc.append(train_acc)\n",
    "    cnn_test_acc.append(test_acc)\n",
    "    cnn_train_loss.append(train_loss)\n",
    "    cnn_test_loss.append(test_loss)\n",
    "\n",
    "\n"
   ]
  },
  {
   "cell_type": "code",
   "execution_count": 39,
   "id": "3e3505ff",
   "metadata": {},
   "outputs": [
    {
     "data": {
      "image/png": "[encoded data removed]",
      "text/plain": [
       "<Figure size 640x480 with 1 Axes>"
      ]
     },
     "metadata": {},
     "output_type": "display_data"
    },
    {
     "data": {
      "text/plain": [
       "<Figure size 640x480 with 0 Axes>"
      ]
     },
     "metadata": {},
     "output_type": "display_data"
    }
   ],
   "source": [
    "# 模型训练过程结果展示\n",
    "plt.plot(cnn_train_acc)\n",
    "plt.plot(cnn_test_acc)\n",
    "\n",
    "# plt.ylim(ymin=0.5, ymax=1.01)\n",
    "plt.title(\"The accuracy of textCNN model\")\n",
    "plt.legend([\"train\", 'test'])\n",
    "plt.title(\"b64 l0.0001 kernel45 epoch50\")\n",
    "plt.show()\n",
    "plt.savefig('acc-b64 l0.0001 kernel45 epoch50.png')"
   ]
  },
  {
   "cell_type": "code",
   "execution_count": 40,
   "id": "6ff4de33",
   "metadata": {},
   "outputs": [
    {
     "data": {
      "image/png": "[encoded data removed]",
      "text/plain": [
       "<Figure size 640x480 with 1 Axes>"
      ]
     },
     "metadata": {},
     "output_type": "display_data"
    },
    {
     "data": {
      "text/plain": [
       "<Figure size 640x480 with 0 Axes>"
      ]
     },
     "metadata": {},
     "output_type": "display_data"
    }
   ],
   "source": [
    "# 模型训练过程结果展示\n",
    "plt.plot([float(i) for i in cnn_train_loss])\n",
    "plt.plot([float(i) for i in cnn_test_loss])\n",
    "\n",
    "# plt.ylim(ymin=0.5, ymax=1.01)\n",
    "plt.title(\"The loss of textCNN model\")\n",
    "plt.legend([\"train\", 'test'])\n",
    "plt.title(\"loss-b64 l0.0001 kernel45 epoch50\")\n",
    "plt.show()\n",
    "plt.savefig('loss-b64 l0.0001 kernel45 epoch50.png')"
   ]
  },
  {
   "cell_type": "code",
   "execution_count": 31,
   "id": "bc4069f8",
   "metadata": {},
   "outputs": [
    {
     "data": {
      "text/plain": [
       "(23812, 36)"
      ]
     },
     "execution_count": 31,
     "metadata": {},
     "output_type": "execute_result"
    }
   ],
   "source": [
    "X_train.shape"
   ]
  },
  {
   "cell_type": "code",
   "execution_count": 25,
   "id": "b6bf3ea7",
   "metadata": {},
   "outputs": [
    {
     "name": "stdout",
     "output_type": "stream",
     "text": [
      "TextCNN(\n",
      "  (embedding): Embedding(7103, 50)\n",
      "  (convs): ModuleList(\n",
      "    (0): Sequential(\n",
      "      (0): Conv2d(1, 100, kernel_size=(3, 50), stride=(1, 1))\n",
      "      (1): LeakyReLU(negative_slope=0.01)\n",
      "      (2): MaxPool2d(kernel_size=(34, 1), stride=(34, 1), padding=0, dilation=1, ceil_mode=False)\n",
      "    )\n",
      "    (1): Sequential(\n",
      "      (0): Conv2d(1, 100, kernel_size=(4, 50), stride=(1, 1))\n",
      "      (1): LeakyReLU(negative_slope=0.01)\n",
      "      (2): MaxPool2d(kernel_size=(33, 1), stride=(33, 1), padding=0, dilation=1, ceil_mode=False)\n",
      "    )\n",
      "    (2): Sequential(\n",
      "      (0): Conv2d(1, 100, kernel_size=(5, 50), stride=(1, 1))\n",
      "      (1): LeakyReLU(negative_slope=0.01)\n",
      "      (2): MaxPool2d(kernel_size=(32, 1), stride=(32, 1), padding=0, dilation=1, ceil_mode=False)\n",
      "    )\n",
      "  )\n",
      "  (fc): Linear(in_features=300, out_features=127, bias=True)\n",
      "  (dropout): Dropout(p=0.5, inplace=False)\n",
      ")\n"
     ]
    }
   ],
   "source": [
    "print(cnn)"
   ]
  },
  {
   "cell_type": "code",
   "execution_count": 38,
   "id": "31572caf",
   "metadata": {},
   "outputs": [
    {
     "name": "stdout",
     "output_type": "stream",
     "text": [
      "torch.Size([2, 256, 36, 50])\n",
      "torch.Size([2, 1, 256, 36, 50])\n"
     ]
    },
    {
     "name": "stderr",
     "output_type": "stream",
     "text": [
      "C:\\Users\\15617\\AppData\\Local\\Temp\\ipykernel_2084\\2602643122.py:19: UserWarning: To copy construct from a tensor, it is recommended to use sourceTensor.clone().detach() or sourceTensor.clone().detach().requires_grad_(True), rather than torch.tensor(sourceTensor).\n",
      "  x = torch.tensor(x, dtype=torch.long)\n"
     ]
    },
    {
     "ename": "RuntimeError",
     "evalue": "Expected 3D (unbatched) or 4D (batched) input to conv2d, but got input of size: [2, 1, 256, 36, 50]",
     "output_type": "error",
     "traceback": [
      "\u001b[1;31m---------------------------------------------------------------------------\u001b[0m",
      "\u001b[1;31mRuntimeError\u001b[0m                              Traceback (most recent call last)",
      "Cell \u001b[1;32mIn[38], line 1\u001b[0m\n\u001b[1;32m----> 1\u001b[0m \u001b[43msummary\u001b[49m\u001b[43m(\u001b[49m\u001b[43mcnn\u001b[49m\u001b[43m,\u001b[49m\u001b[43m(\u001b[49m\u001b[38;5;241;43m256\u001b[39;49m\u001b[43m,\u001b[49m\u001b[38;5;241;43m36\u001b[39;49m\u001b[43m)\u001b[49m\u001b[43m,\u001b[49m\u001b[38;5;241;43m256\u001b[39;49m\u001b[43m)\u001b[49m\n",
      "File \u001b[1;32mD:\\python39\\lib\\site-packages\\torchsummary\\torchsummary.py:72\u001b[0m, in \u001b[0;36msummary\u001b[1;34m(model, input_size, batch_size, device)\u001b[0m\n\u001b[0;32m     68\u001b[0m model\u001b[38;5;241m.\u001b[39mapply(register_hook)\n\u001b[0;32m     70\u001b[0m \u001b[38;5;66;03m# make a forward pass\u001b[39;00m\n\u001b[0;32m     71\u001b[0m \u001b[38;5;66;03m# print(x.shape)\u001b[39;00m\n\u001b[1;32m---> 72\u001b[0m \u001b[43mmodel\u001b[49m\u001b[43m(\u001b[49m\u001b[38;5;241;43m*\u001b[39;49m\u001b[43mx\u001b[49m\u001b[43m)\u001b[49m\n\u001b[0;32m     74\u001b[0m \u001b[38;5;66;03m# remove these hooks\u001b[39;00m\n\u001b[0;32m     75\u001b[0m \u001b[38;5;28;01mfor\u001b[39;00m h \u001b[38;5;129;01min\u001b[39;00m hooks:\n",
      "File \u001b[1;32mD:\\python39\\lib\\site-packages\\torch\\nn\\modules\\module.py:1511\u001b[0m, in \u001b[0;36mModule._wrapped_call_impl\u001b[1;34m(self, *args, **kwargs)\u001b[0m\n\u001b[0;32m   1509\u001b[0m     \u001b[38;5;28;01mreturn\u001b[39;00m \u001b[38;5;28mself\u001b[39m\u001b[38;5;241m.\u001b[39m_compiled_call_impl(\u001b[38;5;241m*\u001b[39margs, \u001b[38;5;241m*\u001b[39m\u001b[38;5;241m*\u001b[39mkwargs)  \u001b[38;5;66;03m# type: ignore[misc]\u001b[39;00m\n\u001b[0;32m   1510\u001b[0m \u001b[38;5;28;01melse\u001b[39;00m:\n\u001b[1;32m-> 1511\u001b[0m     \u001b[38;5;28;01mreturn\u001b[39;00m \u001b[38;5;28mself\u001b[39m\u001b[38;5;241m.\u001b[39m_call_impl(\u001b[38;5;241m*\u001b[39margs, \u001b[38;5;241m*\u001b[39m\u001b[38;5;241m*\u001b[39mkwargs)\n",
      "File \u001b[1;32mD:\\python39\\lib\\site-packages\\torch\\nn\\modules\\module.py:1520\u001b[0m, in \u001b[0;36mModule._call_impl\u001b[1;34m(self, *args, **kwargs)\u001b[0m\n\u001b[0;32m   1515\u001b[0m \u001b[38;5;66;03m# If we don't have any hooks, we want to skip the rest of the logic in\u001b[39;00m\n\u001b[0;32m   1516\u001b[0m \u001b[38;5;66;03m# this function, and just call forward.\u001b[39;00m\n\u001b[0;32m   1517\u001b[0m \u001b[38;5;28;01mif\u001b[39;00m \u001b[38;5;129;01mnot\u001b[39;00m (\u001b[38;5;28mself\u001b[39m\u001b[38;5;241m.\u001b[39m_backward_hooks \u001b[38;5;129;01mor\u001b[39;00m \u001b[38;5;28mself\u001b[39m\u001b[38;5;241m.\u001b[39m_backward_pre_hooks \u001b[38;5;129;01mor\u001b[39;00m \u001b[38;5;28mself\u001b[39m\u001b[38;5;241m.\u001b[39m_forward_hooks \u001b[38;5;129;01mor\u001b[39;00m \u001b[38;5;28mself\u001b[39m\u001b[38;5;241m.\u001b[39m_forward_pre_hooks\n\u001b[0;32m   1518\u001b[0m         \u001b[38;5;129;01mor\u001b[39;00m _global_backward_pre_hooks \u001b[38;5;129;01mor\u001b[39;00m _global_backward_hooks\n\u001b[0;32m   1519\u001b[0m         \u001b[38;5;129;01mor\u001b[39;00m _global_forward_hooks \u001b[38;5;129;01mor\u001b[39;00m _global_forward_pre_hooks):\n\u001b[1;32m-> 1520\u001b[0m     \u001b[38;5;28;01mreturn\u001b[39;00m forward_call(\u001b[38;5;241m*\u001b[39margs, \u001b[38;5;241m*\u001b[39m\u001b[38;5;241m*\u001b[39mkwargs)\n\u001b[0;32m   1522\u001b[0m \u001b[38;5;28;01mtry\u001b[39;00m:\n\u001b[0;32m   1523\u001b[0m     result \u001b[38;5;241m=\u001b[39m \u001b[38;5;28;01mNone\u001b[39;00m\n",
      "Cell \u001b[1;32mIn[35], line 24\u001b[0m, in \u001b[0;36mTextCNN.forward\u001b[1;34m(self, x)\u001b[0m\n\u001b[0;32m     22\u001b[0m x \u001b[38;5;241m=\u001b[39m x\u001b[38;5;241m.\u001b[39munsqueeze(\u001b[38;5;241m1\u001b[39m)     \u001b[38;5;66;03m# [128, 1, 50, 200] 即(batch, channel_num, seq_len, embedding_dim)\u001b[39;00m\n\u001b[0;32m     23\u001b[0m \u001b[38;5;28mprint\u001b[39m(x\u001b[38;5;241m.\u001b[39mshape)\n\u001b[1;32m---> 24\u001b[0m out \u001b[38;5;241m=\u001b[39m [conv(x) \u001b[38;5;28;01mfor\u001b[39;00m conv \u001b[38;5;129;01min\u001b[39;00m \u001b[38;5;28mself\u001b[39m\u001b[38;5;241m.\u001b[39mconvs]\n\u001b[0;32m     25\u001b[0m out \u001b[38;5;241m=\u001b[39m torch\u001b[38;5;241m.\u001b[39mcat(out, dim\u001b[38;5;241m=\u001b[39m\u001b[38;5;241m1\u001b[39m)   \u001b[38;5;66;03m# [128, 300, 1, 1]，各通道的数据拼接在一起\u001b[39;00m\n\u001b[0;32m     26\u001b[0m out \u001b[38;5;241m=\u001b[39m out\u001b[38;5;241m.\u001b[39mview(x\u001b[38;5;241m.\u001b[39msize(\u001b[38;5;241m0\u001b[39m), \u001b[38;5;241m-\u001b[39m\u001b[38;5;241m1\u001b[39m)  \u001b[38;5;66;03m# 展平\u001b[39;00m\n",
      "Cell \u001b[1;32mIn[35], line 24\u001b[0m, in \u001b[0;36m<listcomp>\u001b[1;34m(.0)\u001b[0m\n\u001b[0;32m     22\u001b[0m x \u001b[38;5;241m=\u001b[39m x\u001b[38;5;241m.\u001b[39munsqueeze(\u001b[38;5;241m1\u001b[39m)     \u001b[38;5;66;03m# [128, 1, 50, 200] 即(batch, channel_num, seq_len, embedding_dim)\u001b[39;00m\n\u001b[0;32m     23\u001b[0m \u001b[38;5;28mprint\u001b[39m(x\u001b[38;5;241m.\u001b[39mshape)\n\u001b[1;32m---> 24\u001b[0m out \u001b[38;5;241m=\u001b[39m [\u001b[43mconv\u001b[49m\u001b[43m(\u001b[49m\u001b[43mx\u001b[49m\u001b[43m)\u001b[49m \u001b[38;5;28;01mfor\u001b[39;00m conv \u001b[38;5;129;01min\u001b[39;00m \u001b[38;5;28mself\u001b[39m\u001b[38;5;241m.\u001b[39mconvs]\n\u001b[0;32m     25\u001b[0m out \u001b[38;5;241m=\u001b[39m torch\u001b[38;5;241m.\u001b[39mcat(out, dim\u001b[38;5;241m=\u001b[39m\u001b[38;5;241m1\u001b[39m)   \u001b[38;5;66;03m# [128, 300, 1, 1]，各通道的数据拼接在一起\u001b[39;00m\n\u001b[0;32m     26\u001b[0m out \u001b[38;5;241m=\u001b[39m out\u001b[38;5;241m.\u001b[39mview(x\u001b[38;5;241m.\u001b[39msize(\u001b[38;5;241m0\u001b[39m), \u001b[38;5;241m-\u001b[39m\u001b[38;5;241m1\u001b[39m)  \u001b[38;5;66;03m# 展平\u001b[39;00m\n",
      "File \u001b[1;32mD:\\python39\\lib\\site-packages\\torch\\nn\\modules\\module.py:1511\u001b[0m, in \u001b[0;36mModule._wrapped_call_impl\u001b[1;34m(self, *args, **kwargs)\u001b[0m\n\u001b[0;32m   1509\u001b[0m     \u001b[38;5;28;01mreturn\u001b[39;00m \u001b[38;5;28mself\u001b[39m\u001b[38;5;241m.\u001b[39m_compiled_call_impl(\u001b[38;5;241m*\u001b[39margs, \u001b[38;5;241m*\u001b[39m\u001b[38;5;241m*\u001b[39mkwargs)  \u001b[38;5;66;03m# type: ignore[misc]\u001b[39;00m\n\u001b[0;32m   1510\u001b[0m \u001b[38;5;28;01melse\u001b[39;00m:\n\u001b[1;32m-> 1511\u001b[0m     \u001b[38;5;28;01mreturn\u001b[39;00m \u001b[38;5;28mself\u001b[39m\u001b[38;5;241m.\u001b[39m_call_impl(\u001b[38;5;241m*\u001b[39margs, \u001b[38;5;241m*\u001b[39m\u001b[38;5;241m*\u001b[39mkwargs)\n",
      "File \u001b[1;32mD:\\python39\\lib\\site-packages\\torch\\nn\\modules\\module.py:1520\u001b[0m, in \u001b[0;36mModule._call_impl\u001b[1;34m(self, *args, **kwargs)\u001b[0m\n\u001b[0;32m   1515\u001b[0m \u001b[38;5;66;03m# If we don't have any hooks, we want to skip the rest of the logic in\u001b[39;00m\n\u001b[0;32m   1516\u001b[0m \u001b[38;5;66;03m# this function, and just call forward.\u001b[39;00m\n\u001b[0;32m   1517\u001b[0m \u001b[38;5;28;01mif\u001b[39;00m \u001b[38;5;129;01mnot\u001b[39;00m (\u001b[38;5;28mself\u001b[39m\u001b[38;5;241m.\u001b[39m_backward_hooks \u001b[38;5;129;01mor\u001b[39;00m \u001b[38;5;28mself\u001b[39m\u001b[38;5;241m.\u001b[39m_backward_pre_hooks \u001b[38;5;129;01mor\u001b[39;00m \u001b[38;5;28mself\u001b[39m\u001b[38;5;241m.\u001b[39m_forward_hooks \u001b[38;5;129;01mor\u001b[39;00m \u001b[38;5;28mself\u001b[39m\u001b[38;5;241m.\u001b[39m_forward_pre_hooks\n\u001b[0;32m   1518\u001b[0m         \u001b[38;5;129;01mor\u001b[39;00m _global_backward_pre_hooks \u001b[38;5;129;01mor\u001b[39;00m _global_backward_hooks\n\u001b[0;32m   1519\u001b[0m         \u001b[38;5;129;01mor\u001b[39;00m _global_forward_hooks \u001b[38;5;129;01mor\u001b[39;00m _global_forward_pre_hooks):\n\u001b[1;32m-> 1520\u001b[0m     \u001b[38;5;28;01mreturn\u001b[39;00m forward_call(\u001b[38;5;241m*\u001b[39margs, \u001b[38;5;241m*\u001b[39m\u001b[38;5;241m*\u001b[39mkwargs)\n\u001b[0;32m   1522\u001b[0m \u001b[38;5;28;01mtry\u001b[39;00m:\n\u001b[0;32m   1523\u001b[0m     result \u001b[38;5;241m=\u001b[39m \u001b[38;5;28;01mNone\u001b[39;00m\n",
      "File \u001b[1;32mD:\\python39\\lib\\site-packages\\torch\\nn\\modules\\container.py:217\u001b[0m, in \u001b[0;36mSequential.forward\u001b[1;34m(self, input)\u001b[0m\n\u001b[0;32m    215\u001b[0m \u001b[38;5;28;01mdef\u001b[39;00m \u001b[38;5;21mforward\u001b[39m(\u001b[38;5;28mself\u001b[39m, \u001b[38;5;28minput\u001b[39m):\n\u001b[0;32m    216\u001b[0m     \u001b[38;5;28;01mfor\u001b[39;00m module \u001b[38;5;129;01min\u001b[39;00m \u001b[38;5;28mself\u001b[39m:\n\u001b[1;32m--> 217\u001b[0m         \u001b[38;5;28minput\u001b[39m \u001b[38;5;241m=\u001b[39m \u001b[43mmodule\u001b[49m\u001b[43m(\u001b[49m\u001b[38;5;28;43minput\u001b[39;49m\u001b[43m)\u001b[49m\n\u001b[0;32m    218\u001b[0m     \u001b[38;5;28;01mreturn\u001b[39;00m \u001b[38;5;28minput\u001b[39m\n",
      "File \u001b[1;32mD:\\python39\\lib\\site-packages\\torch\\nn\\modules\\module.py:1511\u001b[0m, in \u001b[0;36mModule._wrapped_call_impl\u001b[1;34m(self, *args, **kwargs)\u001b[0m\n\u001b[0;32m   1509\u001b[0m     \u001b[38;5;28;01mreturn\u001b[39;00m \u001b[38;5;28mself\u001b[39m\u001b[38;5;241m.\u001b[39m_compiled_call_impl(\u001b[38;5;241m*\u001b[39margs, \u001b[38;5;241m*\u001b[39m\u001b[38;5;241m*\u001b[39mkwargs)  \u001b[38;5;66;03m# type: ignore[misc]\u001b[39;00m\n\u001b[0;32m   1510\u001b[0m \u001b[38;5;28;01melse\u001b[39;00m:\n\u001b[1;32m-> 1511\u001b[0m     \u001b[38;5;28;01mreturn\u001b[39;00m \u001b[38;5;28mself\u001b[39m\u001b[38;5;241m.\u001b[39m_call_impl(\u001b[38;5;241m*\u001b[39margs, \u001b[38;5;241m*\u001b[39m\u001b[38;5;241m*\u001b[39mkwargs)\n",
      "File \u001b[1;32mD:\\python39\\lib\\site-packages\\torch\\nn\\modules\\module.py:1561\u001b[0m, in \u001b[0;36mModule._call_impl\u001b[1;34m(self, *args, **kwargs)\u001b[0m\n\u001b[0;32m   1558\u001b[0m     bw_hook \u001b[38;5;241m=\u001b[39m hooks\u001b[38;5;241m.\u001b[39mBackwardHook(\u001b[38;5;28mself\u001b[39m, full_backward_hooks, backward_pre_hooks)\n\u001b[0;32m   1559\u001b[0m     args \u001b[38;5;241m=\u001b[39m bw_hook\u001b[38;5;241m.\u001b[39msetup_input_hook(args)\n\u001b[1;32m-> 1561\u001b[0m result \u001b[38;5;241m=\u001b[39m forward_call(\u001b[38;5;241m*\u001b[39margs, \u001b[38;5;241m*\u001b[39m\u001b[38;5;241m*\u001b[39mkwargs)\n\u001b[0;32m   1562\u001b[0m \u001b[38;5;28;01mif\u001b[39;00m _global_forward_hooks \u001b[38;5;129;01mor\u001b[39;00m \u001b[38;5;28mself\u001b[39m\u001b[38;5;241m.\u001b[39m_forward_hooks:\n\u001b[0;32m   1563\u001b[0m     \u001b[38;5;28;01mfor\u001b[39;00m hook_id, hook \u001b[38;5;129;01min\u001b[39;00m (\n\u001b[0;32m   1564\u001b[0m         \u001b[38;5;241m*\u001b[39m_global_forward_hooks\u001b[38;5;241m.\u001b[39mitems(),\n\u001b[0;32m   1565\u001b[0m         \u001b[38;5;241m*\u001b[39m\u001b[38;5;28mself\u001b[39m\u001b[38;5;241m.\u001b[39m_forward_hooks\u001b[38;5;241m.\u001b[39mitems(),\n\u001b[0;32m   1566\u001b[0m     ):\n\u001b[0;32m   1567\u001b[0m         \u001b[38;5;66;03m# mark that always called hook is run\u001b[39;00m\n",
      "File \u001b[1;32mD:\\python39\\lib\\site-packages\\torch\\nn\\modules\\conv.py:460\u001b[0m, in \u001b[0;36mConv2d.forward\u001b[1;34m(self, input)\u001b[0m\n\u001b[0;32m    459\u001b[0m \u001b[38;5;28;01mdef\u001b[39;00m \u001b[38;5;21mforward\u001b[39m(\u001b[38;5;28mself\u001b[39m, \u001b[38;5;28minput\u001b[39m: Tensor) \u001b[38;5;241m-\u001b[39m\u001b[38;5;241m>\u001b[39m Tensor:\n\u001b[1;32m--> 460\u001b[0m     \u001b[38;5;28;01mreturn\u001b[39;00m \u001b[38;5;28;43mself\u001b[39;49m\u001b[38;5;241;43m.\u001b[39;49m\u001b[43m_conv_forward\u001b[49m\u001b[43m(\u001b[49m\u001b[38;5;28;43minput\u001b[39;49m\u001b[43m,\u001b[49m\u001b[43m \u001b[49m\u001b[38;5;28;43mself\u001b[39;49m\u001b[38;5;241;43m.\u001b[39;49m\u001b[43mweight\u001b[49m\u001b[43m,\u001b[49m\u001b[43m \u001b[49m\u001b[38;5;28;43mself\u001b[39;49m\u001b[38;5;241;43m.\u001b[39;49m\u001b[43mbias\u001b[49m\u001b[43m)\u001b[49m\n",
      "File \u001b[1;32mD:\\python39\\lib\\site-packages\\torch\\nn\\modules\\conv.py:456\u001b[0m, in \u001b[0;36mConv2d._conv_forward\u001b[1;34m(self, input, weight, bias)\u001b[0m\n\u001b[0;32m    452\u001b[0m \u001b[38;5;28;01mif\u001b[39;00m \u001b[38;5;28mself\u001b[39m\u001b[38;5;241m.\u001b[39mpadding_mode \u001b[38;5;241m!=\u001b[39m \u001b[38;5;124m'\u001b[39m\u001b[38;5;124mzeros\u001b[39m\u001b[38;5;124m'\u001b[39m:\n\u001b[0;32m    453\u001b[0m     \u001b[38;5;28;01mreturn\u001b[39;00m F\u001b[38;5;241m.\u001b[39mconv2d(F\u001b[38;5;241m.\u001b[39mpad(\u001b[38;5;28minput\u001b[39m, \u001b[38;5;28mself\u001b[39m\u001b[38;5;241m.\u001b[39m_reversed_padding_repeated_twice, mode\u001b[38;5;241m=\u001b[39m\u001b[38;5;28mself\u001b[39m\u001b[38;5;241m.\u001b[39mpadding_mode),\n\u001b[0;32m    454\u001b[0m                     weight, bias, \u001b[38;5;28mself\u001b[39m\u001b[38;5;241m.\u001b[39mstride,\n\u001b[0;32m    455\u001b[0m                     _pair(\u001b[38;5;241m0\u001b[39m), \u001b[38;5;28mself\u001b[39m\u001b[38;5;241m.\u001b[39mdilation, \u001b[38;5;28mself\u001b[39m\u001b[38;5;241m.\u001b[39mgroups)\n\u001b[1;32m--> 456\u001b[0m \u001b[38;5;28;01mreturn\u001b[39;00m \u001b[43mF\u001b[49m\u001b[38;5;241;43m.\u001b[39;49m\u001b[43mconv2d\u001b[49m\u001b[43m(\u001b[49m\u001b[38;5;28;43minput\u001b[39;49m\u001b[43m,\u001b[49m\u001b[43m \u001b[49m\u001b[43mweight\u001b[49m\u001b[43m,\u001b[49m\u001b[43m \u001b[49m\u001b[43mbias\u001b[49m\u001b[43m,\u001b[49m\u001b[43m \u001b[49m\u001b[38;5;28;43mself\u001b[39;49m\u001b[38;5;241;43m.\u001b[39;49m\u001b[43mstride\u001b[49m\u001b[43m,\u001b[49m\n\u001b[0;32m    457\u001b[0m \u001b[43m                \u001b[49m\u001b[38;5;28;43mself\u001b[39;49m\u001b[38;5;241;43m.\u001b[39;49m\u001b[43mpadding\u001b[49m\u001b[43m,\u001b[49m\u001b[43m \u001b[49m\u001b[38;5;28;43mself\u001b[39;49m\u001b[38;5;241;43m.\u001b[39;49m\u001b[43mdilation\u001b[49m\u001b[43m,\u001b[49m\u001b[43m \u001b[49m\u001b[38;5;28;43mself\u001b[39;49m\u001b[38;5;241;43m.\u001b[39;49m\u001b[43mgroups\u001b[49m\u001b[43m)\u001b[49m\n",
      "\u001b[1;31mRuntimeError\u001b[0m: Expected 3D (unbatched) or 4D (batched) input to conv2d, but got input of size: [2, 1, 256, 36, 50]"
     ]
    }
   ],
   "source": [
    "summary(cnn,(256,36),256)"
   ]
  },
  {
   "cell_type": "code",
   "execution_count": null,
   "id": "211723d0",
   "metadata": {},
   "outputs": [],
   "source": []
  }
 ],
 "metadata": {
  "kernelspec": {
   "display_name": "python39",
   "language": "python",
   "name": "python39"
  },
  "language_info": {
   "codemirror_mode": {
    "name": "ipython",
    "version": 3
   },
   "file_extension": ".py",
   "mimetype": "text/x-python",
   "name": "python",
   "nbconvert_exporter": "python",
   "pygments_lexer": "ipython3",
   "version": "3.9.7"
  }
 },
 "nbformat": 4,
 "nbformat_minor": 5
}
