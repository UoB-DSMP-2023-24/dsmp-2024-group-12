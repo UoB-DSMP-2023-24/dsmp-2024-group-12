{
 "cells": [
  {
   "cell_type": "code",
   "execution_count": 1,
   "id": "904c5726",
   "metadata": {},
   "outputs": [],
   "source": [
    "'''load packages'''\n",
    "import pandas as pd\n",
    "import numpy as np\n",
    "import os\n",
    "from gensim.models import word2vec\n",
    "import torch.nn as nn\n",
    "import torch\n",
    "from sklearn.preprocessing import LabelEncoder\n",
    "import matplotlib.pyplot as plt\n",
    "from collections import Counter\n",
    "from sklearn.metrics import silhouette_score\n",
    "import seaborn as sns\n",
    "from sklearn.model_selection import train_test_split\n",
    "from torch import nn, optim\n",
    "from sklearn.metrics import accuracy_score, average_precision_score,precision_score,f1_score,roc_auc_score\n",
    "from torchsummary import summary\n",
    "from sklearn.preprocessing import label_binarize"
   ]
  },
  {
   "cell_type": "code",
   "execution_count": 2,
   "id": "b9f4a620",
   "metadata": {},
   "outputs": [],
   "source": [
    "context_size = 36  # 句子长度（字词个数）\n",
    "num_embeddings = 7102  # 词典的大小(vocab_size)\n",
    "LARGE_SENTENCE_SIZE = 36  # 句子最大长度\n",
    "BATCH_SIZE = 64          # 语料批次大小\n",
    "LEARNING_RATE = 0.0001   # 学习率大小\n",
    "EMBEDDING_SIZE = 50      # 词向量维度\n",
    "KERNEL_LIST = [2,3,4]   # 卷积核长度\n",
    "FILTER_NUM = 100          # 每种卷积核输出通道数\n",
    "DROPOUT = 0.5             # dropout概率\n",
    "EPOCH = 50                # 训练轮次"
   ]
  },
  {
   "cell_type": "code",
   "execution_count": 3,
   "id": "84d05aef",
   "metadata": {},
   "outputs": [],
   "source": [
    "# data=pd.read_csv(\"D:\\\\jupyter notebook\\\\trb.csv\")\n",
    "data=pd.read_csv(\"D:\\\\jupyter notebook\\\\prediction.csv\")"
   ]
  },
  {
   "cell_type": "code",
   "execution_count": 4,
   "id": "af4ebddb",
   "metadata": {
    "scrolled": true
   },
   "outputs": [
    {
     "data": {
      "text/html": [
       "<div>\n",
       "<style scoped>\n",
       "    .dataframe tbody tr th:only-of-type {\n",
       "        vertical-align: middle;\n",
       "    }\n",
       "\n",
       "    .dataframe tbody tr th {\n",
       "        vertical-align: top;\n",
       "    }\n",
       "\n",
       "    .dataframe thead th {\n",
       "        text-align: right;\n",
       "    }\n",
       "</style>\n",
       "<table border=\"1\" class=\"dataframe\">\n",
       "  <thead>\n",
       "    <tr style=\"text-align: right;\">\n",
       "      <th></th>\n",
       "      <th>cdr3</th>\n",
       "      <th>crd3_encode</th>\n",
       "      <th>j.segm</th>\n",
       "      <th>v.seg</th>\n",
       "      <th>mhc.a</th>\n",
       "      <th>mhc.b</th>\n",
       "      <th>v.seg_0</th>\n",
       "      <th>v.seg_1</th>\n",
       "      <th>v.seg_2</th>\n",
       "      <th>v.seg_3</th>\n",
       "      <th>...</th>\n",
       "      <th>mhc.a_1</th>\n",
       "      <th>mhc.a_2</th>\n",
       "      <th>mhc.a_3</th>\n",
       "      <th>mhc.a_4</th>\n",
       "      <th>mhc.a_5</th>\n",
       "      <th>mhc.a_6</th>\n",
       "      <th>mhc.b_label</th>\n",
       "      <th>mhc.class</th>\n",
       "      <th>antigen.epitope</th>\n",
       "      <th>vdjdb.score</th>\n",
       "    </tr>\n",
       "  </thead>\n",
       "  <tbody>\n",
       "    <tr>\n",
       "      <th>0</th>\n",
       "      <td>CAAAERNTGELFF</td>\n",
       "      <td>[-0.16498591005802155, -0.1462753862142563, 0....</td>\n",
       "      <td>TRBJ2-2*01</td>\n",
       "      <td>TRBV28*01</td>\n",
       "      <td>HLA-A*02</td>\n",
       "      <td>B2M</td>\n",
       "      <td>0</td>\n",
       "      <td>1</td>\n",
       "      <td>1</td>\n",
       "      <td>0</td>\n",
       "      <td>...</td>\n",
       "      <td>0</td>\n",
       "      <td>0</td>\n",
       "      <td>0</td>\n",
       "      <td>1</td>\n",
       "      <td>0</td>\n",
       "      <td>0</td>\n",
       "      <td>0</td>\n",
       "      <td>0</td>\n",
       "      <td>YLQPRTFLL</td>\n",
       "      <td>0</td>\n",
       "    </tr>\n",
       "    <tr>\n",
       "      <th>1</th>\n",
       "      <td>CAAEDPEWGAEAFF</td>\n",
       "      <td>[-0.24984240531921387, 0.38962453603744507, -0...</td>\n",
       "      <td>TRBJ1-1*01</td>\n",
       "      <td>TRBV30*01</td>\n",
       "      <td>HLA-A*03:01</td>\n",
       "      <td>B2M</td>\n",
       "      <td>0</td>\n",
       "      <td>1</td>\n",
       "      <td>1</td>\n",
       "      <td>0</td>\n",
       "      <td>...</td>\n",
       "      <td>0</td>\n",
       "      <td>0</td>\n",
       "      <td>1</td>\n",
       "      <td>1</td>\n",
       "      <td>1</td>\n",
       "      <td>1</td>\n",
       "      <td>0</td>\n",
       "      <td>0</td>\n",
       "      <td>KLGGALQAK</td>\n",
       "      <td>0</td>\n",
       "    </tr>\n",
       "    <tr>\n",
       "      <th>2</th>\n",
       "      <td>CAAGAGLSYEQYF</td>\n",
       "      <td>[-0.7613160014152527, 0.263674259185791, -0.52...</td>\n",
       "      <td>TRBJ2-7*01</td>\n",
       "      <td>TRBV27*01</td>\n",
       "      <td>HLA-A*02</td>\n",
       "      <td>B2M</td>\n",
       "      <td>0</td>\n",
       "      <td>1</td>\n",
       "      <td>0</td>\n",
       "      <td>1</td>\n",
       "      <td>...</td>\n",
       "      <td>0</td>\n",
       "      <td>0</td>\n",
       "      <td>0</td>\n",
       "      <td>1</td>\n",
       "      <td>0</td>\n",
       "      <td>0</td>\n",
       "      <td>0</td>\n",
       "      <td>0</td>\n",
       "      <td>NLVPMVATV</td>\n",
       "      <td>0</td>\n",
       "    </tr>\n",
       "    <tr>\n",
       "      <th>3</th>\n",
       "      <td>CAAGDANTGELFF</td>\n",
       "      <td>[-0.7613160014152527, 0.263674259185791, -0.52...</td>\n",
       "      <td>TRBJ2-2*01</td>\n",
       "      <td>TRBV5-1*01</td>\n",
       "      <td>HLA-A*02:01</td>\n",
       "      <td>B2M</td>\n",
       "      <td>0</td>\n",
       "      <td>1</td>\n",
       "      <td>1</td>\n",
       "      <td>1</td>\n",
       "      <td>...</td>\n",
       "      <td>0</td>\n",
       "      <td>0</td>\n",
       "      <td>0</td>\n",
       "      <td>1</td>\n",
       "      <td>0</td>\n",
       "      <td>1</td>\n",
       "      <td>0</td>\n",
       "      <td>0</td>\n",
       "      <td>YLQPRTFLL</td>\n",
       "      <td>0</td>\n",
       "    </tr>\n",
       "    <tr>\n",
       "      <th>4</th>\n",
       "      <td>CAAGEMFGLGETQYF</td>\n",
       "      <td>[-0.7613160014152527, 0.263674259185791, -0.52...</td>\n",
       "      <td>TRBJ2-5*01</td>\n",
       "      <td>TRBV4-2*01</td>\n",
       "      <td>HLA-A*03:01</td>\n",
       "      <td>B2M</td>\n",
       "      <td>0</td>\n",
       "      <td>1</td>\n",
       "      <td>1</td>\n",
       "      <td>1</td>\n",
       "      <td>...</td>\n",
       "      <td>0</td>\n",
       "      <td>0</td>\n",
       "      <td>1</td>\n",
       "      <td>1</td>\n",
       "      <td>1</td>\n",
       "      <td>1</td>\n",
       "      <td>0</td>\n",
       "      <td>0</td>\n",
       "      <td>KLGGALQAK</td>\n",
       "      <td>0</td>\n",
       "    </tr>\n",
       "    <tr>\n",
       "      <th>...</th>\n",
       "      <td>...</td>\n",
       "      <td>...</td>\n",
       "      <td>...</td>\n",
       "      <td>...</td>\n",
       "      <td>...</td>\n",
       "      <td>...</td>\n",
       "      <td>...</td>\n",
       "      <td>...</td>\n",
       "      <td>...</td>\n",
       "      <td>...</td>\n",
       "      <td>...</td>\n",
       "      <td>...</td>\n",
       "      <td>...</td>\n",
       "      <td>...</td>\n",
       "      <td>...</td>\n",
       "      <td>...</td>\n",
       "      <td>...</td>\n",
       "      <td>...</td>\n",
       "      <td>...</td>\n",
       "      <td>...</td>\n",
       "      <td>...</td>\n",
       "    </tr>\n",
       "    <tr>\n",
       "      <th>29760</th>\n",
       "      <td>CVTGQGDINEQFF</td>\n",
       "      <td>[0.07739217579364777, 0.0676565170288086, 0.14...</td>\n",
       "      <td>TRBJ2-1*01</td>\n",
       "      <td>TRBV11-1*01</td>\n",
       "      <td>HLA-A*03:01</td>\n",
       "      <td>B2M</td>\n",
       "      <td>0</td>\n",
       "      <td>0</td>\n",
       "      <td>0</td>\n",
       "      <td>1</td>\n",
       "      <td>...</td>\n",
       "      <td>0</td>\n",
       "      <td>0</td>\n",
       "      <td>1</td>\n",
       "      <td>1</td>\n",
       "      <td>1</td>\n",
       "      <td>1</td>\n",
       "      <td>0</td>\n",
       "      <td>0</td>\n",
       "      <td>KLGGALQAK</td>\n",
       "      <td>0</td>\n",
       "    </tr>\n",
       "    <tr>\n",
       "      <th>29761</th>\n",
       "      <td>CVTSAPLRQGLFNYGYTF</td>\n",
       "      <td>[0.17337776720523834, 0.1124500036239624, 0.03...</td>\n",
       "      <td>TRBJ1-2*01</td>\n",
       "      <td>TRBV24-1*01</td>\n",
       "      <td>HLA-A*02</td>\n",
       "      <td>B2M</td>\n",
       "      <td>0</td>\n",
       "      <td>1</td>\n",
       "      <td>0</td>\n",
       "      <td>1</td>\n",
       "      <td>...</td>\n",
       "      <td>0</td>\n",
       "      <td>0</td>\n",
       "      <td>0</td>\n",
       "      <td>1</td>\n",
       "      <td>0</td>\n",
       "      <td>0</td>\n",
       "      <td>0</td>\n",
       "      <td>0</td>\n",
       "      <td>GILGFVFTL</td>\n",
       "      <td>0</td>\n",
       "    </tr>\n",
       "    <tr>\n",
       "      <th>29762</th>\n",
       "      <td>CWGNTEAFF</td>\n",
       "      <td>[-0.13605011999607086, 0.22847767174243927, 0....</td>\n",
       "      <td>TRBJ1-1*01</td>\n",
       "      <td>TRBV12-4*01</td>\n",
       "      <td>HLA-A*03:01</td>\n",
       "      <td>B2M</td>\n",
       "      <td>0</td>\n",
       "      <td>0</td>\n",
       "      <td>1</td>\n",
       "      <td>0</td>\n",
       "      <td>...</td>\n",
       "      <td>0</td>\n",
       "      <td>0</td>\n",
       "      <td>1</td>\n",
       "      <td>1</td>\n",
       "      <td>1</td>\n",
       "      <td>1</td>\n",
       "      <td>0</td>\n",
       "      <td>0</td>\n",
       "      <td>KLGGALQAK</td>\n",
       "      <td>0</td>\n",
       "    </tr>\n",
       "    <tr>\n",
       "      <th>29763</th>\n",
       "      <td>IPDTGELFF</td>\n",
       "      <td>[0.6372780799865723, 0.36321160197257996, 0.24...</td>\n",
       "      <td>TRBJ2-2*01</td>\n",
       "      <td>TRBV3-1*01</td>\n",
       "      <td>HLA-DPA*01:03</td>\n",
       "      <td>HLA-DPB*04:01</td>\n",
       "      <td>0</td>\n",
       "      <td>1</td>\n",
       "      <td>1</td>\n",
       "      <td>0</td>\n",
       "      <td>...</td>\n",
       "      <td>0</td>\n",
       "      <td>1</td>\n",
       "      <td>0</td>\n",
       "      <td>0</td>\n",
       "      <td>1</td>\n",
       "      <td>0</td>\n",
       "      <td>1</td>\n",
       "      <td>1</td>\n",
       "      <td>TFEYVSQPFLMDLE</td>\n",
       "      <td>0</td>\n",
       "    </tr>\n",
       "    <tr>\n",
       "      <th>29764</th>\n",
       "      <td>SPAVHRVANNEQLF</td>\n",
       "      <td>[0.564970850944519, 0.5742573142051697, -0.137...</td>\n",
       "      <td>TRBJ2-1*01</td>\n",
       "      <td>TRBV2*01</td>\n",
       "      <td>HLA-B*07:02</td>\n",
       "      <td>B2M</td>\n",
       "      <td>0</td>\n",
       "      <td>1</td>\n",
       "      <td>0</td>\n",
       "      <td>0</td>\n",
       "      <td>...</td>\n",
       "      <td>0</td>\n",
       "      <td>1</td>\n",
       "      <td>1</td>\n",
       "      <td>1</td>\n",
       "      <td>1</td>\n",
       "      <td>0</td>\n",
       "      <td>0</td>\n",
       "      <td>0</td>\n",
       "      <td>SPRWYFYYL</td>\n",
       "      <td>0</td>\n",
       "    </tr>\n",
       "  </tbody>\n",
       "</table>\n",
       "<p>29765 rows × 27 columns</p>\n",
       "</div>"
      ],
      "text/plain": [
       "                     cdr3                                        crd3_encode  \\\n",
       "0           CAAAERNTGELFF  [-0.16498591005802155, -0.1462753862142563, 0....   \n",
       "1          CAAEDPEWGAEAFF  [-0.24984240531921387, 0.38962453603744507, -0...   \n",
       "2           CAAGAGLSYEQYF  [-0.7613160014152527, 0.263674259185791, -0.52...   \n",
       "3           CAAGDANTGELFF  [-0.7613160014152527, 0.263674259185791, -0.52...   \n",
       "4         CAAGEMFGLGETQYF  [-0.7613160014152527, 0.263674259185791, -0.52...   \n",
       "...                   ...                                                ...   \n",
       "29760       CVTGQGDINEQFF  [0.07739217579364777, 0.0676565170288086, 0.14...   \n",
       "29761  CVTSAPLRQGLFNYGYTF  [0.17337776720523834, 0.1124500036239624, 0.03...   \n",
       "29762           CWGNTEAFF  [-0.13605011999607086, 0.22847767174243927, 0....   \n",
       "29763           IPDTGELFF  [0.6372780799865723, 0.36321160197257996, 0.24...   \n",
       "29764      SPAVHRVANNEQLF  [0.564970850944519, 0.5742573142051697, -0.137...   \n",
       "\n",
       "           j.segm        v.seg          mhc.a          mhc.b  v.seg_0  \\\n",
       "0      TRBJ2-2*01    TRBV28*01       HLA-A*02            B2M        0   \n",
       "1      TRBJ1-1*01    TRBV30*01    HLA-A*03:01            B2M        0   \n",
       "2      TRBJ2-7*01    TRBV27*01       HLA-A*02            B2M        0   \n",
       "3      TRBJ2-2*01   TRBV5-1*01    HLA-A*02:01            B2M        0   \n",
       "4      TRBJ2-5*01   TRBV4-2*01    HLA-A*03:01            B2M        0   \n",
       "...           ...          ...            ...            ...      ...   \n",
       "29760  TRBJ2-1*01  TRBV11-1*01    HLA-A*03:01            B2M        0   \n",
       "29761  TRBJ1-2*01  TRBV24-1*01       HLA-A*02            B2M        0   \n",
       "29762  TRBJ1-1*01  TRBV12-4*01    HLA-A*03:01            B2M        0   \n",
       "29763  TRBJ2-2*01   TRBV3-1*01  HLA-DPA*01:03  HLA-DPB*04:01        0   \n",
       "29764  TRBJ2-1*01     TRBV2*01    HLA-B*07:02            B2M        0   \n",
       "\n",
       "       v.seg_1  v.seg_2  v.seg_3  ...  mhc.a_1  mhc.a_2  mhc.a_3  mhc.a_4  \\\n",
       "0            1        1        0  ...        0        0        0        1   \n",
       "1            1        1        0  ...        0        0        1        1   \n",
       "2            1        0        1  ...        0        0        0        1   \n",
       "3            1        1        1  ...        0        0        0        1   \n",
       "4            1        1        1  ...        0        0        1        1   \n",
       "...        ...      ...      ...  ...      ...      ...      ...      ...   \n",
       "29760        0        0        1  ...        0        0        1        1   \n",
       "29761        1        0        1  ...        0        0        0        1   \n",
       "29762        0        1        0  ...        0        0        1        1   \n",
       "29763        1        1        0  ...        0        1        0        0   \n",
       "29764        1        0        0  ...        0        1        1        1   \n",
       "\n",
       "       mhc.a_5  mhc.a_6  mhc.b_label  mhc.class  antigen.epitope  vdjdb.score  \n",
       "0            0        0            0          0        YLQPRTFLL            0  \n",
       "1            1        1            0          0        KLGGALQAK            0  \n",
       "2            0        0            0          0        NLVPMVATV            0  \n",
       "3            0        1            0          0        YLQPRTFLL            0  \n",
       "4            1        1            0          0        KLGGALQAK            0  \n",
       "...        ...      ...          ...        ...              ...          ...  \n",
       "29760        1        1            0          0        KLGGALQAK            0  \n",
       "29761        0        0            0          0        GILGFVFTL            0  \n",
       "29762        1        1            0          0        KLGGALQAK            0  \n",
       "29763        1        0            1          1   TFEYVSQPFLMDLE            0  \n",
       "29764        1        0            0          0        SPRWYFYYL            0  \n",
       "\n",
       "[29765 rows x 27 columns]"
      ]
     },
     "execution_count": 4,
     "metadata": {},
     "output_type": "execute_result"
    }
   ],
   "source": [
    "data"
   ]
  },
  {
   "cell_type": "code",
   "execution_count": 5,
   "id": "7ffee024",
   "metadata": {},
   "outputs": [],
   "source": [
    "# data=pd.read_csv('cleaned_data.csv')"
   ]
  },
  {
   "cell_type": "code",
   "execution_count": 6,
   "id": "95448cce",
   "metadata": {},
   "outputs": [
    {
     "name": "stdout",
     "output_type": "stream",
     "text": [
      "<class 'pandas.core.frame.DataFrame'>\n",
      "RangeIndex: 29765 entries, 0 to 29764\n",
      "Data columns (total 27 columns):\n",
      " #   Column           Non-Null Count  Dtype \n",
      "---  ------           --------------  ----- \n",
      " 0   cdr3             29765 non-null  object\n",
      " 1   crd3_encode      29765 non-null  object\n",
      " 2   j.segm           29765 non-null  object\n",
      " 3   v.seg            29765 non-null  object\n",
      " 4   mhc.a            29765 non-null  object\n",
      " 5   mhc.b            29765 non-null  object\n",
      " 6   v.seg_0          29765 non-null  int64 \n",
      " 7   v.seg_1          29765 non-null  int64 \n",
      " 8   v.seg_2          29765 non-null  int64 \n",
      " 9   v.seg_3          29765 non-null  int64 \n",
      " 10  v.seg_4          29765 non-null  int64 \n",
      " 11  v.seg_5          29765 non-null  int64 \n",
      " 12  j.segm_0         29765 non-null  int64 \n",
      " 13  j.segm_1         29765 non-null  int64 \n",
      " 14  j.segm_2         29765 non-null  int64 \n",
      " 15  j.segm_3         29765 non-null  int64 \n",
      " 16  mhc.a_0          29765 non-null  int64 \n",
      " 17  mhc.a_1          29765 non-null  int64 \n",
      " 18  mhc.a_2          29765 non-null  int64 \n",
      " 19  mhc.a_3          29765 non-null  int64 \n",
      " 20  mhc.a_4          29765 non-null  int64 \n",
      " 21  mhc.a_5          29765 non-null  int64 \n",
      " 22  mhc.a_6          29765 non-null  int64 \n",
      " 23  mhc.b_label      29765 non-null  int64 \n",
      " 24  mhc.class        29765 non-null  int64 \n",
      " 25  antigen.epitope  29765 non-null  object\n",
      " 26  vdjdb.score      29765 non-null  int64 \n",
      "dtypes: int64(20), object(7)\n",
      "memory usage: 6.1+ MB\n"
     ]
    }
   ],
   "source": [
    "data.info()"
   ]
  },
  {
   "cell_type": "code",
   "execution_count": 7,
   "id": "5b18401e",
   "metadata": {},
   "outputs": [
    {
     "data": {
      "text/plain": [
       "KLGGALQAK               12740\n",
       "NLVPMVATV                4776\n",
       "GILGFVFTL                3739\n",
       "AVFDRKSDAK               1652\n",
       "ELAGIGILTV               1444\n",
       "GLCTLVAML                1086\n",
       "YLQPRTFLL                 977\n",
       "RAKFKQLL                  875\n",
       "IVTDFSVIK                 553\n",
       "SPRWYFYYL                 543\n",
       "KRWIILGLNK                484\n",
       "TFEYVSQPFLMDLE            453\n",
       "FRDYVDRFYKTLRAEQASQE      443\n",
       "Name: antigen.epitope, dtype: int64"
      ]
     },
     "execution_count": 7,
     "metadata": {},
     "output_type": "execute_result"
    }
   ],
   "source": [
    "data['antigen.epitope'].value_counts()"
   ]
  },
  {
   "cell_type": "code",
   "execution_count": 8,
   "id": "a71d25dc",
   "metadata": {},
   "outputs": [],
   "source": [
    "# data = data[data['antigen.epitope'].map(data['antigen.epitope'].value_counts(normalize=True)) > 0.1] #drop the clusters with little data"
   ]
  },
  {
   "cell_type": "code",
   "execution_count": 9,
   "id": "42b033e7",
   "metadata": {},
   "outputs": [
    {
     "data": {
      "text/plain": [
       "Counter({1: 29360, 2: 198, 3: 3})"
      ]
     },
     "execution_count": 9,
     "metadata": {},
     "output_type": "execute_result"
    }
   ],
   "source": [
    "from collections import Counter\n",
    "Counter(list(data.groupby(by=['cdr3','j.segm','mhc.a','mhc.b','mhc.class','v.seg'])['antigen.epitope'].count()))"
   ]
  },
  {
   "cell_type": "code",
   "execution_count": 10,
   "id": "54d6f372",
   "metadata": {},
   "outputs": [],
   "source": [
    "def generate_kmers(sequence, k):\n",
    "    \"\"\"Generate k-mers for a given sequence.\"\"\"\n",
    "    return [sequence[i:i+k] for i in range(len(sequence)-k+1)]\n",
    "k=3 # change the k for kmers\n",
    "all_kmers = [kmer for seq in data['cdr3'] for kmer in generate_kmers(seq, k)]\n",
    "\n",
    "# Count the frequency of each 4-mer\n",
    "kmer_counts = Counter(all_kmers)"
   ]
  },
  {
   "cell_type": "code",
   "execution_count": 11,
   "id": "a3be0384",
   "metadata": {},
   "outputs": [],
   "source": [
    "sentence=[]\n",
    "for seq in data['cdr3']:\n",
    "    temp=generate_kmers(seq,k)\n",
    "    sentence.append(temp)\n",
    "f=open('kmer_3.txt','w')\n",
    "f.writelines('\\n'.join([' '.join(l) for l in sentence]))\n",
    "'''add to data'''\n",
    "data=data.reset_index()\n",
    "data['kmers']=pd.Series(sentence)"
   ]
  },
  {
   "cell_type": "code",
   "execution_count": 12,
   "id": "1dcc7695",
   "metadata": {},
   "outputs": [
    {
     "data": {
      "text/plain": [
       "29765"
      ]
     },
     "execution_count": 12,
     "metadata": {},
     "output_type": "execute_result"
    }
   ],
   "source": [
    "len(sentence)"
   ]
  },
  {
   "cell_type": "code",
   "execution_count": 13,
   "id": "db2a1d56",
   "metadata": {},
   "outputs": [],
   "source": [
    "from gensim.models import Word2Vec\n",
    "kmer_model=Word2Vec.load('.\\model\\kmer_word2vec_50.model')"
   ]
  },
  {
   "cell_type": "code",
   "execution_count": 14,
   "id": "b045b299",
   "metadata": {},
   "outputs": [],
   "source": [
    "# def embedding(data,model):\n",
    "#     vec=[]\n",
    "#     vectors = model.wv\n",
    "#     length=data.map(len).max()\n",
    "#     for sentence in list(data):\n",
    "#         sentence=list(sentence)\n",
    "#         sentence_vector=[vectors[i] for i in sentence]\n",
    "# #         print(len(sentence_vector))\n",
    "#         while len(sentence_vector)<length:\n",
    "#             sentence_vector.append(np.zeros_like(vectors[sentence[0]]))\n",
    "# #         print(sentence_vector)\n",
    "#         vec.append(sentence_vector)\n",
    "#     return vec"
   ]
  },
  {
   "cell_type": "code",
   "execution_count": 15,
   "id": "368ccbe4",
   "metadata": {},
   "outputs": [],
   "source": [
    "# trb_embed=embedding(data['kmers'],kmer_model)\n",
    "# data['kmers']=trb_embed"
   ]
  },
  {
   "cell_type": "code",
   "execution_count": 16,
   "id": "11249eba",
   "metadata": {},
   "outputs": [],
   "source": [
    "# #copy data according to score\n",
    "# data=pd.concat([data,data[data['vdjdb.score']==1]])\n",
    "# data=pd.concat([data,data[data['vdjdb.score']==2]])\n",
    "# data=pd.concat([data,data[data['vdjdb.score']==2]])"
   ]
  },
  {
   "cell_type": "markdown",
   "id": "8716d71f",
   "metadata": {},
   "source": [
    "----------------------------finish data processing"
   ]
  },
  {
   "cell_type": "markdown",
   "id": "321f07d0",
   "metadata": {},
   "source": [
    "### only use cdr"
   ]
  },
  {
   "cell_type": "code",
   "execution_count": 17,
   "id": "9df7f0e5",
   "metadata": {},
   "outputs": [],
   "source": [
    "# 将词向量作为embedding层的初始值\n",
    "weights = torch.FloatTensor(kmer_model.wv.vectors)\n",
    "embedding= nn.Embedding.from_pretrained(embeddings=weights, freeze=False)\n",
    "# 构建词典\n",
    "idx2word ={ i:k for i,k in enumerate(kmer_model.wv.key_to_index.keys())}\n",
    "word2idx ={ k:i for i,k in enumerate(kmer_model.wv.key_to_index.keys())}"
   ]
  },
  {
   "cell_type": "code",
   "execution_count": 18,
   "id": "641cb7f0",
   "metadata": {},
   "outputs": [
    {
     "name": "stdout",
     "output_type": "stream",
     "text": [
      "7102\n"
     ]
    }
   ],
   "source": [
    "# 定义新词\n",
    "pad_word,unk_word,other_label ='<pad>', '<unk>', 'Other'\n",
    "\n",
    "new_id=len(word2idx)\n",
    "idx2word[new_id]=pad_word\n",
    "word2idx[pad_word]=new_id\n",
    "print(word2idx[pad_word])"
   ]
  },
  {
   "cell_type": "code",
   "execution_count": 19,
   "id": "f6686475",
   "metadata": {},
   "outputs": [
    {
     "name": "stdout",
     "output_type": "stream",
     "text": [
      "torch.Size([7103, 50])\n"
     ]
    }
   ],
   "source": [
    "# 构建词向量，并添加到权值矩阵中\n",
    "embedding_dim=50  #尝试100，不咋地 换50 更不行\n",
    "new_vec=np.random.uniform(-np.sqrt(3.0 / embedding_dim), np.sqrt(3.0 / embedding_dim), embedding_dim)\n",
    "new_vec=torch.Tensor(new_vec).view(1,-1)\n",
    "weights=torch.cat([weights,new_vec],dim=0)\n",
    "print(weights.size())"
   ]
  },
  {
   "cell_type": "code",
   "execution_count": 20,
   "id": "0e05f053",
   "metadata": {},
   "outputs": [
    {
     "data": {
      "text/html": [
       "<div>\n",
       "<style scoped>\n",
       "    .dataframe tbody tr th:only-of-type {\n",
       "        vertical-align: middle;\n",
       "    }\n",
       "\n",
       "    .dataframe tbody tr th {\n",
       "        vertical-align: top;\n",
       "    }\n",
       "\n",
       "    .dataframe thead th {\n",
       "        text-align: right;\n",
       "    }\n",
       "</style>\n",
       "<table border=\"1\" class=\"dataframe\">\n",
       "  <thead>\n",
       "    <tr style=\"text-align: right;\">\n",
       "      <th></th>\n",
       "      <th>kmers</th>\n",
       "      <th>antigen.epitope</th>\n",
       "    </tr>\n",
       "  </thead>\n",
       "  <tbody>\n",
       "    <tr>\n",
       "      <th>0</th>\n",
       "      <td>[CAA, AAA, AAE, AER, ERN, RNT, NTG, TGE, GEL, ...</td>\n",
       "      <td>YLQPRTFLL</td>\n",
       "    </tr>\n",
       "    <tr>\n",
       "      <th>1</th>\n",
       "      <td>[CAA, AAE, AED, EDP, DPE, PEW, EWG, WGA, GAE, ...</td>\n",
       "      <td>KLGGALQAK</td>\n",
       "    </tr>\n",
       "    <tr>\n",
       "      <th>2</th>\n",
       "      <td>[CAA, AAG, AGA, GAG, AGL, GLS, LSY, SYE, YEQ, ...</td>\n",
       "      <td>NLVPMVATV</td>\n",
       "    </tr>\n",
       "    <tr>\n",
       "      <th>3</th>\n",
       "      <td>[CAA, AAG, AGD, GDA, DAN, ANT, NTG, TGE, GEL, ...</td>\n",
       "      <td>YLQPRTFLL</td>\n",
       "    </tr>\n",
       "    <tr>\n",
       "      <th>4</th>\n",
       "      <td>[CAA, AAG, AGE, GEM, EMF, MFG, FGL, GLG, LGE, ...</td>\n",
       "      <td>KLGGALQAK</td>\n",
       "    </tr>\n",
       "    <tr>\n",
       "      <th>...</th>\n",
       "      <td>...</td>\n",
       "      <td>...</td>\n",
       "    </tr>\n",
       "    <tr>\n",
       "      <th>29760</th>\n",
       "      <td>[CVT, VTG, TGQ, GQG, QGD, GDI, DIN, INE, NEQ, ...</td>\n",
       "      <td>KLGGALQAK</td>\n",
       "    </tr>\n",
       "    <tr>\n",
       "      <th>29761</th>\n",
       "      <td>[CVT, VTS, TSA, SAP, APL, PLR, LRQ, RQG, QGL, ...</td>\n",
       "      <td>GILGFVFTL</td>\n",
       "    </tr>\n",
       "    <tr>\n",
       "      <th>29762</th>\n",
       "      <td>[CWG, WGN, GNT, NTE, TEA, EAF, AFF]</td>\n",
       "      <td>KLGGALQAK</td>\n",
       "    </tr>\n",
       "    <tr>\n",
       "      <th>29763</th>\n",
       "      <td>[IPD, PDT, DTG, TGE, GEL, ELF, LFF]</td>\n",
       "      <td>TFEYVSQPFLMDLE</td>\n",
       "    </tr>\n",
       "    <tr>\n",
       "      <th>29764</th>\n",
       "      <td>[SPA, PAV, AVH, VHR, HRV, RVA, VAN, ANN, NNE, ...</td>\n",
       "      <td>SPRWYFYYL</td>\n",
       "    </tr>\n",
       "  </tbody>\n",
       "</table>\n",
       "<p>29765 rows × 2 columns</p>\n",
       "</div>"
      ],
      "text/plain": [
       "                                                   kmers antigen.epitope\n",
       "0      [CAA, AAA, AAE, AER, ERN, RNT, NTG, TGE, GEL, ...       YLQPRTFLL\n",
       "1      [CAA, AAE, AED, EDP, DPE, PEW, EWG, WGA, GAE, ...       KLGGALQAK\n",
       "2      [CAA, AAG, AGA, GAG, AGL, GLS, LSY, SYE, YEQ, ...       NLVPMVATV\n",
       "3      [CAA, AAG, AGD, GDA, DAN, ANT, NTG, TGE, GEL, ...       YLQPRTFLL\n",
       "4      [CAA, AAG, AGE, GEM, EMF, MFG, FGL, GLG, LGE, ...       KLGGALQAK\n",
       "...                                                  ...             ...\n",
       "29760  [CVT, VTG, TGQ, GQG, QGD, GDI, DIN, INE, NEQ, ...       KLGGALQAK\n",
       "29761  [CVT, VTS, TSA, SAP, APL, PLR, LRQ, RQG, QGL, ...       GILGFVFTL\n",
       "29762                [CWG, WGN, GNT, NTE, TEA, EAF, AFF]       KLGGALQAK\n",
       "29763                [IPD, PDT, DTG, TGE, GEL, ELF, LFF]  TFEYVSQPFLMDLE\n",
       "29764  [SPA, PAV, AVH, VHR, HRV, RVA, VAN, ANN, NNE, ...       SPRWYFYYL\n",
       "\n",
       "[29765 rows x 2 columns]"
      ]
     },
     "execution_count": 20,
     "metadata": {},
     "output_type": "execute_result"
    }
   ],
   "source": [
    "cnninput=data[['kmers','antigen.epitope']]\n",
    "cnninput"
   ]
  },
  {
   "cell_type": "code",
   "execution_count": 21,
   "id": "fa5d858e",
   "metadata": {},
   "outputs": [
    {
     "name": "stderr",
     "output_type": "stream",
     "text": [
      "C:\\Users\\15617\\AppData\\Local\\Temp\\ipykernel_21844\\3370284251.py:1: SettingWithCopyWarning: \n",
      "A value is trying to be set on a copy of a slice from a DataFrame.\n",
      "Try using .loc[row_indexer,col_indexer] = value instead\n",
      "\n",
      "See the caveats in the documentation: https://pandas.pydata.org/pandas-docs/stable/user_guide/indexing.html#returning-a-view-versus-a-copy\n",
      "  cnninput['kmers']=cnninput['kmers'].astype(str)\n"
     ]
    }
   ],
   "source": [
    "cnninput['kmers']=cnninput['kmers'].astype(str)"
   ]
  },
  {
   "cell_type": "code",
   "execution_count": 22,
   "id": "437a9255",
   "metadata": {},
   "outputs": [],
   "source": [
    "cnninput = cnninput.drop_duplicates(subset='kmers', keep='first')"
   ]
  },
  {
   "cell_type": "code",
   "execution_count": 23,
   "id": "bfc0e202",
   "metadata": {},
   "outputs": [
    {
     "name": "stderr",
     "output_type": "stream",
     "text": [
      "C:\\Users\\15617\\AppData\\Local\\Temp\\ipykernel_21844\\2706445547.py:1: SettingWithCopyWarning: \n",
      "A value is trying to be set on a copy of a slice from a DataFrame.\n",
      "Try using .loc[row_indexer,col_indexer] = value instead\n",
      "\n",
      "See the caveats in the documentation: https://pandas.pydata.org/pandas-docs/stable/user_guide/indexing.html#returning-a-view-versus-a-copy\n",
      "  cnninput['kmers']=[eval(i) for i in cnninput['kmers']]\n"
     ]
    }
   ],
   "source": [
    "cnninput['kmers']=[eval(i) for i in cnninput['kmers']]"
   ]
  },
  {
   "cell_type": "code",
   "execution_count": 24,
   "id": "954c1e89",
   "metadata": {},
   "outputs": [],
   "source": [
    "# split dataset\n",
    "train_data, test_data = train_test_split(cnninput, \n",
    "                                          stratify=cnninput['antigen.epitope'], \n",
    "                                          train_size=0.8, \n",
    "                                          test_size=0.2)"
   ]
  },
  {
   "cell_type": "code",
   "execution_count": 25,
   "id": "498f7288",
   "metadata": {},
   "outputs": [
    {
     "data": {
      "text/plain": [
       "(22016, 36, 50)"
      ]
     },
     "execution_count": 25,
     "metadata": {},
     "output_type": "execute_result"
    }
   ],
   "source": [
    "\n",
    "m=context_size\n",
    "train_texts=[]\n",
    "train_inputs=[]\n",
    "for i in train_data['kmers']:\n",
    "    if len(i)>int(m):\n",
    "        i=i[0:int(m)]\n",
    "    else:\n",
    "        i+=['<pad>']*(int(m)-len(i))\n",
    "    t=[]\n",
    "    item=[]\n",
    "    for j in i:\n",
    "        #print(j)\n",
    "        t.append(weights[word2idx[j]].tolist())\n",
    "        item.append(word2idx[j])\n",
    "    #print(t)\n",
    "    train_texts.append(t)\n",
    "    train_inputs.append(item) # index of words\n",
    "\n",
    "test_texts=[]\n",
    "test_inputs=[]\n",
    "for i in test_data['kmers']:\n",
    "    if len(i)>int(m):\n",
    "        i=i[0:int(m)]\n",
    "    else:\n",
    "        i+=['<pad>']*(int(m)-len(i))\n",
    "    t=[]\n",
    "    item=[]\n",
    "    for j in i:\n",
    "        #print(j)\n",
    "        t.append(weights[word2idx[j]].tolist())\n",
    "        item.append(word2idx[j])\n",
    "    #print(t)\n",
    "    test_texts.append(t)\n",
    "    test_inputs.append(item) # index of words\n",
    "np.array(train_texts).shape # embedding result"
   ]
  },
  {
   "cell_type": "code",
   "execution_count": 26,
   "id": "9071fc4d",
   "metadata": {},
   "outputs": [
    {
     "data": {
      "text/plain": [
       "{'RAKFKQLL': 0,\n",
       " 'KRWIILGLNK': 1,\n",
       " 'FRDYVDRFYKTLRAEQASQE': 2,\n",
       " 'TFEYVSQPFLMDLE': 3,\n",
       " 'IVTDFSVIK': 4,\n",
       " 'YLQPRTFLL': 5,\n",
       " 'GLCTLVAML': 6,\n",
       " 'SPRWYFYYL': 7,\n",
       " 'AVFDRKSDAK': 8,\n",
       " 'NLVPMVATV': 9,\n",
       " 'KLGGALQAK': 10,\n",
       " 'GILGFVFTL': 11,\n",
       " 'ELAGIGILTV': 12}"
      ]
     },
     "execution_count": 26,
     "metadata": {},
     "output_type": "execute_result"
    }
   ],
   "source": [
    "'''构建标签的字典'''\n",
    "target=[]\n",
    "anti2id={}\n",
    "anti2id=dict(zip(list(set(cnninput['antigen.epitope'])),range(len(list(set(cnninput['antigen.epitope']))))))\n",
    "id2anti=dict(zip(range(len(list(set(cnninput['antigen.epitope'])))),list(set(cnninput['antigen.epitope']))))\n",
    "train_target=[anti2id[i] for i in train_data['antigen.epitope']]#编码化的原标签\n",
    "test_target=[anti2id[i] for i in test_data['antigen.epitope']]#编码化的原标签\n",
    "num_classes=len(anti2id)\n",
    "anti2id"
   ]
  },
  {
   "cell_type": "code",
   "execution_count": 27,
   "id": "4cf5f492",
   "metadata": {},
   "outputs": [],
   "source": [
    "# input_x = np.concatenate((np.array(inputs), np.array(e1).reshape(-1,1), np.array(e2).reshape(-1,1), np.array(d1), np.array(d2)), 1)\n",
    "# input_x.shape"
   ]
  },
  {
   "cell_type": "code",
   "execution_count": 28,
   "id": "79789da8",
   "metadata": {},
   "outputs": [],
   "source": [
    "# input=np.array(data['crd3_encode'].apply(eval).apply(np.array))"
   ]
  },
  {
   "cell_type": "code",
   "execution_count": 29,
   "id": "742caa37",
   "metadata": {},
   "outputs": [],
   "source": [
    "# stacked_arrays = np.hstack(input)\n",
    "\n",
    "# 对结果进行垂直堆叠，保持原始数组的维度结构\n",
    "# input = np.vstack(input)\n",
    "# input.shape"
   ]
  },
  {
   "cell_type": "code",
   "execution_count": 30,
   "id": "b9e8e6ff",
   "metadata": {},
   "outputs": [],
   "source": [
    "def get_batch(x, y, batch_size=BATCH_SIZE, shuffle=True):\n",
    "    \"\"\"\n",
    "    构建迭代器，获取批次数据\n",
    "    :param x: 需要划分全部特征数据的数据集\n",
    "    :param y: 需要划分全部标签数据的数据集\n",
    "    :param batch_size: 批次大小\n",
    "    :param shuffle: 是否打乱\n",
    "    :return: 以迭代器的方式返回数据\n",
    "    \"\"\"\n",
    "    assert x.shape[0] == y.shape[0], \"error shape!\"\n",
    "    if shuffle:\n",
    "        # 该函数是对[0, x.shape[0])进行随机排序\n",
    "        shuffled_index = np.random.permutation(range(x.shape[0]))\n",
    "        # 使用随机排序后的索引获取新的数据集结果\n",
    "        x = x[shuffled_index]\n",
    "        y = y[shuffled_index]\n",
    "\n",
    "    n_batches = int(x.shape[0] / batch_size)  # 统计共几个完整的batch\n",
    "    for i in range(n_batches - 1):\n",
    "        x_batch = x[i*batch_size: (i + 1)*batch_size]\n",
    "        y_batch = y[i*batch_size: (i + 1)*batch_size]\n",
    "        yield x_batch, y_batch"
   ]
  },
  {
   "cell_type": "code",
   "execution_count": 31,
   "id": "4d84f822",
   "metadata": {},
   "outputs": [],
   "source": [
    "def get_roc_auc(trues, preds):\n",
    "    fpr = dict()\n",
    "    tpr = dict()\n",
    "    roc_auc = dict()\n",
    "    #print(trues, preds)\n",
    "    for i in range(num_classes):\n",
    "        fpr[i], tpr[i], _ = roc_curve(trues[:, i], preds[:, i])\n",
    "        roc_auc[i] = auc(fpr[i], tpr[i])\n",
    "        # Compute micro-average ROC curve and ROC area\n",
    "    fpr[\"micro\"], tpr[\"micro\"], _ = roc_curve(trues.ravel(), preds.ravel())\n",
    "    roc_auc[\"micro\"] = auc(fpr[\"micro\"], tpr[\"micro\"])\n",
    "    # First aggregate all false positive rates\n",
    "    all_fpr = np.unique(np.concatenate([fpr[i] for i in range(num_classes)]))\n",
    "    # Then interpolate all ROC curves at this points\n",
    "    mean_tpr = np.zeros_like(all_fpr)\n",
    "    for i in range(num_classes):\n",
    "        mean_tpr += np.interp(all_fpr, fpr[i], tpr[i])\n",
    "    # Finally average it and compute AUC\n",
    "    mean_tpr /= num_classes\n",
    "    fpr[\"macro\"] = all_fpr\n",
    "    tpr[\"macro\"] = mean_tpr\n",
    "    roc_auc[\"macro\"] = auc(fpr[\"macro\"], tpr[\"macro\"])\n",
    "    # Plot all ROC curves\n",
    "    lw = 2\n",
    "    plt.figure()\n",
    "    plt.plot(fpr[\"micro\"], tpr[\"micro\"],label='micro-average ROC curve (area = {0:0.2f})'.format(roc_auc[\"micro\"]),color='deeppink', linestyle=':', linewidth=4)\n",
    "    plt.plot(fpr[\"macro\"], tpr[\"macro\"],label='macro-average ROC curve (area = {0:0.2f})'.format(roc_auc[\"macro\"]),color='navy', linestyle=':', linewidth=4)\n",
    "    colors = cycle(['aqua', 'darkorange', 'cornflowerblue'])\n",
    "    for i, color in zip(range(num_classes), colors):\n",
    "        plt.plot(fpr[i], tpr[i], color=color, lw=lw, label='ROC curve of class {0} (area = {1:0.2f})'.format(i, roc_auc[i]))\n",
    "    plt.plot([0, 1], [0, 1], 'k--', lw=lw)\n",
    "    plt.xlim([0.0, 1.0])\n",
    "    plt.ylim([0.0, 1.05])\n",
    "    plt.xlabel('False Positive Rate')\n",
    "    plt.ylabel('True Positive Rate')\n",
    "    plt.title('Some extension of Receiver operating characteristic to multi-class')\n",
    "    plt.legend(loc=2, bbox_to_anchor=(1.05,1.0),borderaxespad = 0.)\n",
    "    #plt.legend(loc=\"lower right\")\n",
    "    plt.savefig(\"ROC_13分类.png\")\n",
    "    plt.show()"
   ]
  },
  {
   "cell_type": "code",
   "execution_count": 32,
   "id": "26bb5a0b",
   "metadata": {
    "scrolled": true
   },
   "outputs": [],
   "source": [
    "\n",
    "\n",
    "class TextCNN(nn.Module):\n",
    "    # output_size为输出类别（2个类别，0和1）,三种kernel，size分别是3,4，5，每种kernel有100个\n",
    "    def __init__(self, vocab_size, embedding_dim, output_size, filter_num=100, kernel_list=(3, 4, 5), dropout=0.5, embeddings_pretrained=None):\n",
    "        super(TextCNN, self).__init__()\n",
    "        self.embedding = nn.Embedding(vocab_size, embedding_dim)\n",
    "        if embeddings_pretrained is not None:\n",
    "            self.embedding = self.embedding.from_pretrained(embeddings_pretrained, freeze=False)\n",
    "        # 1表示channel_num，filter_num即输出数据通道数，卷积核大小为(kernel, embedding_dim)\n",
    "        self.convs = nn.ModuleList([\n",
    "            nn.Sequential(nn.Conv2d(1, filter_num, (kernel, embedding_dim)),\n",
    "                          nn.LeakyReLU(),\n",
    "                          nn.MaxPool2d((LARGE_SENTENCE_SIZE - kernel + 1, 1)))\n",
    "            for kernel in kernel_list\n",
    "        ])\n",
    "        self.fc = nn.Linear(filter_num * len(kernel_list), output_size)\n",
    "        self.dropout = nn.Dropout(dropout)\n",
    "\n",
    "    def forward(self, x):\n",
    "#         x = torch.tensor(x, dtype=torch.long)\n",
    "        x = self.embedding(x)  # [128, 50, 200] (batch, seq_len, embedding_dim)\n",
    "#         print(x.shape)\n",
    "        x = x.unsqueeze(1)     # [128, 1, 50, 200] 即(batch, channel_num, seq_len, embedding_dim)\n",
    "#         print(x.shape)\n",
    "        out = [conv(x) for conv in self.convs]\n",
    "        out = torch.cat(out, dim=1)   # [128, 300, 1, 1]，各通道的数据拼接在一起\n",
    "        out = out.view(x.size(0), -1)  # 展平\n",
    "        out = self.dropout(out)        # 构建dropout层\n",
    "        logits = self.fc(out)          # 结果输出[128, 2]\n",
    "        return logits\n",
    "\n",
    "\n",
    "# 数据获取\n",
    "VOB_SIZE=7102\n",
    "# 数据处理\n",
    "X_train, X_test, y_train, y_test = np.array(train_inputs),np.array(test_inputs),np.array(train_target),np.array(test_target)\n",
    "# 模型构建\n",
    "cnn = TextCNN(VOB_SIZE, EMBEDDING_SIZE, 127,embeddings_pretrained=weights)\n",
    "# print(cnn)\n",
    "# 优化器选择\n",
    "optimizer = optim.Adam(cnn.parameters(), lr=LEARNING_RATE)\n",
    "# 损失函数选择\n",
    "criterion = nn.CrossEntropyLoss()\n",
    "\n",
    "\n"
   ]
  },
  {
   "cell_type": "code",
   "execution_count": 33,
   "id": "b47fef1b",
   "metadata": {
    "scrolled": false
   },
   "outputs": [
    {
     "name": "stdout",
     "output_type": "stream",
     "text": [
      "epoch=0,训练准确率=0.08294121227871287 测试准确率=0.0795308386460272 AUC= 0.5056770054500602\n",
      "epoch=1,训练准确率=0.11468037052129836 测试准确率=0.11503280849484612 AUC= 0.5215673229961441\n",
      "epoch=2,训练准确率=0.12660130713644246 测试准确率=0.12024304465059958 AUC= 0.5241683171395183\n",
      "epoch=3,训练准确率=0.13689093861835153 测试准确率=0.12998956388289856 AUC= 0.5269275908780628\n",
      "epoch=4,训练准确率=0.13866737224300976 测试准确率=0.1321919207582318 AUC= 0.526145951205878\n",
      "epoch=5,训练准确率=0.14471391112640802 测试准确率=0.1361987167530101 AUC= 0.5309980304813631\n",
      "epoch=6,训练准确率=0.1483424042759633 测试准确率=0.14387780241328182 AUC= 0.5343237583062066\n",
      "epoch=7,训练准确率=0.15238568608069974 测试准确率=0.14289388945238907 AUC= 0.5345649579316356\n",
      "epoch=8,训练准确率=0.15933052555400676 测试准确率=0.14173382935520143 AUC= 0.5355961335029623\n",
      "epoch=9,训练准确率=0.16005528496263768 测试准确率=0.1506519597144909 AUC= 0.5383388383027954\n",
      "epoch=10,训练准确率=0.16884255241585347 测试准确率=0.15072894467235903 AUC= 0.5401493429752734\n",
      "epoch=11,训练准确率=0.1746166289241672 测试准确率=0.15551577387292137 AUC= 0.5423034481456888\n",
      "epoch=12,训练准确率=0.18208340361894962 测试准确率=0.1687795821012775 AUC= 0.5468163640667896\n",
      "epoch=13,训练准确率=0.1852664814096446 测试准确率=0.1660566506677555 AUC= 0.54619157758612\n",
      "epoch=14,训练准确率=0.18733296571193933 测试准确率=0.1750834384760436 AUC= 0.5514836114572874\n",
      "epoch=15,训练准确率=0.19265146294184166 测试准确率=0.17602713680794232 AUC= 0.5509233658509802\n",
      "epoch=16,训练准确率=0.19936465253074392 测试准确率=0.17488864662138356 AUC= 0.55363859919587\n",
      "epoch=17,训练准确率=0.2011865467401227 测试准确率=0.17487646512088353 AUC= 0.5534273573371087\n",
      "epoch=18,训练准确率=0.20914380492593998 测试准确率=0.1771271711565237 AUC= 0.5545475916377609\n",
      "epoch=19,训练准确率=0.21636517354616921 测试准确率=0.17396633238944353 AUC= 0.5504781902155957\n",
      "epoch=20,训练准确率=0.20831202704878438 测试准确率=0.18223358054213565 AUC= 0.5556738373181485\n",
      "epoch=21,训练准确率=0.22471625252797015 测试准确率=0.17994483215880921 AUC= 0.5551888346206695\n",
      "epoch=22,训练准确率=0.22312152368521346 测试准确率=0.18422543939992864 AUC= 0.557979384781278\n",
      "epoch=23,训练准确率=0.22606653459468204 测试准确率=0.18658840617419992 AUC= 0.5569608635794685\n",
      "epoch=24,训练准确率=0.22657013290359135 测试准确率=0.18893069044030422 AUC= 0.5601713175328162\n",
      "epoch=25,训练准确率=0.23368222834748084 测试准确率=0.1914257823921223 AUC= 0.5599153654963595\n",
      "epoch=26,训练准确率=0.238029742004539 测试准确率=0.1966008672610162 AUC= 0.5621939632594853\n",
      "epoch=27,训练准确率=0.23834458878663015 测试准确率=0.1964465413127781 AUC= 0.5611635854951025\n",
      "epoch=28,训练准确率=0.24124935411341702 测试准确率=0.19600910739291538 AUC= 0.5625129367669933\n",
      "epoch=29,训练准确率=0.24869729547504404 测试准确率=0.19873773929254196 AUC= 0.5635607926322834\n",
      "epoch=30,训练准确率=0.24716435809289647 测试准确率=0.1996205373283744 AUC= 0.5654949439637905\n",
      "epoch=31,训练准确率=0.2541901185973083 测试准确率=0.2001442582229434 AUC= 0.5649951696211464\n",
      "epoch=32,训练准确率=0.25109819465734606 测试准确率=0.20714955437569324 AUC= 0.5656714510463121\n",
      "epoch=33,训练准确率=0.2547945903877304 测试准确率=0.20270824872507986 AUC= 0.5650442802438435\n",
      "epoch=34,训练准确率=0.2571799034560966 测试准确率=0.20711351225737934 AUC= 0.5661420273636661\n",
      "epoch=35,训练准确率=0.2657808810239739 测试准确率=0.20954439485159768 AUC= 0.5655926845214556\n",
      "epoch=36,训练准确率=0.27052294809202326 测试准确率=0.2023836856718322 AUC= 0.5657965893347677\n",
      "epoch=37,训练准确率=0.2751844446407643 测试准确率=0.19839307451578467 AUC= 0.5672652597713282\n",
      "epoch=38,训练准确率=0.27305661383266494 测试准确率=0.2099339533215025 AUC= 0.5656771782962944\n",
      "epoch=39,训练准确率=0.27724935772452947 测试准确率=0.21116961300140702 AUC= 0.571201386753603\n",
      "epoch=40,训练准确率=0.27275328718631187 测试准确率=0.20541649895911998 AUC= 0.5681722729067167\n",
      "epoch=41,训练准确率=0.2813031429886863 测试准确率=0.2213894476155024 AUC= 0.572074033584721\n",
      "epoch=42,训练准确率=0.2770239693330161 测试准确率=0.2111436523241354 AUC= 0.5713962326932515\n",
      "epoch=43,训练准确率=0.29097125392777906 测试准确率=0.21566467173183004 AUC= 0.5726239806110768\n",
      "epoch=44,训练准确率=0.28658932295006967 测试准确率=0.2207698885799482 AUC= 0.5705270030572318\n",
      "epoch=45,训练准确率=0.2922245657038522 测试准确率=0.2151354025118593 AUC= 0.5714981830913514\n",
      "epoch=46,训练准确率=0.29270942967114794 测试准确率=0.2119458912396004 AUC= 0.5711144916421058\n",
      "epoch=47,训练准确率=0.3014613540043531 测试准确率=0.21633160662196665 AUC= 0.571158912602136\n",
      "epoch=48,训练准确率=0.3041843874081384 测试准确率=0.21841773840486822 AUC= 0.5735831628192236\n",
      "epoch=49,训练准确率=0.30759484683355276 测试准确率=0.21916275859559353 AUC= 0.5702729391978425\n"
     ]
    }
   ],
   "source": [
    "def train(model, opt, loss_function):\n",
    "    \"\"\"\n",
    "    训练函数\n",
    "    :param model: 模型\n",
    "    :param opt: 优化器\n",
    "    :param loss_function: 使用的损失函数\n",
    "    :return: 该轮训练模型的损失值\n",
    "    \"\"\"\n",
    "    avg_acc = []\n",
    "    model.train()  # 模型处于训练模式\n",
    "    # 批次训练\n",
    "    for x_batch, y_batch in get_batch(X_train, y_train):\n",
    "        x_batch = torch.LongTensor(x_batch)  # 需要是Long类型\n",
    "        y_batch = torch.tensor(y_batch).long()\n",
    "        y_batch = y_batch.squeeze()  # 数据压缩到1维\n",
    "#         print(x_batch.shape)\n",
    "        pred = model(x_batch)        # 模型预测\n",
    "        # 获取批次预测结果最大值，max返回最大值和最大索引（已经默认索引为0的为负类，1为为正类）\n",
    "        acc = f1_score(torch.max(pred, dim=1)[1], y_batch,average='macro')\n",
    "        avg_acc.append(acc)  # 记录该批次正确率\n",
    "        # 使用损失函数计算损失值，预测值要放在前\n",
    "        loss = loss_function(pred, y_batch)\n",
    "        # 清楚之前的梯度值\n",
    "        opt.zero_grad()\n",
    "        # 反向传播\n",
    "        loss.backward()\n",
    "        # 参数更新\n",
    "        opt.step()\n",
    "    # 所有批次数据的正确率计算\n",
    "    avg_acc = np.array(avg_acc).mean()\n",
    "    return avg_acc,loss\n",
    "\n",
    "\n",
    "def evaluate(model,loss_function):\n",
    "    \"\"\"\n",
    "    模型评估\n",
    "    :param model: 使用的模型\n",
    "    :return: 返回当前训练的模型在测试集上的结果\n",
    "    \"\"\"\n",
    "    avg_acc = []\n",
    "    Auc=[]\n",
    "    los=[]\n",
    "    model.eval()  # 打开模型评估状态\n",
    "    preds=[]\n",
    "    trues=[]\n",
    "    with torch.no_grad():\n",
    "        for x_batch, y_batch in get_batch(X_test, y_test):\n",
    "            x_batch = torch.LongTensor(x_batch)\n",
    "            y_batch = torch.tensor(y_batch).long().squeeze()\n",
    "            pred = model(x_batch)\n",
    "            acc = f1_score(torch.max(pred, dim=1)[1], y_batch,average='macro')\n",
    "            avg_acc.append(acc)\n",
    "            preds+=list(torch.max(pred, dim=1)[1])\n",
    "            trues+=list(y_batch)\n",
    "            los.append(loss_function(pred, y_batch))\n",
    "            \n",
    "            \n",
    "    avg_acc = np.array(avg_acc).mean()\n",
    "    loss=np.array(los).mean()\n",
    "    y_true_bin = label_binarize(trues, classes=np.arange(num_classes))\n",
    "    y_pred_bin = label_binarize(preds, classes=np.arange(num_classes))\n",
    "\n",
    "    # 计算多分类的 AUC（macro 平均）\n",
    "    a = roc_auc_score(y_true_bin, y_pred_bin, average='macro')\n",
    "    return avg_acc,loss,a\n",
    "\n",
    "\n",
    "# 记录模型训练过程中模型在训练集和测试集上模型预测正确率表现\n",
    "cnn_train_acc, cnn_test_acc = [], []\n",
    "cnn_train_loss, cnn_test_loss = [], []\n",
    "# 模型迭代训练\n",
    "for epoch in range(EPOCH):\n",
    "    # 模型训练\n",
    "    train_acc,train_loss = train(cnn, optimizer, criterion)\n",
    "#     print('epoch={},训练准确率={}'.format(epoch, train_acc))\n",
    "    # 模型测试\n",
    "    test_acc,test_loss,test_auc = evaluate(cnn,criterion)\n",
    "    print('epoch={},训练准确率={}'.format(epoch, train_acc),\"测试准确率={}\".format(test_acc),\"AUC=\",test_auc)\n",
    "    cnn_train_acc.append(train_acc)\n",
    "    cnn_test_acc.append(test_acc)\n",
    "    cnn_train_loss.append(train_loss)\n",
    "    cnn_test_loss.append(test_loss)\n"
   ]
  },
  {
   "cell_type": "code",
   "execution_count": 34,
   "id": "3e3505ff",
   "metadata": {},
   "outputs": [
    {
     "data": {
      "image/png": "[encoded data removed]",
      "text/plain": [
       "<Figure size 640x480 with 1 Axes>"
      ]
     },
     "metadata": {},
     "output_type": "display_data"
    }
   ],
   "source": [
    "# 模型训练过程结果展示\n",
    "plt.plot(cnn_train_acc)\n",
    "plt.plot(cnn_test_acc)\n",
    "\n",
    "# plt.ylim(ymin=0.5, ymax=1.01)\n",
    "plt.title(\"The accuracy of textCNN model\")\n",
    "plt.legend([\"train\", 'test'])\n",
    "plt.title(\"b64 l0.0001 kernel234 epoch50\")\n",
    "plt.savefig('acc-b64 l0.0001 kernel234 epoch50.png')"
   ]
  },
  {
   "cell_type": "code",
   "execution_count": 35,
   "id": "6ff4de33",
   "metadata": {},
   "outputs": [
    {
     "data": {
      "image/png": "[encoded data removed]",
      "text/plain": [
       "<Figure size 640x480 with 1 Axes>"
      ]
     },
     "metadata": {},
     "output_type": "display_data"
    }
   ],
   "source": [
    "# 模型训练过程结果展示\n",
    "plt.plot([float(i) for i in cnn_train_loss])\n",
    "plt.plot([float(i) for i in cnn_test_loss])\n",
    "\n",
    "# plt.ylim(ymin=0.5, ymax=1.01)\n",
    "plt.title(\"The loss of textCNN model\")\n",
    "plt.legend([\"train\", 'test'])\n",
    "plt.title(\"loss-b64 l0.0001 kernel234 epoch50\")\n",
    "plt.savefig('loss-b64 l0.0001 kernel234 epoch50.png')"
   ]
  },
  {
   "cell_type": "code",
   "execution_count": null,
   "id": "3b86c4cb",
   "metadata": {},
   "outputs": [],
   "source": [
    "b32 l0.0001 kernel23 epoch50 开始就过拟合\n",
    "b64 l0.0001 kernel23 epoch50 开始就过拟合\n",
    "b128 l0.0001 kernel23 epoch50 开始就过拟合"
   ]
  },
  {
   "cell_type": "code",
   "execution_count": null,
   "id": "73fcbcfb",
   "metadata": {},
   "outputs": [],
   "source": [
    "b128 l0.0001 kernel34 epoch100  0.583\n",
    "b32 l0.0001 kernel345 epoch50 0.583\n",
    "b64 l0.0001 kernel345 epoch50 0.584\n"
   ]
  },
  {
   "cell_type": "code",
   "execution_count": 31,
   "id": "bc4069f8",
   "metadata": {},
   "outputs": [
    {
     "data": {
      "text/plain": [
       "(23812, 36)"
      ]
     },
     "execution_count": 31,
     "metadata": {},
     "output_type": "execute_result"
    }
   ],
   "source": [
    "X_train.shape"
   ]
  },
  {
   "cell_type": "code",
   "execution_count": 25,
   "id": "b6bf3ea7",
   "metadata": {},
   "outputs": [
    {
     "name": "stdout",
     "output_type": "stream",
     "text": [
      "TextCNN(\n",
      "  (embedding): Embedding(7103, 50)\n",
      "  (convs): ModuleList(\n",
      "    (0): Sequential(\n",
      "      (0): Conv2d(1, 100, kernel_size=(3, 50), stride=(1, 1))\n",
      "      (1): LeakyReLU(negative_slope=0.01)\n",
      "      (2): MaxPool2d(kernel_size=(34, 1), stride=(34, 1), padding=0, dilation=1, ceil_mode=False)\n",
      "    )\n",
      "    (1): Sequential(\n",
      "      (0): Conv2d(1, 100, kernel_size=(4, 50), stride=(1, 1))\n",
      "      (1): LeakyReLU(negative_slope=0.01)\n",
      "      (2): MaxPool2d(kernel_size=(33, 1), stride=(33, 1), padding=0, dilation=1, ceil_mode=False)\n",
      "    )\n",
      "    (2): Sequential(\n",
      "      (0): Conv2d(1, 100, kernel_size=(5, 50), stride=(1, 1))\n",
      "      (1): LeakyReLU(negative_slope=0.01)\n",
      "      (2): MaxPool2d(kernel_size=(32, 1), stride=(32, 1), padding=0, dilation=1, ceil_mode=False)\n",
      "    )\n",
      "  )\n",
      "  (fc): Linear(in_features=300, out_features=127, bias=True)\n",
      "  (dropout): Dropout(p=0.5, inplace=False)\n",
      ")\n"
     ]
    }
   ],
   "source": [
    "print(cnn)"
   ]
  },
  {
   "cell_type": "code",
   "execution_count": 38,
   "id": "31572caf",
   "metadata": {},
   "outputs": [
    {
     "name": "stdout",
     "output_type": "stream",
     "text": [
      "torch.Size([2, 256, 36, 50])\n",
      "torch.Size([2, 1, 256, 36, 50])\n"
     ]
    },
    {
     "name": "stderr",
     "output_type": "stream",
     "text": [
      "C:\\Users\\15617\\AppData\\Local\\Temp\\ipykernel_2084\\2602643122.py:19: UserWarning: To copy construct from a tensor, it is recommended to use sourceTensor.clone().detach() or sourceTensor.clone().detach().requires_grad_(True), rather than torch.tensor(sourceTensor).\n",
      "  x = torch.tensor(x, dtype=torch.long)\n"
     ]
    },
    {
     "ename": "RuntimeError",
     "evalue": "Expected 3D (unbatched) or 4D (batched) input to conv2d, but got input of size: [2, 1, 256, 36, 50]",
     "output_type": "error",
     "traceback": [
      "\u001b[1;31m---------------------------------------------------------------------------\u001b[0m",
      "\u001b[1;31mRuntimeError\u001b[0m                              Traceback (most recent call last)",
      "Cell \u001b[1;32mIn[38], line 1\u001b[0m\n\u001b[1;32m----> 1\u001b[0m \u001b[43msummary\u001b[49m\u001b[43m(\u001b[49m\u001b[43mcnn\u001b[49m\u001b[43m,\u001b[49m\u001b[43m(\u001b[49m\u001b[38;5;241;43m256\u001b[39;49m\u001b[43m,\u001b[49m\u001b[38;5;241;43m36\u001b[39;49m\u001b[43m)\u001b[49m\u001b[43m,\u001b[49m\u001b[38;5;241;43m256\u001b[39;49m\u001b[43m)\u001b[49m\n",
      "File \u001b[1;32mD:\\python39\\lib\\site-packages\\torchsummary\\torchsummary.py:72\u001b[0m, in \u001b[0;36msummary\u001b[1;34m(model, input_size, batch_size, device)\u001b[0m\n\u001b[0;32m     68\u001b[0m model\u001b[38;5;241m.\u001b[39mapply(register_hook)\n\u001b[0;32m     70\u001b[0m \u001b[38;5;66;03m# make a forward pass\u001b[39;00m\n\u001b[0;32m     71\u001b[0m \u001b[38;5;66;03m# print(x.shape)\u001b[39;00m\n\u001b[1;32m---> 72\u001b[0m \u001b[43mmodel\u001b[49m\u001b[43m(\u001b[49m\u001b[38;5;241;43m*\u001b[39;49m\u001b[43mx\u001b[49m\u001b[43m)\u001b[49m\n\u001b[0;32m     74\u001b[0m \u001b[38;5;66;03m# remove these hooks\u001b[39;00m\n\u001b[0;32m     75\u001b[0m \u001b[38;5;28;01mfor\u001b[39;00m h \u001b[38;5;129;01min\u001b[39;00m hooks:\n",
      "File \u001b[1;32mD:\\python39\\lib\\site-packages\\torch\\nn\\modules\\module.py:1511\u001b[0m, in \u001b[0;36mModule._wrapped_call_impl\u001b[1;34m(self, *args, **kwargs)\u001b[0m\n\u001b[0;32m   1509\u001b[0m     \u001b[38;5;28;01mreturn\u001b[39;00m \u001b[38;5;28mself\u001b[39m\u001b[38;5;241m.\u001b[39m_compiled_call_impl(\u001b[38;5;241m*\u001b[39margs, \u001b[38;5;241m*\u001b[39m\u001b[38;5;241m*\u001b[39mkwargs)  \u001b[38;5;66;03m# type: ignore[misc]\u001b[39;00m\n\u001b[0;32m   1510\u001b[0m \u001b[38;5;28;01melse\u001b[39;00m:\n\u001b[1;32m-> 1511\u001b[0m     \u001b[38;5;28;01mreturn\u001b[39;00m \u001b[38;5;28mself\u001b[39m\u001b[38;5;241m.\u001b[39m_call_impl(\u001b[38;5;241m*\u001b[39margs, \u001b[38;5;241m*\u001b[39m\u001b[38;5;241m*\u001b[39mkwargs)\n",
      "File \u001b[1;32mD:\\python39\\lib\\site-packages\\torch\\nn\\modules\\module.py:1520\u001b[0m, in \u001b[0;36mModule._call_impl\u001b[1;34m(self, *args, **kwargs)\u001b[0m\n\u001b[0;32m   1515\u001b[0m \u001b[38;5;66;03m# If we don't have any hooks, we want to skip the rest of the logic in\u001b[39;00m\n\u001b[0;32m   1516\u001b[0m \u001b[38;5;66;03m# this function, and just call forward.\u001b[39;00m\n\u001b[0;32m   1517\u001b[0m \u001b[38;5;28;01mif\u001b[39;00m \u001b[38;5;129;01mnot\u001b[39;00m (\u001b[38;5;28mself\u001b[39m\u001b[38;5;241m.\u001b[39m_backward_hooks \u001b[38;5;129;01mor\u001b[39;00m \u001b[38;5;28mself\u001b[39m\u001b[38;5;241m.\u001b[39m_backward_pre_hooks \u001b[38;5;129;01mor\u001b[39;00m \u001b[38;5;28mself\u001b[39m\u001b[38;5;241m.\u001b[39m_forward_hooks \u001b[38;5;129;01mor\u001b[39;00m \u001b[38;5;28mself\u001b[39m\u001b[38;5;241m.\u001b[39m_forward_pre_hooks\n\u001b[0;32m   1518\u001b[0m         \u001b[38;5;129;01mor\u001b[39;00m _global_backward_pre_hooks \u001b[38;5;129;01mor\u001b[39;00m _global_backward_hooks\n\u001b[0;32m   1519\u001b[0m         \u001b[38;5;129;01mor\u001b[39;00m _global_forward_hooks \u001b[38;5;129;01mor\u001b[39;00m _global_forward_pre_hooks):\n\u001b[1;32m-> 1520\u001b[0m     \u001b[38;5;28;01mreturn\u001b[39;00m forward_call(\u001b[38;5;241m*\u001b[39margs, \u001b[38;5;241m*\u001b[39m\u001b[38;5;241m*\u001b[39mkwargs)\n\u001b[0;32m   1522\u001b[0m \u001b[38;5;28;01mtry\u001b[39;00m:\n\u001b[0;32m   1523\u001b[0m     result \u001b[38;5;241m=\u001b[39m \u001b[38;5;28;01mNone\u001b[39;00m\n",
      "Cell \u001b[1;32mIn[35], line 24\u001b[0m, in \u001b[0;36mTextCNN.forward\u001b[1;34m(self, x)\u001b[0m\n\u001b[0;32m     22\u001b[0m x \u001b[38;5;241m=\u001b[39m x\u001b[38;5;241m.\u001b[39munsqueeze(\u001b[38;5;241m1\u001b[39m)     \u001b[38;5;66;03m# [128, 1, 50, 200] 即(batch, channel_num, seq_len, embedding_dim)\u001b[39;00m\n\u001b[0;32m     23\u001b[0m \u001b[38;5;28mprint\u001b[39m(x\u001b[38;5;241m.\u001b[39mshape)\n\u001b[1;32m---> 24\u001b[0m out \u001b[38;5;241m=\u001b[39m [conv(x) \u001b[38;5;28;01mfor\u001b[39;00m conv \u001b[38;5;129;01min\u001b[39;00m \u001b[38;5;28mself\u001b[39m\u001b[38;5;241m.\u001b[39mconvs]\n\u001b[0;32m     25\u001b[0m out \u001b[38;5;241m=\u001b[39m torch\u001b[38;5;241m.\u001b[39mcat(out, dim\u001b[38;5;241m=\u001b[39m\u001b[38;5;241m1\u001b[39m)   \u001b[38;5;66;03m# [128, 300, 1, 1]，各通道的数据拼接在一起\u001b[39;00m\n\u001b[0;32m     26\u001b[0m out \u001b[38;5;241m=\u001b[39m out\u001b[38;5;241m.\u001b[39mview(x\u001b[38;5;241m.\u001b[39msize(\u001b[38;5;241m0\u001b[39m), \u001b[38;5;241m-\u001b[39m\u001b[38;5;241m1\u001b[39m)  \u001b[38;5;66;03m# 展平\u001b[39;00m\n",
      "Cell \u001b[1;32mIn[35], line 24\u001b[0m, in \u001b[0;36m<listcomp>\u001b[1;34m(.0)\u001b[0m\n\u001b[0;32m     22\u001b[0m x \u001b[38;5;241m=\u001b[39m x\u001b[38;5;241m.\u001b[39munsqueeze(\u001b[38;5;241m1\u001b[39m)     \u001b[38;5;66;03m# [128, 1, 50, 200] 即(batch, channel_num, seq_len, embedding_dim)\u001b[39;00m\n\u001b[0;32m     23\u001b[0m \u001b[38;5;28mprint\u001b[39m(x\u001b[38;5;241m.\u001b[39mshape)\n\u001b[1;32m---> 24\u001b[0m out \u001b[38;5;241m=\u001b[39m [\u001b[43mconv\u001b[49m\u001b[43m(\u001b[49m\u001b[43mx\u001b[49m\u001b[43m)\u001b[49m \u001b[38;5;28;01mfor\u001b[39;00m conv \u001b[38;5;129;01min\u001b[39;00m \u001b[38;5;28mself\u001b[39m\u001b[38;5;241m.\u001b[39mconvs]\n\u001b[0;32m     25\u001b[0m out \u001b[38;5;241m=\u001b[39m torch\u001b[38;5;241m.\u001b[39mcat(out, dim\u001b[38;5;241m=\u001b[39m\u001b[38;5;241m1\u001b[39m)   \u001b[38;5;66;03m# [128, 300, 1, 1]，各通道的数据拼接在一起\u001b[39;00m\n\u001b[0;32m     26\u001b[0m out \u001b[38;5;241m=\u001b[39m out\u001b[38;5;241m.\u001b[39mview(x\u001b[38;5;241m.\u001b[39msize(\u001b[38;5;241m0\u001b[39m), \u001b[38;5;241m-\u001b[39m\u001b[38;5;241m1\u001b[39m)  \u001b[38;5;66;03m# 展平\u001b[39;00m\n",
      "File \u001b[1;32mD:\\python39\\lib\\site-packages\\torch\\nn\\modules\\module.py:1511\u001b[0m, in \u001b[0;36mModule._wrapped_call_impl\u001b[1;34m(self, *args, **kwargs)\u001b[0m\n\u001b[0;32m   1509\u001b[0m     \u001b[38;5;28;01mreturn\u001b[39;00m \u001b[38;5;28mself\u001b[39m\u001b[38;5;241m.\u001b[39m_compiled_call_impl(\u001b[38;5;241m*\u001b[39margs, \u001b[38;5;241m*\u001b[39m\u001b[38;5;241m*\u001b[39mkwargs)  \u001b[38;5;66;03m# type: ignore[misc]\u001b[39;00m\n\u001b[0;32m   1510\u001b[0m \u001b[38;5;28;01melse\u001b[39;00m:\n\u001b[1;32m-> 1511\u001b[0m     \u001b[38;5;28;01mreturn\u001b[39;00m \u001b[38;5;28mself\u001b[39m\u001b[38;5;241m.\u001b[39m_call_impl(\u001b[38;5;241m*\u001b[39margs, \u001b[38;5;241m*\u001b[39m\u001b[38;5;241m*\u001b[39mkwargs)\n",
      "File \u001b[1;32mD:\\python39\\lib\\site-packages\\torch\\nn\\modules\\module.py:1520\u001b[0m, in \u001b[0;36mModule._call_impl\u001b[1;34m(self, *args, **kwargs)\u001b[0m\n\u001b[0;32m   1515\u001b[0m \u001b[38;5;66;03m# If we don't have any hooks, we want to skip the rest of the logic in\u001b[39;00m\n\u001b[0;32m   1516\u001b[0m \u001b[38;5;66;03m# this function, and just call forward.\u001b[39;00m\n\u001b[0;32m   1517\u001b[0m \u001b[38;5;28;01mif\u001b[39;00m \u001b[38;5;129;01mnot\u001b[39;00m (\u001b[38;5;28mself\u001b[39m\u001b[38;5;241m.\u001b[39m_backward_hooks \u001b[38;5;129;01mor\u001b[39;00m \u001b[38;5;28mself\u001b[39m\u001b[38;5;241m.\u001b[39m_backward_pre_hooks \u001b[38;5;129;01mor\u001b[39;00m \u001b[38;5;28mself\u001b[39m\u001b[38;5;241m.\u001b[39m_forward_hooks \u001b[38;5;129;01mor\u001b[39;00m \u001b[38;5;28mself\u001b[39m\u001b[38;5;241m.\u001b[39m_forward_pre_hooks\n\u001b[0;32m   1518\u001b[0m         \u001b[38;5;129;01mor\u001b[39;00m _global_backward_pre_hooks \u001b[38;5;129;01mor\u001b[39;00m _global_backward_hooks\n\u001b[0;32m   1519\u001b[0m         \u001b[38;5;129;01mor\u001b[39;00m _global_forward_hooks \u001b[38;5;129;01mor\u001b[39;00m _global_forward_pre_hooks):\n\u001b[1;32m-> 1520\u001b[0m     \u001b[38;5;28;01mreturn\u001b[39;00m forward_call(\u001b[38;5;241m*\u001b[39margs, \u001b[38;5;241m*\u001b[39m\u001b[38;5;241m*\u001b[39mkwargs)\n\u001b[0;32m   1522\u001b[0m \u001b[38;5;28;01mtry\u001b[39;00m:\n\u001b[0;32m   1523\u001b[0m     result \u001b[38;5;241m=\u001b[39m \u001b[38;5;28;01mNone\u001b[39;00m\n",
      "File \u001b[1;32mD:\\python39\\lib\\site-packages\\torch\\nn\\modules\\container.py:217\u001b[0m, in \u001b[0;36mSequential.forward\u001b[1;34m(self, input)\u001b[0m\n\u001b[0;32m    215\u001b[0m \u001b[38;5;28;01mdef\u001b[39;00m \u001b[38;5;21mforward\u001b[39m(\u001b[38;5;28mself\u001b[39m, \u001b[38;5;28minput\u001b[39m):\n\u001b[0;32m    216\u001b[0m     \u001b[38;5;28;01mfor\u001b[39;00m module \u001b[38;5;129;01min\u001b[39;00m \u001b[38;5;28mself\u001b[39m:\n\u001b[1;32m--> 217\u001b[0m         \u001b[38;5;28minput\u001b[39m \u001b[38;5;241m=\u001b[39m \u001b[43mmodule\u001b[49m\u001b[43m(\u001b[49m\u001b[38;5;28;43minput\u001b[39;49m\u001b[43m)\u001b[49m\n\u001b[0;32m    218\u001b[0m     \u001b[38;5;28;01mreturn\u001b[39;00m \u001b[38;5;28minput\u001b[39m\n",
      "File \u001b[1;32mD:\\python39\\lib\\site-packages\\torch\\nn\\modules\\module.py:1511\u001b[0m, in \u001b[0;36mModule._wrapped_call_impl\u001b[1;34m(self, *args, **kwargs)\u001b[0m\n\u001b[0;32m   1509\u001b[0m     \u001b[38;5;28;01mreturn\u001b[39;00m \u001b[38;5;28mself\u001b[39m\u001b[38;5;241m.\u001b[39m_compiled_call_impl(\u001b[38;5;241m*\u001b[39margs, \u001b[38;5;241m*\u001b[39m\u001b[38;5;241m*\u001b[39mkwargs)  \u001b[38;5;66;03m# type: ignore[misc]\u001b[39;00m\n\u001b[0;32m   1510\u001b[0m \u001b[38;5;28;01melse\u001b[39;00m:\n\u001b[1;32m-> 1511\u001b[0m     \u001b[38;5;28;01mreturn\u001b[39;00m \u001b[38;5;28mself\u001b[39m\u001b[38;5;241m.\u001b[39m_call_impl(\u001b[38;5;241m*\u001b[39margs, \u001b[38;5;241m*\u001b[39m\u001b[38;5;241m*\u001b[39mkwargs)\n",
      "File \u001b[1;32mD:\\python39\\lib\\site-packages\\torch\\nn\\modules\\module.py:1561\u001b[0m, in \u001b[0;36mModule._call_impl\u001b[1;34m(self, *args, **kwargs)\u001b[0m\n\u001b[0;32m   1558\u001b[0m     bw_hook \u001b[38;5;241m=\u001b[39m hooks\u001b[38;5;241m.\u001b[39mBackwardHook(\u001b[38;5;28mself\u001b[39m, full_backward_hooks, backward_pre_hooks)\n\u001b[0;32m   1559\u001b[0m     args \u001b[38;5;241m=\u001b[39m bw_hook\u001b[38;5;241m.\u001b[39msetup_input_hook(args)\n\u001b[1;32m-> 1561\u001b[0m result \u001b[38;5;241m=\u001b[39m forward_call(\u001b[38;5;241m*\u001b[39margs, \u001b[38;5;241m*\u001b[39m\u001b[38;5;241m*\u001b[39mkwargs)\n\u001b[0;32m   1562\u001b[0m \u001b[38;5;28;01mif\u001b[39;00m _global_forward_hooks \u001b[38;5;129;01mor\u001b[39;00m \u001b[38;5;28mself\u001b[39m\u001b[38;5;241m.\u001b[39m_forward_hooks:\n\u001b[0;32m   1563\u001b[0m     \u001b[38;5;28;01mfor\u001b[39;00m hook_id, hook \u001b[38;5;129;01min\u001b[39;00m (\n\u001b[0;32m   1564\u001b[0m         \u001b[38;5;241m*\u001b[39m_global_forward_hooks\u001b[38;5;241m.\u001b[39mitems(),\n\u001b[0;32m   1565\u001b[0m         \u001b[38;5;241m*\u001b[39m\u001b[38;5;28mself\u001b[39m\u001b[38;5;241m.\u001b[39m_forward_hooks\u001b[38;5;241m.\u001b[39mitems(),\n\u001b[0;32m   1566\u001b[0m     ):\n\u001b[0;32m   1567\u001b[0m         \u001b[38;5;66;03m# mark that always called hook is run\u001b[39;00m\n",
      "File \u001b[1;32mD:\\python39\\lib\\site-packages\\torch\\nn\\modules\\conv.py:460\u001b[0m, in \u001b[0;36mConv2d.forward\u001b[1;34m(self, input)\u001b[0m\n\u001b[0;32m    459\u001b[0m \u001b[38;5;28;01mdef\u001b[39;00m \u001b[38;5;21mforward\u001b[39m(\u001b[38;5;28mself\u001b[39m, \u001b[38;5;28minput\u001b[39m: Tensor) \u001b[38;5;241m-\u001b[39m\u001b[38;5;241m>\u001b[39m Tensor:\n\u001b[1;32m--> 460\u001b[0m     \u001b[38;5;28;01mreturn\u001b[39;00m \u001b[38;5;28;43mself\u001b[39;49m\u001b[38;5;241;43m.\u001b[39;49m\u001b[43m_conv_forward\u001b[49m\u001b[43m(\u001b[49m\u001b[38;5;28;43minput\u001b[39;49m\u001b[43m,\u001b[49m\u001b[43m \u001b[49m\u001b[38;5;28;43mself\u001b[39;49m\u001b[38;5;241;43m.\u001b[39;49m\u001b[43mweight\u001b[49m\u001b[43m,\u001b[49m\u001b[43m \u001b[49m\u001b[38;5;28;43mself\u001b[39;49m\u001b[38;5;241;43m.\u001b[39;49m\u001b[43mbias\u001b[49m\u001b[43m)\u001b[49m\n",
      "File \u001b[1;32mD:\\python39\\lib\\site-packages\\torch\\nn\\modules\\conv.py:456\u001b[0m, in \u001b[0;36mConv2d._conv_forward\u001b[1;34m(self, input, weight, bias)\u001b[0m\n\u001b[0;32m    452\u001b[0m \u001b[38;5;28;01mif\u001b[39;00m \u001b[38;5;28mself\u001b[39m\u001b[38;5;241m.\u001b[39mpadding_mode \u001b[38;5;241m!=\u001b[39m \u001b[38;5;124m'\u001b[39m\u001b[38;5;124mzeros\u001b[39m\u001b[38;5;124m'\u001b[39m:\n\u001b[0;32m    453\u001b[0m     \u001b[38;5;28;01mreturn\u001b[39;00m F\u001b[38;5;241m.\u001b[39mconv2d(F\u001b[38;5;241m.\u001b[39mpad(\u001b[38;5;28minput\u001b[39m, \u001b[38;5;28mself\u001b[39m\u001b[38;5;241m.\u001b[39m_reversed_padding_repeated_twice, mode\u001b[38;5;241m=\u001b[39m\u001b[38;5;28mself\u001b[39m\u001b[38;5;241m.\u001b[39mpadding_mode),\n\u001b[0;32m    454\u001b[0m                     weight, bias, \u001b[38;5;28mself\u001b[39m\u001b[38;5;241m.\u001b[39mstride,\n\u001b[0;32m    455\u001b[0m                     _pair(\u001b[38;5;241m0\u001b[39m), \u001b[38;5;28mself\u001b[39m\u001b[38;5;241m.\u001b[39mdilation, \u001b[38;5;28mself\u001b[39m\u001b[38;5;241m.\u001b[39mgroups)\n\u001b[1;32m--> 456\u001b[0m \u001b[38;5;28;01mreturn\u001b[39;00m \u001b[43mF\u001b[49m\u001b[38;5;241;43m.\u001b[39;49m\u001b[43mconv2d\u001b[49m\u001b[43m(\u001b[49m\u001b[38;5;28;43minput\u001b[39;49m\u001b[43m,\u001b[49m\u001b[43m \u001b[49m\u001b[43mweight\u001b[49m\u001b[43m,\u001b[49m\u001b[43m \u001b[49m\u001b[43mbias\u001b[49m\u001b[43m,\u001b[49m\u001b[43m \u001b[49m\u001b[38;5;28;43mself\u001b[39;49m\u001b[38;5;241;43m.\u001b[39;49m\u001b[43mstride\u001b[49m\u001b[43m,\u001b[49m\n\u001b[0;32m    457\u001b[0m \u001b[43m                \u001b[49m\u001b[38;5;28;43mself\u001b[39;49m\u001b[38;5;241;43m.\u001b[39;49m\u001b[43mpadding\u001b[49m\u001b[43m,\u001b[49m\u001b[43m \u001b[49m\u001b[38;5;28;43mself\u001b[39;49m\u001b[38;5;241;43m.\u001b[39;49m\u001b[43mdilation\u001b[49m\u001b[43m,\u001b[49m\u001b[43m \u001b[49m\u001b[38;5;28;43mself\u001b[39;49m\u001b[38;5;241;43m.\u001b[39;49m\u001b[43mgroups\u001b[49m\u001b[43m)\u001b[49m\n",
      "\u001b[1;31mRuntimeError\u001b[0m: Expected 3D (unbatched) or 4D (batched) input to conv2d, but got input of size: [2, 1, 256, 36, 50]"
     ]
    }
   ],
   "source": [
    "summary(cnn,(256,36),256)"
   ]
  },
  {
   "cell_type": "code",
   "execution_count": null,
   "id": "211723d0",
   "metadata": {},
   "outputs": [],
   "source": []
  }
 ],
 "metadata": {
  "kernelspec": {
   "display_name": "python39",
   "language": "python",
   "name": "python39"
  },
  "language_info": {
   "codemirror_mode": {
    "name": "ipython",
    "version": 3
   },
   "file_extension": ".py",
   "mimetype": "text/x-python",
   "name": "python",
   "nbconvert_exporter": "python",
   "pygments_lexer": "ipython3",
   "version": "3.9.7"
  }
 },
 "nbformat": 4,
 "nbformat_minor": 5
}
