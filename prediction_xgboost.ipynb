{
 "cells": [
  {
   "cell_type": "code",
   "execution_count": 1,
   "metadata": {},
   "outputs": [],
   "source": [
    "import pandas as pd\n",
    "import numpy as np\n",
    "from sklearn.model_selection import train_test_split\n",
    "import ast\n",
    "from sklearn.decomposition import PCA\n",
    "from sklearn import manifold\n",
    "from sklearn.model_selection import GridSearchCV\n",
    "import xgboost as xgb\n",
    "from sklearn.preprocessing import LabelEncoder\n",
    "from sklearn.metrics import roc_auc_score\n",
    "from sklearn.metrics import make_scorer"
   ]
  },
  {
   "cell_type": "code",
   "execution_count": 2,
   "metadata": {},
   "outputs": [],
   "source": [
    "df = pd.read_csv('111.csv')\n",
    "\n",
    "# mask =(df.groupby('antigen_label')['antigen_label'].transform('count') == 1)"
   ]
  },
  {
   "cell_type": "code",
   "execution_count": 3,
   "metadata": {},
   "outputs": [
    {
     "data": {
      "text/html": [
       "<div>\n",
       "<style scoped>\n",
       "    .dataframe tbody tr th:only-of-type {\n",
       "        vertical-align: middle;\n",
       "    }\n",
       "\n",
       "    .dataframe tbody tr th {\n",
       "        vertical-align: top;\n",
       "    }\n",
       "\n",
       "    .dataframe thead th {\n",
       "        text-align: right;\n",
       "    }\n",
       "</style>\n",
       "<table border=\"1\" class=\"dataframe\">\n",
       "  <thead>\n",
       "    <tr style=\"text-align: right;\">\n",
       "      <th></th>\n",
       "      <th>vdjdb.score</th>\n",
       "      <th>mhc.b_label</th>\n",
       "      <th>antigen_label</th>\n",
       "      <th>crd3_encode</th>\n",
       "      <th>v.seg_0</th>\n",
       "      <th>v.seg_1</th>\n",
       "      <th>v.seg_2</th>\n",
       "      <th>v.seg_3</th>\n",
       "      <th>v.seg_4</th>\n",
       "      <th>v.seg_5</th>\n",
       "      <th>...</th>\n",
       "      <th>j.segm_2</th>\n",
       "      <th>j.segm_3</th>\n",
       "      <th>mhc.a_0</th>\n",
       "      <th>mhc.a_1</th>\n",
       "      <th>mhc.a_2</th>\n",
       "      <th>mhc.a_3</th>\n",
       "      <th>mhc.a_4</th>\n",
       "      <th>mhc.a_5</th>\n",
       "      <th>mhc.a_6</th>\n",
       "      <th>label_rencoded</th>\n",
       "    </tr>\n",
       "  </thead>\n",
       "  <tbody>\n",
       "    <tr>\n",
       "      <th>0</th>\n",
       "      <td>1</td>\n",
       "      <td>0</td>\n",
       "      <td>66</td>\n",
       "      <td>[0.5393931865692139, 2.0628302097320557, 0.411...</td>\n",
       "      <td>0</td>\n",
       "      <td>1</td>\n",
       "      <td>0</td>\n",
       "      <td>0</td>\n",
       "      <td>1</td>\n",
       "      <td>1</td>\n",
       "      <td>...</td>\n",
       "      <td>0.0</td>\n",
       "      <td>1.0</td>\n",
       "      <td>0</td>\n",
       "      <td>0</td>\n",
       "      <td>0</td>\n",
       "      <td>0</td>\n",
       "      <td>0</td>\n",
       "      <td>0</td>\n",
       "      <td>1</td>\n",
       "      <td>0</td>\n",
       "    </tr>\n",
       "    <tr>\n",
       "      <th>1</th>\n",
       "      <td>1</td>\n",
       "      <td>0</td>\n",
       "      <td>66</td>\n",
       "      <td>[-0.8504062294960022, 0.17268569767475128, 0.2...</td>\n",
       "      <td>1</td>\n",
       "      <td>1</td>\n",
       "      <td>0</td>\n",
       "      <td>1</td>\n",
       "      <td>1</td>\n",
       "      <td>1</td>\n",
       "      <td>...</td>\n",
       "      <td>1.0</td>\n",
       "      <td>0.0</td>\n",
       "      <td>0</td>\n",
       "      <td>0</td>\n",
       "      <td>0</td>\n",
       "      <td>0</td>\n",
       "      <td>0</td>\n",
       "      <td>0</td>\n",
       "      <td>1</td>\n",
       "      <td>0</td>\n",
       "    </tr>\n",
       "    <tr>\n",
       "      <th>2</th>\n",
       "      <td>1</td>\n",
       "      <td>0</td>\n",
       "      <td>66</td>\n",
       "      <td>[-0.534170925617218, 0.2944409251213074, 0.852...</td>\n",
       "      <td>0</td>\n",
       "      <td>1</td>\n",
       "      <td>0</td>\n",
       "      <td>0</td>\n",
       "      <td>1</td>\n",
       "      <td>0</td>\n",
       "      <td>...</td>\n",
       "      <td>0.0</td>\n",
       "      <td>1.0</td>\n",
       "      <td>0</td>\n",
       "      <td>0</td>\n",
       "      <td>0</td>\n",
       "      <td>0</td>\n",
       "      <td>0</td>\n",
       "      <td>0</td>\n",
       "      <td>1</td>\n",
       "      <td>0</td>\n",
       "    </tr>\n",
       "    <tr>\n",
       "      <th>7</th>\n",
       "      <td>1</td>\n",
       "      <td>0</td>\n",
       "      <td>66</td>\n",
       "      <td>[-1.7072793245315552, 0.28665441274642944, -1....</td>\n",
       "      <td>0</td>\n",
       "      <td>0</td>\n",
       "      <td>0</td>\n",
       "      <td>0</td>\n",
       "      <td>1</td>\n",
       "      <td>1</td>\n",
       "      <td>...</td>\n",
       "      <td>0.0</td>\n",
       "      <td>1.0</td>\n",
       "      <td>0</td>\n",
       "      <td>0</td>\n",
       "      <td>0</td>\n",
       "      <td>0</td>\n",
       "      <td>0</td>\n",
       "      <td>0</td>\n",
       "      <td>1</td>\n",
       "      <td>0</td>\n",
       "    </tr>\n",
       "    <tr>\n",
       "      <th>11</th>\n",
       "      <td>1</td>\n",
       "      <td>0</td>\n",
       "      <td>66</td>\n",
       "      <td>[-0.30603480339050293, -0.16719016432762146, -...</td>\n",
       "      <td>0</td>\n",
       "      <td>1</td>\n",
       "      <td>0</td>\n",
       "      <td>1</td>\n",
       "      <td>1</td>\n",
       "      <td>1</td>\n",
       "      <td>...</td>\n",
       "      <td>0.0</td>\n",
       "      <td>0.0</td>\n",
       "      <td>0</td>\n",
       "      <td>0</td>\n",
       "      <td>0</td>\n",
       "      <td>0</td>\n",
       "      <td>0</td>\n",
       "      <td>1</td>\n",
       "      <td>0</td>\n",
       "      <td>0</td>\n",
       "    </tr>\n",
       "    <tr>\n",
       "      <th>...</th>\n",
       "      <td>...</td>\n",
       "      <td>...</td>\n",
       "      <td>...</td>\n",
       "      <td>...</td>\n",
       "      <td>...</td>\n",
       "      <td>...</td>\n",
       "      <td>...</td>\n",
       "      <td>...</td>\n",
       "      <td>...</td>\n",
       "      <td>...</td>\n",
       "      <td>...</td>\n",
       "      <td>...</td>\n",
       "      <td>...</td>\n",
       "      <td>...</td>\n",
       "      <td>...</td>\n",
       "      <td>...</td>\n",
       "      <td>...</td>\n",
       "      <td>...</td>\n",
       "      <td>...</td>\n",
       "      <td>...</td>\n",
       "      <td>...</td>\n",
       "    </tr>\n",
       "    <tr>\n",
       "      <th>3936</th>\n",
       "      <td>3</td>\n",
       "      <td>34</td>\n",
       "      <td>229</td>\n",
       "      <td>[-0.534170925617218, 0.2944409251213074, 0.852...</td>\n",
       "      <td>0</td>\n",
       "      <td>1</td>\n",
       "      <td>0</td>\n",
       "      <td>0</td>\n",
       "      <td>1</td>\n",
       "      <td>0</td>\n",
       "      <td>...</td>\n",
       "      <td>0.0</td>\n",
       "      <td>0.0</td>\n",
       "      <td>1</td>\n",
       "      <td>1</td>\n",
       "      <td>0</td>\n",
       "      <td>0</td>\n",
       "      <td>1</td>\n",
       "      <td>0</td>\n",
       "      <td>1</td>\n",
       "      <td>5</td>\n",
       "    </tr>\n",
       "    <tr>\n",
       "      <th>3937</th>\n",
       "      <td>1</td>\n",
       "      <td>24</td>\n",
       "      <td>668</td>\n",
       "      <td>[-0.534170925617218, 0.2944409251213074, 0.852...</td>\n",
       "      <td>0</td>\n",
       "      <td>1</td>\n",
       "      <td>1</td>\n",
       "      <td>0</td>\n",
       "      <td>0</td>\n",
       "      <td>0</td>\n",
       "      <td>...</td>\n",
       "      <td>0.0</td>\n",
       "      <td>1.0</td>\n",
       "      <td>1</td>\n",
       "      <td>1</td>\n",
       "      <td>0</td>\n",
       "      <td>0</td>\n",
       "      <td>1</td>\n",
       "      <td>0</td>\n",
       "      <td>1</td>\n",
       "      <td>14</td>\n",
       "    </tr>\n",
       "    <tr>\n",
       "      <th>3938</th>\n",
       "      <td>3</td>\n",
       "      <td>22</td>\n",
       "      <td>668</td>\n",
       "      <td>[-0.534170925617218, 0.2944409251213074, 0.852...</td>\n",
       "      <td>0</td>\n",
       "      <td>1</td>\n",
       "      <td>0</td>\n",
       "      <td>0</td>\n",
       "      <td>0</td>\n",
       "      <td>0</td>\n",
       "      <td>...</td>\n",
       "      <td>1.0</td>\n",
       "      <td>0.0</td>\n",
       "      <td>1</td>\n",
       "      <td>1</td>\n",
       "      <td>0</td>\n",
       "      <td>0</td>\n",
       "      <td>1</td>\n",
       "      <td>1</td>\n",
       "      <td>1</td>\n",
       "      <td>14</td>\n",
       "    </tr>\n",
       "    <tr>\n",
       "      <th>3940</th>\n",
       "      <td>3</td>\n",
       "      <td>25</td>\n",
       "      <td>668</td>\n",
       "      <td>[-0.534170925617218, 0.2944409251213074, 0.852...</td>\n",
       "      <td>0</td>\n",
       "      <td>1</td>\n",
       "      <td>1</td>\n",
       "      <td>0</td>\n",
       "      <td>0</td>\n",
       "      <td>0</td>\n",
       "      <td>...</td>\n",
       "      <td>1.0</td>\n",
       "      <td>0.0</td>\n",
       "      <td>1</td>\n",
       "      <td>1</td>\n",
       "      <td>0</td>\n",
       "      <td>0</td>\n",
       "      <td>1</td>\n",
       "      <td>1</td>\n",
       "      <td>1</td>\n",
       "      <td>14</td>\n",
       "    </tr>\n",
       "    <tr>\n",
       "      <th>3941</th>\n",
       "      <td>3</td>\n",
       "      <td>22</td>\n",
       "      <td>668</td>\n",
       "      <td>[-0.534170925617218, 0.2944409251213074, 0.852...</td>\n",
       "      <td>0</td>\n",
       "      <td>1</td>\n",
       "      <td>1</td>\n",
       "      <td>0</td>\n",
       "      <td>0</td>\n",
       "      <td>0</td>\n",
       "      <td>...</td>\n",
       "      <td>1.0</td>\n",
       "      <td>0.0</td>\n",
       "      <td>1</td>\n",
       "      <td>1</td>\n",
       "      <td>0</td>\n",
       "      <td>0</td>\n",
       "      <td>1</td>\n",
       "      <td>1</td>\n",
       "      <td>1</td>\n",
       "      <td>14</td>\n",
       "    </tr>\n",
       "  </tbody>\n",
       "</table>\n",
       "<p>2664 rows × 22 columns</p>\n",
       "</div>"
      ],
      "text/plain": [
       "      vdjdb.score  mhc.b_label  antigen_label  \\\n",
       "0               1            0             66   \n",
       "1               1            0             66   \n",
       "2               1            0             66   \n",
       "7               1            0             66   \n",
       "11              1            0             66   \n",
       "...           ...          ...            ...   \n",
       "3936            3           34            229   \n",
       "3937            1           24            668   \n",
       "3938            3           22            668   \n",
       "3940            3           25            668   \n",
       "3941            3           22            668   \n",
       "\n",
       "                                            crd3_encode  v.seg_0  v.seg_1  \\\n",
       "0     [0.5393931865692139, 2.0628302097320557, 0.411...        0        1   \n",
       "1     [-0.8504062294960022, 0.17268569767475128, 0.2...        1        1   \n",
       "2     [-0.534170925617218, 0.2944409251213074, 0.852...        0        1   \n",
       "7     [-1.7072793245315552, 0.28665441274642944, -1....        0        0   \n",
       "11    [-0.30603480339050293, -0.16719016432762146, -...        0        1   \n",
       "...                                                 ...      ...      ...   \n",
       "3936  [-0.534170925617218, 0.2944409251213074, 0.852...        0        1   \n",
       "3937  [-0.534170925617218, 0.2944409251213074, 0.852...        0        1   \n",
       "3938  [-0.534170925617218, 0.2944409251213074, 0.852...        0        1   \n",
       "3940  [-0.534170925617218, 0.2944409251213074, 0.852...        0        1   \n",
       "3941  [-0.534170925617218, 0.2944409251213074, 0.852...        0        1   \n",
       "\n",
       "      v.seg_2  v.seg_3  v.seg_4  v.seg_5  ...  j.segm_2  j.segm_3  mhc.a_0  \\\n",
       "0           0        0        1        1  ...       0.0       1.0        0   \n",
       "1           0        1        1        1  ...       1.0       0.0        0   \n",
       "2           0        0        1        0  ...       0.0       1.0        0   \n",
       "7           0        0        1        1  ...       0.0       1.0        0   \n",
       "11          0        1        1        1  ...       0.0       0.0        0   \n",
       "...       ...      ...      ...      ...  ...       ...       ...      ...   \n",
       "3936        0        0        1        0  ...       0.0       0.0        1   \n",
       "3937        1        0        0        0  ...       0.0       1.0        1   \n",
       "3938        0        0        0        0  ...       1.0       0.0        1   \n",
       "3940        1        0        0        0  ...       1.0       0.0        1   \n",
       "3941        1        0        0        0  ...       1.0       0.0        1   \n",
       "\n",
       "      mhc.a_1  mhc.a_2  mhc.a_3  mhc.a_4  mhc.a_5  mhc.a_6  label_rencoded  \n",
       "0           0        0        0        0        0        1               0  \n",
       "1           0        0        0        0        0        1               0  \n",
       "2           0        0        0        0        0        1               0  \n",
       "7           0        0        0        0        0        1               0  \n",
       "11          0        0        0        0        1        0               0  \n",
       "...       ...      ...      ...      ...      ...      ...             ...  \n",
       "3936        1        0        0        1        0        1               5  \n",
       "3937        1        0        0        1        0        1              14  \n",
       "3938        1        0        0        1        1        1              14  \n",
       "3940        1        0        0        1        1        1              14  \n",
       "3941        1        0        0        1        1        1              14  \n",
       "\n",
       "[2664 rows x 22 columns]"
      ]
     },
     "execution_count": 3,
     "metadata": {},
     "output_type": "execute_result"
    }
   ],
   "source": [
    "# df = df[~mask]\n",
    "df = df.drop_duplicates()\n",
    "encoder = LabelEncoder()\n",
    "label_rencoded = encoder.fit_transform(df['antigen_label'].tolist())\n",
    "df['label_rencoded'] = label_rencoded\n",
    "df"
   ]
  },
  {
   "cell_type": "code",
   "execution_count": 4,
   "metadata": {},
   "outputs": [],
   "source": [
    "X = df[['crd3_encode', 'v.seg_0', 'v.seg_1', 'v.seg_2', 'v.seg_3', 'v.seg_4', 'v.seg_5','vdjdb.score',\n",
    "              'j.segm_0', 'j.segm_1', 'j.segm_2', 'j.segm_3',\n",
    "              'mhc.a_0', 'mhc.a_1', 'mhc.a_2', 'mhc.a_3', 'mhc.a_4', 'mhc.a_5', 'mhc.a_6', 'mhc.b_label']].fillna(0)\n",
    "y = df['label_rencoded']"
   ]
  },
  {
   "cell_type": "code",
   "execution_count": 5,
   "metadata": {},
   "outputs": [],
   "source": [
    "X_train, X_test, y_train, y_test = train_test_split(X, y, test_size=0.2, stratify=y)\n",
    "\n",
    "# X_train, X_val, y_train, y_val = train_test_split(X_train, y_train, test_size=0.25, stratify=y_train)"
   ]
  },
  {
   "cell_type": "code",
   "execution_count": 44,
   "metadata": {},
   "outputs": [
    {
     "data": {
      "text/plain": [
       "array([ 2,  4, 19, ...,  9, 17, 18], dtype=int64)"
      ]
     },
     "execution_count": 44,
     "metadata": {},
     "output_type": "execute_result"
    }
   ],
   "source": [
    "y_train"
   ]
  },
  {
   "cell_type": "code",
   "execution_count": 22,
   "metadata": {},
   "outputs": [
    {
     "data": {
      "text/plain": [
       "array([1, 3, 1, ..., 1, 1, 2], dtype=int64)"
      ]
     },
     "execution_count": 22,
     "metadata": {},
     "output_type": "execute_result"
    }
   ],
   "source": [
    "X_train['vdjdb.score'].values"
   ]
  },
  {
   "cell_type": "code",
   "execution_count": 7,
   "metadata": {},
   "outputs": [],
   "source": [
    "# X_train_copy_list = []\n",
    "# y_train_copy_list = []\n",
    "\n",
    "# # 遍历 X_train 和 y_train 中的每一行\n",
    "# for index, row in X_train.iterrows():\n",
    "#     # 根据 score 列的值确定要复制的数量\n",
    "#     num_copies = row['vdjdb.score']\n",
    "#     # 复制当前行，并添加到列表中\n",
    "#     if num_copies > 0:\n",
    "#         X_train_copy_list.extend([row] * num_copies)\n",
    "#         y_train_copy_list.extend([y_train[index]] * num_copies)\n",
    "\n",
    "# # 将列表中的数据片段合并为新的 DataFrame\n",
    "# X_train_copy = pd.concat(X_train_copy_list, axis=1).T\n",
    "# y_train_copy = pd.Series(y_train_copy_list, name='label_rencoded')\n",
    "\n",
    "# X_train_copy.reset_index(drop=True, inplace=True)\n",
    "# y_train_copy.reset_index(drop=True, inplace=True)\n",
    "\n",
    "# X_train_new = pd.concat([X_train, X_train_copy], ignore_index=True)\n",
    "# y_train_new = pd.concat([y_train, y_train_copy], ignore_index=True)\n",
    "\n",
    "# # 重新设置索引\n",
    "# X_train_new.reset_index(drop=True, inplace=True)\n",
    "# y_train_new.reset_index(drop=True, inplace=True)"
   ]
  },
  {
   "cell_type": "code",
   "execution_count": 40,
   "metadata": {},
   "outputs": [
    {
     "data": {
      "text/plain": [
       "array([ 2,  4, 19, ...,  9, 17, 18], dtype=int64)"
      ]
     },
     "execution_count": 40,
     "metadata": {},
     "output_type": "execute_result"
    }
   ],
   "source": [
    "y_train"
   ]
  },
  {
   "cell_type": "code",
   "execution_count": 6,
   "metadata": {},
   "outputs": [],
   "source": [
    "def dimensionality_reduction(df, n_components1, n_components2):\n",
    "    vdj = df[['v.seg_0', 'v.seg_1', 'v.seg_2', 'v.seg_3', 'v.seg_4', 'v.seg_5',\n",
    "              'j.segm_0', 'j.segm_1', 'j.segm_2', 'j.segm_3']]\n",
    "    mhc = df[['mhc.a_0', 'mhc.a_1', 'mhc.a_2', 'mhc.a_3', 'mhc.a_4', 'mhc.a_5', 'mhc.a_6', 'mhc.b_label']]\n",
    "\n",
    "    vdj_lists = vdj.values.tolist()\n",
    "    mhc_lists = mhc.values.tolist()\n",
    "    \n",
    "    cdr3_kmer = list(df['crd3_encode'].apply(lambda x: ast.literal_eval(x)))\n",
    "    \n",
    "    \n",
    "    pca = PCA(n_components = n_components1)\n",
    "    pca_data = pca.fit_transform(cdr3_kmer)\n",
    "    \n",
    "    tcr_list = []\n",
    "    for cdr3, vdj, mhc in zip(pca_data, vdj_lists, mhc_lists):\n",
    "        tcr_list.append(list(cdr3) + vdj + mhc)\n",
    "    \n",
    "    tsne = manifold.TSNE(n_components=n_components2, init='pca', random_state=1, learning_rate=100)\n",
    "\n",
    "    reduced_data = tsne.fit_transform(tcr_list)\n",
    "    return reduced_data"
   ]
  },
  {
   "cell_type": "code",
   "execution_count": 7,
   "metadata": {},
   "outputs": [],
   "source": [
    "X_train_preprocessing = dimensionality_reduction(X_train, 50, 3)\n",
    "X_test_preprocessing = dimensionality_reduction(X_test, 50, 3)"
   ]
  },
  {
   "cell_type": "code",
   "execution_count": 98,
   "metadata": {},
   "outputs": [
    {
     "data": {
      "text/plain": [
       "array([[-2.14240406e+00, -1.44890469e+00,  3.64363774e+00, ...,\n",
       "         3.78468145e-01,  1.41440749e-01, -7.36705958e-02],\n",
       "       [-6.13351467e+00,  7.75853136e+00,  6.35270214e+00, ...,\n",
       "        -8.55259389e-03,  5.84495116e-01,  1.63711027e+00],\n",
       "       [-4.05254850e+00,  3.52268631e+00, -1.15951863e+00, ...,\n",
       "         1.29464021e+00, -1.33194166e+00, -7.00853422e-01],\n",
       "       ...,\n",
       "       [ 1.66463834e+01,  4.36984612e+00, -5.84662827e+00, ...,\n",
       "        -1.99694394e-01, -1.80346233e+00,  2.53444470e+00],\n",
       "       [-7.34403417e-01, -6.07679983e+00,  7.59871323e+00, ...,\n",
       "        -3.32281379e+00, -4.43176297e+00, -2.79983164e-01],\n",
       "       [ 2.32816578e+00, -1.22941641e+01,  5.60778483e+00, ...,\n",
       "        -3.03898055e-01,  1.62816633e+00,  1.12846648e+00]])"
      ]
     },
     "execution_count": 98,
     "metadata": {},
     "output_type": "execute_result"
    }
   ],
   "source": [
    "X_train_preprocessing"
   ]
  },
  {
   "cell_type": "code",
   "execution_count": 59,
   "metadata": {},
   "outputs": [
    {
     "data": {
      "text/plain": [
       "array([ 0,  1,  2,  3,  4,  5,  6,  7,  8,  9, 10, 11, 12, 13, 14, 15, 16,\n",
       "       17, 18, 19, 20], dtype=int64)"
      ]
     },
     "execution_count": 59,
     "metadata": {},
     "output_type": "execute_result"
    }
   ],
   "source": [
    "np.unique(y_train)"
   ]
  },
  {
   "cell_type": "code",
   "execution_count": 10,
   "metadata": {},
   "outputs": [],
   "source": [
    "def custom_scorer(y_true, y_pred):\n",
    "    auc_scores = []\n",
    "    for i in range (len(np.unique(y_true))):\n",
    "        y_pred_class = y_pred[:, i]\n",
    "        y_true_class = (y_true == i)\n",
    "        auc_scores.append(roc_auc_score(y_true_class, y_pred_class))\n",
    "    auc_score = sum(auc_scores) / len(np.unique(y_train))\n",
    "    return auc_score\n",
    "\n",
    "custom_scorer = make_scorer(custom_scorer)"
   ]
  },
  {
   "cell_type": "code",
   "execution_count": 25,
   "metadata": {},
   "outputs": [
    {
     "name": "stdout",
     "output_type": "stream",
     "text": [
      "Fitting 5 folds for each of 15360 candidates, totalling 76800 fits\n",
      "Best parameters:  {'gamma': 0, 'learning_rate': 0.1, 'max_depth': 12, 'min_child_weight': 2, 'n_estimators': 150, 'reg_alpha': 0.05, 'subsample': 0.7}\n",
      "Best score:  0.42608767358247845\n"
     ]
    }
   ],
   "source": [
    "# Define the parameter grid\n",
    "param_grid = {\n",
    "    'n_estimators': [80, 100, 150, 200],\n",
    "    'learning_rate': [0.02, 0.05, 0.1],\n",
    "    'max_depth': [6, 8, 10, 12],\n",
    "    'min_child_weight': [2, 3, 4, 5, 6],\n",
    "    'subsample': [0.6, 0.7, 0.8, 0.9],\n",
    "    'gamma': [0, 0.1, 0.2, 0.3],\n",
    "    'reg_alpha' : [0, 0.05, 0.1, 1]\n",
    "}\n",
    "\n",
    "# Create an XGBoost classifier\n",
    "xgb_model = xgb.XGBClassifier(objective='multi:softprob', num_class=len(np.unique(y_train)), random_state = 42, nthread = 2, eval_metric = 'mlogloss')\n",
    "\n",
    "# Perform grid search\n",
    "grid_search = GridSearchCV(estimator=xgb_model, param_grid=param_grid, cv=5, n_jobs=-1, verbose = 1, scoring='roc_auc_ovr')\n",
    "grid_search.fit(X_train_preprocessing, y_train, sample_weight=X_train['vdjdb.score'].values)\n",
    "\n",
    "# Print the best parameters and score\n",
    "print(\"Best parameters: \", grid_search.best_params_)\n",
    "print(\"Best score: \", grid_search.best_score_)\n"
   ]
  },
  {
   "cell_type": "code",
   "execution_count": 29,
   "metadata": {},
   "outputs": [
    {
     "data": {
      "text/plain": [
       "XGBClassifier(base_score=None, booster=None, callbacks=None,\n",
       "              colsample_bylevel=None, colsample_bynode=None,\n",
       "              colsample_bytree=None, early_stopping_rounds=None,\n",
       "              enable_categorical=False, eval_metric=None, feature_types=None,\n",
       "              gamma=0, gpu_id=None, grow_policy=None, importance_type=None,\n",
       "              interaction_constraints=None, learning_rate=0.1, max_bin=None,\n",
       "              max_cat_threshold=None, max_cat_to_onehot=None,\n",
       "              max_delta_step=None, max_depth=12, max_leaves=None,\n",
       "              min_child_weight=2, missing=nan, monotone_constraints=None,\n",
       "              n_estimators=150, n_jobs=None, num_class=21,\n",
       "              num_parallel_tree=None, objective='multi:softprob', ...)"
      ]
     },
     "execution_count": 29,
     "metadata": {},
     "output_type": "execute_result"
    }
   ],
   "source": [
    "# Import the necessary modules\n",
    "from xgboost import XGBClassifier\n",
    "\n",
    "# Create an instance of XGBClassifier\n",
    "xgb_model = XGBClassifier(objective='multi:softprob', num_class= len(np.unique(y_train)), \n",
    "          learning_rate=0.1, n_estimators= 150, max_depth= 12, min_child_weight= 2, seed=0, gamma= 0, reg_alpha = 0.05)\n",
    "\n",
    "# Train the model\n",
    "xgb_model.fit(X_train_preprocessing, y_train)\n"
   ]
  },
  {
   "cell_type": "code",
   "execution_count": 13,
   "metadata": {},
   "outputs": [
    {
     "data": {
      "text/plain": [
       "XGBClassifier(base_score=None, booster=None, callbacks=None,\n",
       "              colsample_bylevel=None, colsample_bynode=None,\n",
       "              colsample_bytree=None, early_stopping_rounds=None,\n",
       "              enable_categorical=False, eval_metric=None, feature_types=None,\n",
       "              gamma=None, gpu_id=None, grow_policy=None, importance_type=None,\n",
       "              interaction_constraints=None, learning_rate=0.1, max_bin=None,\n",
       "              max_cat_threshold=None, max_cat_to_onehot=None,\n",
       "              max_delta_step=None, max_depth=None, max_leaves=None,\n",
       "              min_child_weight=None, missing=nan, monotone_constraints=None,\n",
       "              n_estimators=10, n_jobs=None, num_class=21,\n",
       "              num_parallel_tree=None, objective='multi:softprob', ...)"
      ]
     },
     "execution_count": 13,
     "metadata": {},
     "output_type": "execute_result"
    }
   ],
   "source": [
    "# Create an instance of XGBClassifier\n",
    "xgb_model = XGBClassifier(objective='multi:softprob', num_class= len(np.unique(y_train)), \n",
    "          learning_rate=0.1, n_estimators= 10)\n",
    "\n",
    "# Train the model\n",
    "xgb_model.fit(X_train_preprocessing, y_train)"
   ]
  },
  {
   "cell_type": "code",
   "execution_count": 14,
   "metadata": {},
   "outputs": [],
   "source": [
    "pre_y_test = xgb_model.predict_proba(X_test_preprocessing)"
   ]
  },
  {
   "cell_type": "code",
   "execution_count": 15,
   "metadata": {},
   "outputs": [
    {
     "name": "stdout",
     "output_type": "stream",
     "text": [
      "AUC:  0.5957571199071903\n"
     ]
    }
   ],
   "source": [
    "# 计算每个类别的AUC\n",
    "auc_scores = []\n",
    "for i in range (len(np.unique(y_test))):\n",
    "    y_pred_class = pre_y_test[:, i]  # 提取第i个类别的预测概率\n",
    "    y_true_class = (y_test == i)  # 将真实标签转化为二分类问题\n",
    "    auc_scores.append(roc_auc_score(y_true_class, y_pred_class))\n",
    "\n",
    "# 计算多分类任务的AUC指标\n",
    "mean_auc = sum(auc_scores) / len(np.unique(y_train))\n",
    "\n",
    "print('AUC: ', mean_auc)"
   ]
  },
  {
   "cell_type": "code",
   "execution_count": 54,
   "metadata": {},
   "outputs": [],
   "source": [
    "def GridSearch(cv_params, other_params, X_train_preprocessing, y_train_new):\n",
    "    model = xgb.XGBRegressor(**other_params)\n",
    "    optimized_GBM = GridSearchCV(estimator=model, param_grid=cv_params, scoring='r2', cv=5, verbose=1, n_jobs=4)\n",
    "    optimized_GBM.fit(X_train_preprocessing, y_train_new)\n",
    "    print('参数的最佳取值：{0}'.format(optimized_GBM.best_params_))\n",
    "    print('最佳模型得分:{0}'.format(optimized_GBM.best_score_))"
   ]
  },
  {
   "cell_type": "code",
   "execution_count": 55,
   "metadata": {},
   "outputs": [
    {
     "name": "stdout",
     "output_type": "stream",
     "text": [
      "Fitting 5 folds for each of 5 candidates, totalling 25 fits\n",
      "参数的最佳取值：{'n_estimators': 100}\n",
      "最佳模型得分:0.9534223154377157\n"
     ]
    }
   ],
   "source": [
    "cv_params = {'n_estimators': [10, 30, 55, 100, 150, 200]}\n",
    "other_params = {'objective': 'multi:softmax', 'num_class': y_train_new.nunique(), 'learning_rate': 0.1, 'n_estimators': 500,\n",
    "                'max_depth': 5, 'min_child_weight': 1, 'seed': 0,\n",
    "                'subsample': 0.8, 'colsample_bytree': 0.8, 'gamma': 0, 'reg_alpha': 0, 'reg_lambda': 1}\n",
    "\n",
    "GridSearch(cv_params, other_params, X_train_preprocessing, y_train_new)"
   ]
  },
  {
   "cell_type": "code",
   "execution_count": 60,
   "metadata": {},
   "outputs": [
    {
     "name": "stdout",
     "output_type": "stream",
     "text": [
      "Fitting 5 folds for each of 30 candidates, totalling 150 fits\n",
      "参数的最佳取值：{'max_depth': 20, 'min_child_weight': 6}\n",
      "最佳模型得分:0.9613372725962229\n"
     ]
    }
   ],
   "source": [
    "cv_params = {'max_depth': [20, 50, 100, 150, 200], 'min_child_weight': [1, 2, 3, 4, 5, 6]}\n",
    "other_params = {'objective': 'multi:softmax', 'num_class': y_train_new.nunique(), \n",
    "                'learning_rate': 0.1, 'n_estimators': 150, 'max_depth': 20, 'min_child_weight': 6, 'seed': 0,\n",
    "                'subsample': 0.8, 'colsample_bytree': 0.8, 'gamma': 0, 'reg_alpha': 0, 'reg_lambda': 1}\n",
    "GridSearch(cv_params, other_params, X_train_preprocessing, y_train_new)"
   ]
  },
  {
   "cell_type": "code",
   "execution_count": 61,
   "metadata": {},
   "outputs": [
    {
     "name": "stdout",
     "output_type": "stream",
     "text": [
      "Fitting 5 folds for each of 6 candidates, totalling 30 fits\n",
      "参数的最佳取值：{'gamma': 0.1}\n",
      "最佳模型得分:0.9613372725962229\n"
     ]
    }
   ],
   "source": [
    "cv_params = {'gamma': [0.1, 0.2, 0.3, 0.4, 0.5, 0.6]}\n",
    "other_params = {'objective': 'multi:softmax', 'num_class': y_train_new.nunique(), \n",
    "                'learning_rate': 0.1, 'n_estimators': 150, 'max_depth': 20, 'min_child_weight': 6, 'seed': 0,\n",
    "                'subsample': 0.8, 'colsample_bytree': 0.8, 'gamma': 0, 'reg_alpha': 0, 'reg_lambda': 1}\n",
    "GridSearch(cv_params, other_params, X_train_preprocessing, y_train_new)"
   ]
  },
  {
   "cell_type": "code",
   "execution_count": 24,
   "metadata": {},
   "outputs": [
    {
     "ename": "NameError",
     "evalue": "name 'y_train_new' is not defined",
     "output_type": "error",
     "traceback": [
      "\u001b[1;31m---------------------------------------------------------------------------\u001b[0m",
      "\u001b[1;31mNameError\u001b[0m                                 Traceback (most recent call last)",
      "Cell \u001b[1;32mIn[24], line 2\u001b[0m\n\u001b[0;32m      1\u001b[0m cv_params \u001b[38;5;241m=\u001b[39m {\u001b[38;5;124m'\u001b[39m\u001b[38;5;124mlearning_rate\u001b[39m\u001b[38;5;124m'\u001b[39m: [\u001b[38;5;241m0.01\u001b[39m, \u001b[38;5;241m0.05\u001b[39m, \u001b[38;5;241m0.07\u001b[39m, \u001b[38;5;241m0.1\u001b[39m, \u001b[38;5;241m0.2\u001b[39m]}\n\u001b[1;32m----> 2\u001b[0m other_params \u001b[38;5;241m=\u001b[39m {\u001b[38;5;124m'\u001b[39m\u001b[38;5;124mobjective\u001b[39m\u001b[38;5;124m'\u001b[39m: \u001b[38;5;124m'\u001b[39m\u001b[38;5;124mmulti:softmax\u001b[39m\u001b[38;5;124m'\u001b[39m, \u001b[38;5;124m'\u001b[39m\u001b[38;5;124mnum_class\u001b[39m\u001b[38;5;124m'\u001b[39m: \u001b[43my_train_new\u001b[49m\u001b[38;5;241m.\u001b[39mnunique(), \n\u001b[0;32m      3\u001b[0m                 \u001b[38;5;124m'\u001b[39m\u001b[38;5;124mlearning_rate\u001b[39m\u001b[38;5;124m'\u001b[39m: \u001b[38;5;241m0.1\u001b[39m, \u001b[38;5;124m'\u001b[39m\u001b[38;5;124mn_estimators\u001b[39m\u001b[38;5;124m'\u001b[39m: \u001b[38;5;241m150\u001b[39m, \u001b[38;5;124m'\u001b[39m\u001b[38;5;124mmax_depth\u001b[39m\u001b[38;5;124m'\u001b[39m: \u001b[38;5;241m20\u001b[39m, \u001b[38;5;124m'\u001b[39m\u001b[38;5;124mmin_child_weight\u001b[39m\u001b[38;5;124m'\u001b[39m: \u001b[38;5;241m1\u001b[39m, \u001b[38;5;124m'\u001b[39m\u001b[38;5;124mseed\u001b[39m\u001b[38;5;124m'\u001b[39m: \u001b[38;5;241m0\u001b[39m,\n\u001b[0;32m      4\u001b[0m                 \u001b[38;5;124m'\u001b[39m\u001b[38;5;124msubsample\u001b[39m\u001b[38;5;124m'\u001b[39m: \u001b[38;5;241m0.8\u001b[39m, \u001b[38;5;124m'\u001b[39m\u001b[38;5;124mcolsample_bytree\u001b[39m\u001b[38;5;124m'\u001b[39m: \u001b[38;5;241m0.8\u001b[39m, \u001b[38;5;124m'\u001b[39m\u001b[38;5;124mgamma\u001b[39m\u001b[38;5;124m'\u001b[39m: \u001b[38;5;241m0.1\u001b[39m, \u001b[38;5;124m'\u001b[39m\u001b[38;5;124mreg_alpha\u001b[39m\u001b[38;5;124m'\u001b[39m: \u001b[38;5;241m0\u001b[39m, \u001b[38;5;124m'\u001b[39m\u001b[38;5;124mreg_lambda\u001b[39m\u001b[38;5;124m'\u001b[39m: \u001b[38;5;241m1\u001b[39m}\n\u001b[0;32m      5\u001b[0m GridSearch(cv_params, other_params, X_train_preprocessing, y_train_new)\n",
      "\u001b[1;31mNameError\u001b[0m: name 'y_train_new' is not defined"
     ]
    }
   ],
   "source": [
    "cv_params = {'learning_rate': [0.01, 0.05, 0.07, 0.1, 0.2]}\n",
    "other_params = {'objective': 'multi:softmax', 'num_class': y_train_new.nunique(), \n",
    "                'learning_rate': 0.1, 'n_estimators': 150, 'max_depth': 20, 'min_child_weight': 1, 'seed': 0,\n",
    "                'subsample': 0.8, 'colsample_bytree': 0.8, 'gamma': 0.1, 'reg_alpha': 0, 'reg_lambda': 1}\n",
    "GridSearch(cv_params, other_params, X_train_preprocessing, y_train_new)"
   ]
  },
  {
   "cell_type": "code",
   "execution_count": 23,
   "metadata": {},
   "outputs": [
    {
     "ename": "NameError",
     "evalue": "name 'other_params' is not defined",
     "output_type": "error",
     "traceback": [
      "\u001b[1;31m---------------------------------------------------------------------------\u001b[0m",
      "\u001b[1;31mNameError\u001b[0m                                 Traceback (most recent call last)",
      "Cell \u001b[1;32mIn[23], line 4\u001b[0m\n\u001b[0;32m      1\u001b[0m params \u001b[38;5;241m=\u001b[39m {\u001b[38;5;124m'\u001b[39m\u001b[38;5;124mobjective\u001b[39m\u001b[38;5;124m'\u001b[39m: \u001b[38;5;124m'\u001b[39m\u001b[38;5;124mmulti:softmax\u001b[39m\u001b[38;5;124m'\u001b[39m, \u001b[38;5;124m'\u001b[39m\u001b[38;5;124mnum_class\u001b[39m\u001b[38;5;124m'\u001b[39m: y_train\u001b[38;5;241m.\u001b[39mnunique(), \n\u001b[0;32m      2\u001b[0m           \u001b[38;5;124m'\u001b[39m\u001b[38;5;124mlearning_rate\u001b[39m\u001b[38;5;124m'\u001b[39m: \u001b[38;5;241m0.05\u001b[39m, \u001b[38;5;124m'\u001b[39m\u001b[38;5;124mn_estimators\u001b[39m\u001b[38;5;124m'\u001b[39m: \u001b[38;5;241m150\u001b[39m, \u001b[38;5;124m'\u001b[39m\u001b[38;5;124mmax_depth\u001b[39m\u001b[38;5;124m'\u001b[39m: \u001b[38;5;241m100\u001b[39m, \u001b[38;5;124m'\u001b[39m\u001b[38;5;124mmin_child_weight\u001b[39m\u001b[38;5;124m'\u001b[39m: \u001b[38;5;241m1\u001b[39m, \u001b[38;5;124m'\u001b[39m\u001b[38;5;124mseed\u001b[39m\u001b[38;5;124m'\u001b[39m: \u001b[38;5;241m0\u001b[39m,\n\u001b[0;32m      3\u001b[0m           \u001b[38;5;124m'\u001b[39m\u001b[38;5;124msubsample\u001b[39m\u001b[38;5;124m'\u001b[39m: \u001b[38;5;241m0.8\u001b[39m, \u001b[38;5;124m'\u001b[39m\u001b[38;5;124mcolsample_bytree\u001b[39m\u001b[38;5;124m'\u001b[39m: \u001b[38;5;241m0.8\u001b[39m, \u001b[38;5;124m'\u001b[39m\u001b[38;5;124mgamma\u001b[39m\u001b[38;5;124m'\u001b[39m: \u001b[38;5;241m0.1\u001b[39m, \u001b[38;5;124m'\u001b[39m\u001b[38;5;124mreg_alpha\u001b[39m\u001b[38;5;124m'\u001b[39m: \u001b[38;5;241m0\u001b[39m, \u001b[38;5;124m'\u001b[39m\u001b[38;5;124mreg_lambda\u001b[39m\u001b[38;5;124m'\u001b[39m: \u001b[38;5;241m1\u001b[39m}\n\u001b[1;32m----> 4\u001b[0m model \u001b[38;5;241m=\u001b[39m xgb\u001b[38;5;241m.\u001b[39mXGBRegressor(\u001b[38;5;241m*\u001b[39m\u001b[38;5;241m*\u001b[39m\u001b[43mother_params\u001b[49m)\n\u001b[0;32m      5\u001b[0m model\u001b[38;5;241m.\u001b[39mfit(X_train_preprocessing, y_train)\n",
      "\u001b[1;31mNameError\u001b[0m: name 'other_params' is not defined"
     ]
    }
   ],
   "source": [
    "params = {'objective': 'multi:softmax', 'num_class': y_train.nunique(), \n",
    "          'learning_rate': 0.05, 'n_estimators': 150, 'max_depth': 100, 'min_child_weight': 1, 'seed': 0,\n",
    "          'subsample': 0.8, 'colsample_bytree': 0.8, 'gamma': 0.1, 'reg_alpha': 0, 'reg_lambda': 1}\n",
    "model = xgb.XGBRegressor(**other_params)\n",
    "model.fit(X_train_preprocessing, y_train)"
   ]
  },
  {
   "cell_type": "code",
   "execution_count": 64,
   "metadata": {},
   "outputs": [],
   "source": [
    "X_test_preprocessing = dimensionality_reduction(X_test, 50, 3)"
   ]
  },
  {
   "cell_type": "code",
   "execution_count": 71,
   "metadata": {},
   "outputs": [],
   "source": [
    "# dtest = xgb.DMatrix(X_test_preprocessing)\n",
    "pre_y_test = model.predict(X_test_preprocessing)"
   ]
  },
  {
   "cell_type": "code",
   "execution_count": 72,
   "metadata": {},
   "outputs": [
    {
     "data": {
      "text/plain": [
       "array([ 3.,  6., 12., 17.,  8., 18.,  5., 15., 13., 12., 13.,  6., 15.,\n",
       "        2., 13., 13., 13.,  4.,  9.,  9., 13., 18., 18., 13., 11.,  4.,\n",
       "       13., 18.,  6.,  8., 18.,  6.,  9., 13.,  7., 13., 13., 18., 16.,\n",
       "       18., 18., 17.,  9., 18.,  0., 13., 13.,  6., 13., 16., 13.,  5.,\n",
       "       10., 15., 18., 10., 13.,  9.,  9., 13.,  5.,  3.,  4.,  2.,  5.,\n",
       "        7.,  5., 13.,  9., 13., 19.,  0., 13.,  9., 15., 15., 11., 13.,\n",
       "       13.,  6., 13., 13., 13., 13., 13., 18.,  0., 13., 14., 11., 18.,\n",
       "        6.,  9., 13.,  3.,  8.,  6., 13., 17.,  7., 13., 13.,  7., 17.,\n",
       "        6., 14.,  6.,  6., 18.,  0., 11.,  3., 11.,  9.,  7.,  2., 13.,\n",
       "       13., 15., 17., 10.,  0., 11.,  0., 15.,  6., 18.,  5., 15., 15.,\n",
       "        4.,  6., 11.,  0., 10., 13.,  8.,  2., 13., 13., 13., 13., 13.,\n",
       "        6.,  3.,  7., 13.,  6., 12., 13.,  3., 18.,  9., 14., 11., 13.,\n",
       "       13.,  7., 13., 13.,  3., 13., 13.,  6.,  0., 13., 15., 12., 13.,\n",
       "       18.,  9.,  8., 13., 15.,  7., 15., 15., 11., 15., 11., 10., 15.,\n",
       "       13.,  7., 13., 15., 13., 13., 13., 15., 13., 13., 13., 13., 10.,\n",
       "       10., 14., 14., 11., 13.,  6., 10., 11.,  5.,  2.,  6.,  3., 13.,\n",
       "       18., 13., 13., 15.,  4., 15.,  5., 14., 13., 12., 11.,  4., 17.,\n",
       "       18., 13., 13.,  5., 13.,  7., 13.,  7.,  9.,  5., 14., 17.,  0.,\n",
       "        7., 13., 15.,  0., 13.,  6., 18.,  5.,  8., 13., 13., 12., 14.,\n",
       "       13., 13.,  5., 13.,  5., 13.,  6.,  5., 13.,  0., 18., 15., 17.,\n",
       "        6.,  0.,  9., 12.,  4., 13., 11.,  6., 17.,  9., 11.,  8., 13.,\n",
       "       17., 13.,  4.,  2., 14., 13., 17.,  9., 13., 13.,  0., 10., 13.,\n",
       "       15.,  4., 13., 15., 13., 13., 11.,  6.,  4., 11., 11., 13.,  0.,\n",
       "        9.,  9.,  6., 13., 13.,  2., 18., 10., 13.,  0.,  7.,  0., 13.,\n",
       "        8.,  4., 12., 18., 18., 13., 13.,  0., 13.,  7.,  4., 13.,  7.,\n",
       "        9., 13.,  9., 13.,  0., 11., 17., 12., 13.,  5., 13., 13., 13.,\n",
       "       17.,  0.,  6., 13., 18.,  5.,  7., 10., 13., 11.,  7.,  5., 13.,\n",
       "       14., 13., 13.,  4., 13., 13.,  5.,  6.,  5., 11., 13., 15., 13.,\n",
       "        7.,  0., 17., 13.,  4.,  9., 17., 17., 11., 13., 13., 13.,  0.,\n",
       "       11., 13.,  6., 12.,  2., 11., 13., 13., 11., 13., 11., 13., 13.,\n",
       "       13., 13., 13., 18., 13., 17.,  6., 13., 15., 13., 13., 14., 12.,\n",
       "       18., 13.,  7.,  0.,  0.,  5., 13., 13.,  6., 13., 13., 18., 13.,\n",
       "        3.,  6., 14., 13., 13.,  0.,  9.,  8., 15.,  6., 13.,  4., 13.,\n",
       "       15., 13., 18., 12., 15.,  5., 15., 13., 13., 15.,  6., 13., 13.,\n",
       "       13.,  4.,  2., 13.,  6., 13.,  5., 10., 13., 13.,  9., 18.,  5.,\n",
       "       13., 13.,  7., 13.,  9., 11.,  6.,  7., 13., 13., 17., 13.,  4.,\n",
       "       15.,  6., 18.,  6., 13., 13.,  6., 18., 11., 13., 11., 13., 14.,\n",
       "        7., 15., 10.,  8., 15.,  0., 10.,  8.,  6.,  6., 13., 13.,  5.,\n",
       "        5., 12.,  5.,  8., 13., 13.,  4.,  7., 13., 13., 13., 13.,  0.,\n",
       "        9., 13., 13., 13., 13.,  9., 17., 18., 10., 15., 13., 13., 13.,\n",
       "        5., 13.,  0., 10.,  6.,  0., 13.,  6., 13.,  6.,  6., 13.,  4.],\n",
       "      dtype=float32)"
      ]
     },
     "execution_count": 72,
     "metadata": {},
     "output_type": "execute_result"
    }
   ],
   "source": [
    "pre_y_test"
   ]
  },
  {
   "cell_type": "code",
   "execution_count": 70,
   "metadata": {},
   "outputs": [
    {
     "name": "stdout",
     "output_type": "stream",
     "text": [
      "0.7036639429409204\n"
     ]
    },
    {
     "name": "stderr",
     "output_type": "stream",
     "text": [
      "d:\\anaconda3\\lib\\site-packages\\sklearn\\metrics\\_classification.py:1248: UndefinedMetricWarning: Precision is ill-defined and being set to 0.0 in labels with no predicted samples. Use `zero_division` parameter to control this behavior.\n",
      "  _warn_prf(average, modifier, msg_start, len(result))\n"
     ]
    }
   ],
   "source": [
    "from sklearn.metrics import roc_auc_score"
   ]
  }
 ],
 "metadata": {
  "kernelspec": {
   "display_name": "base",
   "language": "python",
   "name": "python3"
  },
  "language_info": {
   "codemirror_mode": {
    "name": "ipython",
    "version": 3
   },
   "file_extension": ".py",
   "mimetype": "text/x-python",
   "name": "python",
   "nbconvert_exporter": "python",
   "pygments_lexer": "ipython3",
   "version": "3.9.7"
  }
 },
 "nbformat": 4,
 "nbformat_minor": 2
}
