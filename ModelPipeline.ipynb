{
 "cells": [
  {
   "cell_type": "markdown",
   "metadata": {},
   "source": [
    "# This is a demonstration of our model pipeline so far - Week 21"
   ]
  },
  {
   "cell_type": "markdown",
   "metadata": {},
   "source": [
    "## Here we extract the CDR3 alpha, beta and combined alpha-beta chains from our dataset"
   ]
  },
  {
   "cell_type": "code",
   "execution_count": 4,
   "metadata": {},
   "outputs": [],
   "source": [
    "import pandas as pd\n",
    "\n",
    "df = pd.read_csv('vdjdb.txt', sep=\"\t\")\n",
    "\n",
    "df_alpha = df[df['gene'] == 'TRA']\n",
    "df_beta = df[df['gene'] == 'TRB']\n",
    "\n",
    "cdr_alpha = df_alpha['cdr3'].tolist()\n",
    "cdr_beta = df_beta['cdr3'].tolist()\n",
    "\n",
    "id = df['complex.id']\n",
    "cdr_combined = []\n",
    "for i in id.unique().tolist():\n",
    "    if i != 0:\n",
    "        index = df[df['complex.id'] == i].index.tolist()\n",
    "        cdr_combined.append(df.at[index[0], 'cdr3'] + df.at[index[1], 'cdr3'])\n",
    "\n",
    "cdr_list = [cdr_alpha, cdr_beta, cdr_combined]\n"
   ]
  },
  {
   "cell_type": "markdown",
   "metadata": {},
   "source": [
    "## Here we use different techniques to embed our data. This is a necessary step that must be more robust than one-hot encoding"
   ]
  },
  {
   "cell_type": "markdown",
   "metadata": {},
   "source": [
    "### Isometric embedding into 96 dimesnional vectors with the use of a BLOSUM62 matrix - developed by GIANA\n",
    "https://github.com/s175573/GIANA/blob/master/example_of_CDR3_encoding.ipynb"
   ]
  },
  {
   "cell_type": "markdown",
   "metadata": {},
   "source": [
    "Isometric embedding is a technique used to embed high-dimensional data into a low-dimensional space while preserving the pairwise distances (or similarities) between data points as much as possible. Unlike traditional dimensionality reduction methods like principal component analysis (PCA) or t-distributed stochastic neighbor embedding (t-SNE), which focus on preserving local or global structures, isometric embedding aims to maintain the intrinsic geometry of the data."
   ]
  },
  {
   "cell_type": "code",
   "execution_count": 5,
   "metadata": {},
   "outputs": [],
   "source": [
    "import numpy as np\n",
    "\n",
    "def Encoding96(seq):\n",
    "    Ndim=16 #the optimal dimension for isometric representation is 16 \n",
    "    n0=Ndim*6\n",
    "    ZERO=np.zeros((Ndim,Ndim))\n",
    "    II=np.eye(Ndim)\n",
    "    M0=np.concatenate((np.concatenate((ZERO,ZERO, II),axis=1),np.concatenate((II, ZERO, ZERO),axis=1),np.concatenate((ZERO,II, ZERO),axis=1)))\n",
    "    ## Construct 6-th order cyclic group\n",
    "    ZERO45=np.zeros((Ndim*3,Ndim*3))\n",
    "    M6=np.concatenate((np.concatenate((ZERO45,M0),axis=1),np.concatenate((M0, ZERO45),axis=1)))\n",
    "\n",
    "    #blosum62 Matrix\n",
    "    bl62={'A':[4,-1,-2,-2,0,-1,-1,0,-2,-1,-1,-1,-1,-2,-1,1,0,-3,-2,0],\n",
    "        'R':[-1,4,0,-2,-3,1,0,-2,0,-3,-2,2,-1,-3,-2,-1,-1,-3,-2,-3],\n",
    "        'N':[-2,0,4,1,-3,0,0,0,1,-3,-3,0,-2,-3,-2,1,0,-4,-2,-3],\n",
    "        'D':[-2,-2,1,4,-3,0,2,-1,-1,-3,-4,-1,-3,-3,-1,0,-1,-4,-3,-3],\n",
    "        'C':[0,-3,-3,-3,4,-3,-4,-3,-3,-1,-1,-3,-1,-2,-3,-1,-1,-2,-2,-1],\n",
    "        'Q':[-1,1,0,0,-3,4,2,-2,0,-3,-2,1,0,-3,-1,0,-1,-2,-1,-2],\n",
    "        'E':[-1,0,0,2,-4,2,4,-2,0,-3,-3,1,-2,-3,-1,0,-1,-3,-2,-2],\n",
    "        'G':[0,-2,0,-1,-3,-2,-2,4,-2,-4,-4,-2,-3,-3,-2,0,-2,-2,-3,-3],\n",
    "        'H':[-2,0,1,-1,-3,0,0,-2,4,-3,-3,-1,-2,-1,-2,-1,-2,-2,2,-3],\n",
    "        'I':[-1,-3,-3,-3,-1,-3,-3,-4,-3,4,2,-3,1,0,-3,-2,-1,-3,-1,3],\n",
    "        'L':[-1,-2,-3,-4,-1,-2,-3,-4,-3,2,4,-2,2,0,-3,-2,-1,-2,-1,1],\n",
    "        'K':[-1,2,0,-1,-3,1,1,-2,-1,-3,-2,4,-1,-3,-1,0,-1,-3,-2,-2],\n",
    "        'M':[-1,-1,-2,-3,-1,0,-2,-3,-2,1,2,-1,4,0,-2,-1,-1,-1,-1,1],\n",
    "        'F':[-2,-3,-3,-3,-2,-3,-3,-3,-1,0,0,-3,0,4,-4,-2,-2,1,3,-1],\n",
    "        'P':[-1,-2,-2,-1,-3,-1,-1,-2,-2,-3,-3,-1,-2,-4,4,-1,-1,-4,-3,-2],\n",
    "        'S':[1,-1,1,0,-1,0,0,0,-1,-2,-2,0,-1,-2,-1,4,1,-3,-2,-2],\n",
    "        'T':[0,-1,0,-1,-1,-1,-1,-2,-2,-1,-1,-1,-1,-2,-1,1,4,-2,-2,0],\n",
    "        'W':[-3,-3,-4,-4,-2,-2,-3,-2,-2,-3,-2,-3,-1,1,-4,-3,-2,4,2,-3],\n",
    "        'Y':[-2,-2,-2,-3,-2,-1,-2,-3,2,-1,-1,-2,-1,3,-3,-2,-2,2,4,-1],\n",
    "        'V':[0,-3,-3,-3,-1,-2,-2,-3,-3,3,1,-2,1,-1,-2,-2,0,-3,-1,4]}\n",
    "\n",
    "    #let X to be the collection of MDS encoded embedding vectors for each of amino acid, which has a dimensionality of 16\n",
    "    X=np.array([[-0.31230882, -0.53572156, -0.01949946, -0.12211268, -0.70947917,\n",
    "        -0.42211092,  0.02783931,  0.02637933, -0.41760305,  0.21809875,\n",
    "         0.53532768,  0.04833016,  0.07877711,  0.50464914, -0.26972087,\n",
    "        -0.52416842],\n",
    "       [ 0.29672002,  0.29005364,  0.18176298, -0.05103382, -0.34686519,\n",
    "         0.58024228, -0.49282931,  0.62304281, -0.09575202,  0.30115555,\n",
    "         0.09913529,  0.1577466 , -0.94391939, -0.10505925,  0.05482389,\n",
    "         0.38409897],\n",
    "       [-0.42212537,  0.12225749,  0.16279646,  0.60099009,  0.19734216,\n",
    "         0.42819919, -0.33562418,  0.17036334,  0.4234109 ,  0.46681561,\n",
    "        -0.50347222, -0.37936876,  0.1494825 ,  0.32176759,  0.28584684,\n",
    "         0.68469861],\n",
    "       [ 0.18599294, -0.44017825, -0.4476952 ,  0.34340976,  0.44603553,\n",
    "         0.40974629, -0.60045935, -0.09056728,  0.22147919, -0.33029418,\n",
    "         0.55635594, -0.54149972,  0.05459062,  0.57334159, -0.06227118,\n",
    "         0.65299872],\n",
    "       [-0.19010428,  0.64418792, -0.85286762,  0.21380295,  0.37639516,\n",
    "        -0.67753593,  0.38751609,  0.55746524,  0.01443766,  0.1776535 ,\n",
    "         0.62853954, -0.15048523,  0.55100206, -0.21426656,  0.3644061 ,\n",
    "        -0.0018255 ],\n",
    "       [ 0.7350723 ,  0.10111267,  0.55640019, -0.18226966,  0.51658102,\n",
    "        -0.19321508, -0.46599027, -0.02989911,  0.4036196 , -0.11978213,\n",
    "        -0.29837524, -0.30232765, -0.36738065, -0.1379793 ,  0.04362871,\n",
    "         0.33553714],\n",
    "       [ 0.41134047,  0.13512443,  0.62492322, -0.10120261, -0.03093491,\n",
    "         0.23751917, -0.68338694,  0.05124762,  0.41533821,  0.46669353,\n",
    "         0.31467277, -0.02427587,  0.15361135,  0.70595112, -0.27952632,\n",
    "         0.32408931],\n",
    "       [-0.33041265, -0.43860065, -0.5509376 , -0.04380843, -0.35160935,\n",
    "         0.25134855,  0.53409314,  0.54850824,  0.59490287,  0.32669345,\n",
    "        -0.45355268, -0.56317041, -0.55416297,  0.18117841, -0.71600849,\n",
    "        -0.08989825],\n",
    "       [-0.40366849,  0.10978974,  0.0280101 , -0.46667987, -0.45607028,\n",
    "         0.54114052, -0.77552923, -0.10720425,  0.55252091, -0.34397153,\n",
    "        -0.59813694,  0.15567728,  0.03071009, -0.02176143,  0.34442719,\n",
    "         0.14681541],\n",
    "       [ 0.19280422,  0.35777863,  0.06139255,  0.20081699, -0.30546596,\n",
    "        -0.56901549, -0.15290953, -0.31181573, -0.74523217,  0.22296016,\n",
    "        -0.39143832, -0.16474685,  0.58064427, -0.77386654,  0.19713107,\n",
    "        -0.49477418],\n",
    "       [-0.16133903,  0.22112761, -0.53162136,  0.34764073, -0.08522381,\n",
    "        -0.2510216 ,  0.04699411, -0.25702389, -0.8739765 , -0.24171728,\n",
    "        -0.24370533,  0.42193635,  0.41056913, -0.60378211, -0.65756832,\n",
    "         0.0845203 ],\n",
    "       [-0.34792144,  0.18450939,  0.77038332,  0.63868511, -0.06221681,\n",
    "         0.11930421,  0.04895523, -0.22463059, -0.03268844, -0.58941354,\n",
    "         0.11640045,  0.32384901, -0.42952779,  0.58119471,  0.07288662,\n",
    "         0.26669673],\n",
    "       [ 0.01834555, -0.16367754,  0.34900298,  0.45087949,  0.47073855,\n",
    "        -0.37377404,  0.0606911 ,  0.2455703 , -0.55182937, -0.20261009,\n",
    "         0.28325423, -0.04741146,  0.30565238, -0.62090653,  0.17528413,\n",
    "        -0.60434975],\n",
    "       [-0.55464981,  0.50918784, -0.21371646, -0.63996967, -0.37656862,\n",
    "         0.27852662,  0.3287838 , -0.56800869,  0.23260763, -0.20653106,\n",
    "         0.63261439, -0.22666691,  0.00726302, -0.60125196,  0.07139961,\n",
    "        -0.35086639],\n",
    "       [ 0.94039731, -0.25999326,  0.43922549, -0.485738  , -0.20492235,\n",
    "        -0.26005626,  0.68776626,  0.57826888, -0.05973995, -0.1193658 ,\n",
    "        -0.12102433, -0.22091354,  0.43427913,  0.71447886,  0.32745991,\n",
    "         0.03466398],\n",
    "       [-0.13194625, -0.12262688,  0.18029209,  0.16555524,  0.39594125,\n",
    "        -0.58110665,  0.16161717,  0.0839783 ,  0.0911945 ,  0.34546976,\n",
    "        -0.29415349,  0.29891936, -0.60834721,  0.5943593 , -0.29473819,\n",
    "         0.4864154 ],\n",
    "       [ 0.40850093, -0.4638894 , -0.39732987, -0.01972861,  0.51189582,\n",
    "         0.10176704,  0.37528519, -0.41479418, -0.1932531 ,  0.54732221,\n",
    "        -0.11876511,  0.32843973, -0.259283  ,  0.59500132,  0.35168375,\n",
    "        -0.21733727],\n",
    "       [-0.50627723, -0.1973602 , -0.02339884, -0.66846048,  0.62696606,\n",
    "         0.60049717,  0.69143364, -0.48053591,  0.17812208, -0.58481821,\n",
    "        -0.23551415, -0.06229112,  0.20993116, -0.72485884,  0.34375662,\n",
    "        -0.23539168],\n",
    "       [-0.51388312, -0.2788953 ,  0.00859533, -0.5247195 , -0.18021544,\n",
    "         0.28372911,  0.10791359,  0.13033494,  0.34294013, -0.70310089,\n",
    "        -0.13245433,  0.48661081,  0.08451644, -0.69990992,  0.0408274 ,\n",
    "        -0.47204888],\n",
    "       [ 0.68546275,  0.22581365, -0.32571833,  0.34394298, -0.43232367,\n",
    "        -0.5041842 ,  0.04784017, -0.53067936, -0.50049908,  0.36874221,\n",
    "         0.22429186,  0.4616482 ,  0.11159174, -0.26827959, -0.39372848,\n",
    "        -0.40987423]])\n",
    "    \n",
    "    bl62np={}\n",
    "    vkk=list(bl62.keys())\n",
    "    for ii in range(20):\n",
    "        kk=vkk[ii]\n",
    "        bl62np[kk]=np.array(list(X[ii,])+[0]*Ndim*5)    \n",
    "\n",
    "\n",
    "    #ST is the starting position of CDR3 sequence, normally the first three and the last two letters are omitted.\n",
    "    ST = 3\n",
    "    sub_seq = seq[ST:-2]\n",
    "\n",
    "    sL=list(sub_seq)\n",
    "    x=np.array([0]*n0)\n",
    "    for ii in range(len(sL)):\n",
    "        x = np.dot(M6, (x+bl62np[sL[ii]]))\n",
    "\n",
    "    return x"
   ]
  },
  {
   "cell_type": "code",
   "execution_count": 21,
   "metadata": {},
   "outputs": [
    {
     "name": "stdout",
     "output_type": "stream",
     "text": [
      "CILDNNNGMRF\n",
      "[ 0.18599294 -0.44017825 -0.4476952   0.34340976  0.44603553  0.40974629\n",
      " -0.60045935 -0.09056728  0.22147919 -0.33029418  0.55635594 -0.54149972\n",
      "  0.05459062  0.57334159 -0.06227118  0.65299872 -0.42212537  0.12225749\n",
      "  0.16279646  0.60099009  0.19734216  0.42819919 -0.33562418  0.17036334\n",
      "  0.4234109   0.46681561 -0.50347222 -0.37936876  0.1494825   0.32176759\n",
      "  0.28584684  0.68469861 -0.33041265 -0.43860065 -0.5509376  -0.04380843\n",
      " -0.35160935  0.25134855  0.53409314  0.54850824  0.59490287  0.32669345\n",
      " -0.45355268 -0.56317041 -0.55416297  0.18117841 -0.71600849 -0.08989825\n",
      " -0.42212537  0.12225749  0.16279646  0.60099009  0.19734216  0.42819919\n",
      " -0.33562418  0.17036334  0.4234109   0.46681561 -0.50347222 -0.37936876\n",
      "  0.1494825   0.32176759  0.28584684  0.68469861  0.01834555 -0.16367754\n",
      "  0.34900298  0.45087949  0.47073855 -0.37377404  0.0606911   0.2455703\n",
      " -0.55182937 -0.20261009  0.28325423 -0.04741146  0.30565238 -0.62090653\n",
      "  0.17528413 -0.60434975 -0.42212537  0.12225749  0.16279646  0.60099009\n",
      "  0.19734216  0.42819919 -0.33562418  0.17036334  0.4234109   0.46681561\n",
      " -0.50347222 -0.37936876  0.1494825   0.32176759  0.28584684  0.68469861]\n"
     ]
    }
   ],
   "source": [
    "randint = np.random.randint(len(df))\n",
    "print(df.cdr3[randint])\n",
    "print(Encoding96(df.cdr3[randint]))"
   ]
  },
  {
   "cell_type": "markdown",
   "metadata": {},
   "source": [
    "Here we have actually embedded lower-dimensional data into a dense higher-dimensional vector. This is useful as we will likely have to use cosine similarity or euclidian distance downstream to create large matrices for our analysis"
   ]
  },
  {
   "cell_type": "code",
   "execution_count": 22,
   "metadata": {},
   "outputs": [
    {
     "name": "stdout",
     "output_type": "stream",
     "text": [
      "(38049, 96)\n",
      "(54722, 96)\n",
      "(30594, 96)\n"
     ]
    }
   ],
   "source": [
    "vectorised96_list = [[],[],[]]\n",
    "for num, sequences in enumerate(cdr_list):\n",
    "    for seq in sequences:\n",
    "        vectorised_data = Encoding96(seq)\n",
    "        vectorised96_list[num].append(vectorised_data)\n",
    "    vectorised96_list[num] = np.array(vectorised96_list[num])\n",
    "    print(vectorised96_list[num].shape)"
   ]
  },
  {
   "cell_type": "markdown",
   "metadata": {},
   "source": [
    "### K-mer embedding into vector space using a Word2Vec model - ideas developed by Yike\n",
    "https://github.com/UoB-DSMP-2023-24/dsmp-2024-group-12/blob/yike/data-processing.ipynb"
   ]
  },
  {
   "cell_type": "markdown",
   "metadata": {},
   "source": [
    "Using Word2Vec on amino acid sequences that have been broken down into k-mers can potentially capture certain sequence patterns and relationships."
   ]
  },
  {
   "cell_type": "code",
   "execution_count": 48,
   "metadata": {},
   "outputs": [
    {
     "name": "stdout",
     "output_type": "stream",
     "text": [
      "['CAS', 'ASS', 'SSS', 'SST', 'STA', 'TAQ', 'AQE', 'QET', 'ETQ', 'TQY', 'QYF']\n"
     ]
    },
    {
     "data": {
      "text/html": [
       "<div>\n",
       "<style scoped>\n",
       "    .dataframe tbody tr th:only-of-type {\n",
       "        vertical-align: middle;\n",
       "    }\n",
       "\n",
       "    .dataframe tbody tr th {\n",
       "        vertical-align: top;\n",
       "    }\n",
       "\n",
       "    .dataframe thead th {\n",
       "        text-align: right;\n",
       "    }\n",
       "</style>\n",
       "<table border=\"1\" class=\"dataframe\">\n",
       "  <thead>\n",
       "    <tr style=\"text-align: right;\">\n",
       "      <th></th>\n",
       "      <th>cdr3</th>\n",
       "      <th>kmers</th>\n",
       "    </tr>\n",
       "  </thead>\n",
       "  <tbody>\n",
       "    <tr>\n",
       "      <th>0</th>\n",
       "      <td>CIVRAPGRADMRF</td>\n",
       "      <td>[CIV, IVR, VRA, RAP, APG, PGR, GRA, RAD, ADM, ...</td>\n",
       "    </tr>\n",
       "    <tr>\n",
       "      <th>1</th>\n",
       "      <td>CASSYLPGQGDHYSNQPQHF</td>\n",
       "      <td>[CAS, ASS, SSY, SYL, YLP, LPG, PGQ, GQG, QGD, ...</td>\n",
       "    </tr>\n",
       "    <tr>\n",
       "      <th>2</th>\n",
       "      <td>CASSFEAGQGFFSNQPQHF</td>\n",
       "      <td>[CAS, ASS, SSF, SFE, FEA, EAG, AGQ, GQG, QGF, ...</td>\n",
       "    </tr>\n",
       "    <tr>\n",
       "      <th>3</th>\n",
       "      <td>CAVPSGAGSYQLTF</td>\n",
       "      <td>[CAV, AVP, VPS, PSG, SGA, GAG, AGS, GSY, SYQ, ...</td>\n",
       "    </tr>\n",
       "    <tr>\n",
       "      <th>4</th>\n",
       "      <td>CASSFEPGQGFYSNQPQHF</td>\n",
       "      <td>[CAS, ASS, SSF, SFE, FEP, EPG, PGQ, GQG, QGF, ...</td>\n",
       "    </tr>\n",
       "    <tr>\n",
       "      <th>...</th>\n",
       "      <td>...</td>\n",
       "      <td>...</td>\n",
       "    </tr>\n",
       "    <tr>\n",
       "      <th>92766</th>\n",
       "      <td>CASSPGQGGDNEQFF</td>\n",
       "      <td>[CAS, ASS, SSP, SPG, PGQ, GQG, QGG, GGD, GDN, ...</td>\n",
       "    </tr>\n",
       "    <tr>\n",
       "      <th>92767</th>\n",
       "      <td>CAPQGATNKLIF</td>\n",
       "      <td>[CAP, APQ, PQG, QGA, GAT, ATN, TNK, NKL, KLI, ...</td>\n",
       "    </tr>\n",
       "    <tr>\n",
       "      <th>92768</th>\n",
       "      <td>CASSLGAGGQETQYF</td>\n",
       "      <td>[CAS, ASS, SSL, SLG, LGA, GAG, AGG, GGQ, GQE, ...</td>\n",
       "    </tr>\n",
       "    <tr>\n",
       "      <th>92769</th>\n",
       "      <td>CLVGGSGGYNKLIF</td>\n",
       "      <td>[CLV, LVG, VGG, GGS, GSG, SGG, GGY, GYN, YNK, ...</td>\n",
       "    </tr>\n",
       "    <tr>\n",
       "      <th>92770</th>\n",
       "      <td>CASSSTAQETQYF</td>\n",
       "      <td>[CAS, ASS, SSS, SST, STA, TAQ, AQE, QET, ETQ, ...</td>\n",
       "    </tr>\n",
       "  </tbody>\n",
       "</table>\n",
       "<p>92771 rows × 2 columns</p>\n",
       "</div>"
      ],
      "text/plain": [
       "                       cdr3                                              kmers\n",
       "0             CIVRAPGRADMRF  [CIV, IVR, VRA, RAP, APG, PGR, GRA, RAD, ADM, ...\n",
       "1      CASSYLPGQGDHYSNQPQHF  [CAS, ASS, SSY, SYL, YLP, LPG, PGQ, GQG, QGD, ...\n",
       "2       CASSFEAGQGFFSNQPQHF  [CAS, ASS, SSF, SFE, FEA, EAG, AGQ, GQG, QGF, ...\n",
       "3            CAVPSGAGSYQLTF  [CAV, AVP, VPS, PSG, SGA, GAG, AGS, GSY, SYQ, ...\n",
       "4       CASSFEPGQGFYSNQPQHF  [CAS, ASS, SSF, SFE, FEP, EPG, PGQ, GQG, QGF, ...\n",
       "...                     ...                                                ...\n",
       "92766       CASSPGQGGDNEQFF  [CAS, ASS, SSP, SPG, PGQ, GQG, QGG, GGD, GDN, ...\n",
       "92767          CAPQGATNKLIF  [CAP, APQ, PQG, QGA, GAT, ATN, TNK, NKL, KLI, ...\n",
       "92768       CASSLGAGGQETQYF  [CAS, ASS, SSL, SLG, LGA, GAG, AGG, GGQ, GQE, ...\n",
       "92769        CLVGGSGGYNKLIF  [CLV, LVG, VGG, GGS, GSG, SGG, GGY, GYN, YNK, ...\n",
       "92770         CASSSTAQETQYF  [CAS, ASS, SSS, SST, STA, TAQ, AQE, QET, ETQ, ...\n",
       "\n",
       "[92771 rows x 2 columns]"
      ]
     },
     "execution_count": 48,
     "metadata": {},
     "output_type": "execute_result"
    }
   ],
   "source": [
    "def generate_kmers(sequence, k):\n",
    "    \"\"\"Generate k-mers for a given sequence.\"\"\"\n",
    "    return [sequence[i:i+k] for i in range(len(sequence)-k+1)]\n",
    "\n",
    "k=3 # change the k for kmers\n",
    "\n",
    "sentence=[]\n",
    "for seq in df['cdr3']:\n",
    "    temp=generate_kmers(seq,k)\n",
    "    sentence.append(temp)\n",
    "\n",
    "df['kmers']=pd.Series(sentence)\n",
    "print(df.kmers[92770])\n",
    "df[['cdr3','kmers']]"
   ]
  },
  {
   "cell_type": "markdown",
   "metadata": {},
   "source": [
    "The first step is to break down the amino acid sequences into k-mers. Each k-mer represents a contiguous sequence of k amino acids from the original protein sequence.\n",
    "\n",
    "Once the sequences have been converted into k-mers, Word2Vec can be applied to learn embeddings for these k-mers. Just as in natural language processing, Word2Vec would learn distributed representations for each k-mer based on its local sequence context within the amino acid sequences. The Word2Vec algorithm learns embeddings by considering the co-occurrence patterns of k-mers within the amino acid sequences. K-mers that frequently co-occur together in similar sequence contexts are likely to have similar embeddings. "
   ]
  },
  {
   "cell_type": "code",
   "execution_count": 119,
   "metadata": {},
   "outputs": [],
   "source": [
    "# convert the amino acid sequences in each set of chains into k-mers\n",
    "cdr3_kmer_list=[[],[],[]]\n",
    "for num, sequences in enumerate(cdr_list):\n",
    "    for seq in sequences:\n",
    "        temp=generate_kmers(seq, 3)\n",
    "        cdr3_kmer_list[num].append(temp)"
   ]
  },
  {
   "cell_type": "code",
   "execution_count": 120,
   "metadata": {},
   "outputs": [
    {
     "name": "stdout",
     "output_type": "stream",
     "text": [
      "CIVRAPGRADMRF\n",
      "['CIV', 'IVR', 'VRA', 'RAP', 'APG', 'PGR', 'GRA', 'RAD', 'ADM', 'DMR', 'MRF']\n",
      "[-0.8775784   0.66195333 -0.11130578  0.04566114  0.52557886  0.31289682\n",
      " -0.70100826 -0.21166557  0.2357985  -0.11367761 -0.41501573 -0.18474206\n",
      "  0.01995736 -0.63278407 -0.2170506   0.17021866 -1.1711421   0.5738979\n",
      " -0.35844252  0.5934097   0.804126    0.7696648   0.52892125  0.20828566\n",
      "  0.23365045 -0.33304036  0.6220529  -0.2440753   0.03063775  0.23697215\n",
      "  0.7814408   0.49574998  0.6134177   0.04440928 -0.01751915  0.42723656\n",
      " -0.29501975 -0.375118    0.4944887  -1.1193917  -0.8950432   0.20638618\n",
      " -0.76604843 -0.0436132  -1.0231403   0.54218674  0.03120079 -0.73428243\n",
      " -0.09925092  0.74980223  0.24157538  0.09886127  0.11589212 -0.15370859\n",
      "  0.65690523  0.57948047  0.5652928   0.6295833   0.12985308  0.6855288\n",
      " -0.16254753 -0.82311493  0.69161385 -0.00196876  0.95043796  0.18887757\n",
      "  0.29414937  0.3151341   0.6783876  -0.5551164   0.61287665 -0.1795733\n",
      " -0.16467035  0.5844128  -0.05094862 -0.21569367  0.13932171  0.05214604\n",
      " -0.60441357 -0.32135907 -0.5232613   0.53171444 -0.6578322   0.4423168\n",
      "  0.5272157  -0.7801225   0.07134657 -0.96358705 -0.2258218   0.09069762\n",
      "  0.5766151  -0.42186716  0.63342375 -0.4326924  -0.39873374 -0.46840096\n",
      "  0.3479618  -0.6665562  -0.60037494 -1.0296155 ]\n"
     ]
    }
   ],
   "source": [
    "from gensim.models import Word2Vec\n",
    "\n",
    "kmer_sentences = cdr3_kmer_list[0] + cdr3_kmer_list[1] + cdr3_kmer_list[2] #concatenate the k-mers into a single list\n",
    "#each nested list will act as sentence of kmers that corresponds to each amino acid sequence\n",
    "\n",
    "\n",
    "word2vec_model = Word2Vec(sentences=kmer_sentences, vector_size=100, window=5, min_count=1, workers=1, seed=1729)\n",
    "\n",
    "# Aggregate K-mer embeddings for each amino acid sequence\n",
    "word2vec_embeddings_list = [[],[],[]]\n",
    "for num, sequences in enumerate(cdr3_kmer_list):\n",
    "    for seq in sequences:\n",
    "        kmer_embeddings = [word2vec_model.wv[kmer] for kmer in seq]\n",
    "        sequence_embedding = np.mean(kmer_embeddings, axis=0)  # Average embeddings of K-mers\n",
    "        word2vec_embeddings_list[num].append(sequence_embedding)\n",
    "\n",
    "print(cdr_list[0][0])\n",
    "print(cdr3_kmer_list[0][0])\n",
    "print(word2vec_embeddings_list[0][0])"
   ]
  },
  {
   "cell_type": "markdown",
   "metadata": {},
   "source": [
    "### ProtVec embedding - developed by Mike Huang\n",
    "https://github.com/mikejhuang/PhageProtVec/blob/master/Protvec.ipynb"
   ]
  },
  {
   "cell_type": "markdown",
   "metadata": {},
   "source": [
    "ProtVec is a method for generating fixed-size vector representations (embeddings) of protein sequences.\n",
    "It is inspired by the Word2Vec approach used in natural language processing, where words are embedded into continuous vector space.\n",
    "ProtVec has learned vector representations of amino acid sequences by considering the surrounding amino acids within a fixed-size window.\n",
    "These embeddings capture the semantic and functional information of protein sequences and can be used for various downstream tasks in bioinformatics."
   ]
  },
  {
   "cell_type": "code",
   "execution_count": 121,
   "metadata": {},
   "outputs": [],
   "source": [
    "import csv\n",
    "\n",
    "#Load Ehsan Asgari's embeddings\n",
    "#Embedding: https://github.com/ehsanasgari/Deep-Proteomics\n",
    "embedding =  []\n",
    "with open(\"protVec_100d_3grams.csv\") as tsvfile:\n",
    "    tsvreader = csv.reader(tsvfile, delimiter=\"\\t\")\n",
    "    for line in tsvreader:\n",
    "        embedding.append(line[0].split('\\t'))\n",
    "threemers = [vec[0] for vec in embedding]\n",
    "embeddingMatrix = [[float(n) for n in vec[1:]] for vec in embedding]\n",
    "threemersidx = {} #generate word to index translation dictionary. Use for kmersdict function arguments.\n",
    "for i, kmer in enumerate(threemers):\n",
    "    threemersidx[kmer] = i"
   ]
  },
  {
   "cell_type": "markdown",
   "metadata": {},
   "source": [
    "The embedding file has dimensions of 9048 x 100. 9048 represents one for each possible 3-mer. 100 is the size of the vector representation for each 3-mer. The embedding matrix is a lookup table to get the vector for a given 3-mer. 3-mers not in the table are represented by unk. \n",
    "\n",
    "To generate ProtVecs from embedding for a given protein sequence:\n",
    "\n",
    "We convert sequences to three lists of non-overlapping 3-mer words \n",
    "\n",
    "https://www.researchgate.net/profile/Mohammad-Mofrad/publication/283644387/figure/fig4/AS:341292040114179@1458381771303/Protein-sequence-splitting-In-order-to-prepare-the-training-data-each-protein-sequence.png\n",
    "\n",
    "Convert kmers to vectors by taking the dot product of its one hot vector with the embedding matrix which finds all the vector reprsenetation of all kmers\n",
    "\n",
    "Sum up all vectors for all kmers to form a single vector representation for a protein (length 100)"
   ]
  },
  {
   "cell_type": "code",
   "execution_count": 122,
   "metadata": {},
   "outputs": [],
   "source": [
    "def protvec(seq, kmersdict, embeddingweights):\n",
    "    \n",
    "    def kmerlists(seq):\n",
    "        kmer0, kmer1, kmer2 = [], [], []\n",
    "        for i in range(0,len(seq)-2,3):\n",
    "            if len(seq[i:i+3]) == 3:\n",
    "                kmer0.append(seq[i:i+3])\n",
    "            i+=1\n",
    "            if len(seq[i:i+3]) == 3:\n",
    "                kmer1.append(seq[i:i+3])\n",
    "            i+=1\n",
    "            if len(seq[i:i+3]) == 3:\n",
    "                kmer2.append(seq[i:i+3])\n",
    "        return [kmer0,kmer1,kmer2]\n",
    "    \n",
    "    #Convert seq to three lists of kmers \n",
    "    kmerlist = kmerlists(seq)\n",
    "    #Flatten kmerlist and initialise kmersvec list of length 100 filled with zeros used to accumulate the vector representations of the k-mers.\n",
    "    kmerlist = [j for i in kmerlist for j in i]\n",
    "    kmersvec = [0]*100\n",
    "    #retrieves the vector representation (embedding) of k-mers from a dictionary\n",
    "    for kmer in kmerlist:\n",
    "        try:\n",
    "            #adds the obtained vector representation to kmersvec, accumulating the embeddings of all processed k-mers.\n",
    "            kmersvec = np.add(kmersvec,embeddingweights[kmersdict[kmer]])\n",
    "        except:\n",
    "            kmersvec = np.add(kmersvec,embeddingweights[kmersdict['<unk>']])\n",
    "    return kmersvec\n",
    "\n"
   ]
  },
  {
   "cell_type": "code",
   "execution_count": 123,
   "metadata": {},
   "outputs": [
    {
     "name": "stdout",
     "output_type": "stream",
     "text": [
      "CASTPEYGYTF\n",
      "[-5.469710e-01 -3.819680e-01 -5.795700e-02 -3.349020e-01 -1.291490e-01\n",
      " -6.327920e-01 -2.514430e-01 -3.309700e-01  2.330630e-01  6.417390e-01\n",
      " -6.292150e-01 -8.999800e-02  5.358970e-01 -6.505150e-01 -1.150440e-01\n",
      "  7.154050e-01 -2.229590e-01 -2.136560e-01 -4.720980e-01 -5.906040e-01\n",
      " -1.327050e-01 -7.469690e-01 -8.959810e-01  7.223310e-01  4.982680e-01\n",
      "  4.424400e-02 -3.197950e-01 -5.629430e-01 -1.600300e-02 -2.975870e-01\n",
      " -4.190930e-01 -4.667260e-01  6.771790e-01  5.740000e-04  6.082910e-01\n",
      " -4.383200e-02 -1.374890e-01  4.986440e-01  8.499740e-01 -2.019580e-01\n",
      " -4.446050e-01  1.920880e-01  4.103900e-01  9.071140e-01 -2.817820e-01\n",
      "  6.988300e-02 -2.662750e-01  8.763300e-02  5.948600e-02  4.049290e-01\n",
      " -6.839890e-01 -2.840900e-01 -1.451410e-01 -8.189750e-01 -3.010280e-01\n",
      " -5.832580e-01  3.277090e-01  2.288730e-01 -3.792340e-01 -7.045060e-01\n",
      "  3.507840e-01  6.714300e-01 -5.330000e-02 -7.241030e-01  4.998500e-01\n",
      "  3.528420e-01 -5.340720e-01 -3.393300e-02  6.327300e-01  5.420000e-02\n",
      " -1.921300e-01  1.094410e-01 -3.066060e-01  2.426350e-01 -1.073150e+00\n",
      " -3.307920e-01  3.479800e-01 -3.814090e-01  8.043900e-02 -5.744100e-02\n",
      "  2.102810e-01 -6.135220e-01  2.501130e-01 -2.384430e-01  1.707000e-02\n",
      " -5.329800e-01 -5.909580e-01 -2.563480e-01 -1.666820e-01 -3.248270e-01\n",
      " -3.118270e-01  1.436060e-01 -3.119330e-01  1.941710e-01  9.339100e-02\n",
      "  9.131780e-01 -3.808260e-01 -1.207008e+00  2.271710e-01  6.489020e-01]\n"
     ]
    }
   ],
   "source": [
    "randint = np.random.randint(len(df))\n",
    "print(df.cdr3[randint])\n",
    "print(protvec(df.cdr3[randint], threemersidx, embeddingMatrix))"
   ]
  },
  {
   "cell_type": "markdown",
   "metadata": {},
   "source": [
    "This vector representation of an amino acid in theory can be widely used in applications of deep learning in proteomics and genomics. Biovectors are basically n-gram character skip-gram wordvectors for biological sequences (DNA, RNA, and Protein). http://journals.plos.org/plosone/article?id=10.1371/journal.pone.0141287"
   ]
  },
  {
   "cell_type": "code",
   "execution_count": 125,
   "metadata": {},
   "outputs": [
    {
     "name": "stdout",
     "output_type": "stream",
     "text": [
      "(38049, 100)\n",
      "(54722, 100)\n",
      "(30594, 100)\n"
     ]
    }
   ],
   "source": [
    "protvec_embeddings_list = [[],[],[]]\n",
    "for num, sequences in enumerate(cdr_list):\n",
    "    for seq in sequences:\n",
    "        protvec_embedding = protvec(seq, threemersidx, embeddingMatrix)\n",
    "        protvec_embeddings_list[num].append(protvec_embedding)\n",
    "    protvec_embeddings_list[num] = np.array(protvec_embeddings_list[num])\n",
    "    print(protvec_embeddings_list[num].shape)\n"
   ]
  },
  {
   "cell_type": "markdown",
   "metadata": {},
   "source": []
  }
 ],
 "metadata": {
  "kernelspec": {
   "display_name": "base",
   "language": "python",
   "name": "python3"
  },
  "language_info": {
   "codemirror_mode": {
    "name": "ipython",
    "version": 3
   },
   "file_extension": ".py",
   "mimetype": "text/x-python",
   "name": "python",
   "nbconvert_exporter": "python",
   "pygments_lexer": "ipython3",
   "version": "3.11.4"
  }
 },
 "nbformat": 4,
 "nbformat_minor": 2
}
